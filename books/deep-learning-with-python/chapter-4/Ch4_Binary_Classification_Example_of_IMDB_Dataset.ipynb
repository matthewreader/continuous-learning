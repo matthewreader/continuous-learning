{
 "cells": [
  {
   "cell_type": "markdown",
   "metadata": {
    "id": "IcMz6NYlYpqQ"
   },
   "source": [
    "# 4.1 - Binary Classification Example of IMDB Dataset\n",
    "\n",
    "* [4.1.1 - The IMDB Dataset](#first-bullet)\n",
    "* [4.1.2 - Preparing the Data](#second-bullet)\n",
    "* [4.1.3 - Building Your Model](#third-bullet)\n",
    "* [4.1.4 - Validating Your Approach](#fourth-bullet)\n",
    "* [4.1.5 - Using a Trained Model to Generate Predictions on New Data](#fifth-bullet)\n",
    "* [4.1.6 - Furthe Experiments](#sixth-bullet)\r\n",
    "\r\n",
    "Use the pre-packaged Keras IMDB dataset to create a basic binary classifier."
   ]
  },
  {
   "cell_type": "markdown",
   "metadata": {
    "id": "oJTXVhmPZKiy"
   },
   "source": [
    "## 4.1.1 - The IMDB Dataset <a class=\"anchor\" id=\"first-bullet\"></a>"
   ]
  },
  {
   "cell_type": "code",
   "execution_count": 1,
   "metadata": {
    "colab": {
     "base_uri": "https://localhost:8080/"
    },
    "id": "Qav9mI44YOso",
    "outputId": "52636d07-a331-49c3-946e-69016884a9af"
   },
   "outputs": [],
   "source": [
    "from tensorflow.keras.datasets import imdb\r\n",
    "(train_data, train_labels), (test_data, test_labels) = imdb.load_data(\r\n",
    "    num_words=10000)"
   ]
  },
  {
   "cell_type": "markdown",
   "metadata": {
    "id": "8sDsrkV_Z32U"
   },
   "source": [
    "Words have already been encoded to integers, and our labels are encoded as either 0 for a negative review, or 1 for a positive review"
   ]
  },
  {
   "cell_type": "code",
   "execution_count": 2,
   "metadata": {
    "colab": {
     "base_uri": "https://localhost:8080/"
    },
    "id": "YKRA-ryqYT9x",
    "outputId": "5045dbe0-6ead-4468-fe9d-c336962c644f"
   },
   "outputs": [
    {
     "name": "stdout",
     "output_type": "stream",
     "text": [
      "[1, 14, 22, 16, 43, 530, 973, 1622, 1385, 65, 458, 4468, 66, 3941, 4, 173, 36, 256, 5, 25, 100, 43, 838, 112, 50, 670, 2, 9, 35, 480, 284, 5, 150, 4, 172, 112, 167, 2, 336, 385, 39, 4, 172, 4536, 1111, 17, 546, 38, 13, 447, 4, 192, 50, 16, 6, 147, 2025, 19, 14, 22, 4, 1920, 4613, 469, 4, 22, 71, 87, 12, 16, 43, 530, 38, 76, 15, 13, 1247, 4, 22, 17, 515, 17, 12, 16, 626, 18, 2, 5, 62, 386, 12, 8, 316, 8, 106, 5, 4, 2223, 5244, 16, 480, 66, 3785, 33, 4, 130, 12, 16, 38, 619, 5, 25, 124, 51, 36, 135, 48, 25, 1415, 33, 6, 22, 12, 215, 28, 77, 52, 5, 14, 407, 16, 82, 2, 8, 4, 107, 117, 5952, 15, 256, 4, 2, 7, 3766, 5, 723, 36, 71, 43, 530, 476, 26, 400, 317, 46, 7, 4, 2, 1029, 13, 104, 88, 4, 381, 15, 297, 98, 32, 2071, 56, 26, 141, 6, 194, 7486, 18, 4, 226, 22, 21, 134, 476, 26, 480, 5, 144, 30, 5535, 18, 51, 36, 28, 224, 92, 25, 104, 4, 226, 65, 16, 38, 1334, 88, 12, 16, 283, 5, 16, 4472, 113, 103, 32, 15, 16, 5345, 19, 178, 32]\n",
      "1\n"
     ]
    }
   ],
   "source": [
    "print(train_data[0])\r\n",
    "print(train_labels[0])"
   ]
  },
  {
   "cell_type": "markdown",
   "metadata": {
    "id": "4mcwWTg_bLvE"
   },
   "source": [
    "Our index of words should not exceed 10,000 since we are only encoding the top 10,000 words."
   ]
  },
  {
   "cell_type": "code",
   "execution_count": 3,
   "metadata": {
    "colab": {
     "base_uri": "https://localhost:8080/"
    },
    "id": "UkGlYunCZyCU",
    "outputId": "bf5dbb58-d534-4cd3-cb4c-492b5b80ee1d"
   },
   "outputs": [
    {
     "name": "stdout",
     "output_type": "stream",
     "text": [
      "9999\n"
     ]
    }
   ],
   "source": [
    "print(max([max(sequence) for sequence in train_data]))"
   ]
  },
  {
   "cell_type": "markdown",
   "metadata": {
    "id": "USoj75WGcybx"
   },
   "source": [
    "Reviews can be translated back into their original text using the word index that was created for the IMDB reviews.  \r\n",
    "\r\n",
    "The original word index is stored as a dictionary with the word as key, and integer as value `{'fawn': 34701, 'tsukino': 52006 ... }`.  These key-value pairs are reversed to make translation easier with the Python dictionary `get()`  method."
   ]
  },
  {
   "cell_type": "code",
   "execution_count": 4,
   "metadata": {
    "colab": {
     "base_uri": "https://localhost:8080/"
    },
    "id": "4eh3gRcnbiHa",
    "outputId": "42e2482a-d9f4-45cd-c0bb-ae7b32530226"
   },
   "outputs": [
    {
     "name": "stdout",
     "output_type": "stream",
     "text": [
      "? this film was just brilliant casting location scenery story direction everyone's really suited the part they played and you could just imagine being there robert ? is an amazing actor and now the same being director ? father came from the same scottish island as myself so i loved the fact there was a real connection with this film the witty remarks throughout the film were great it was just brilliant so much that i bought the film as soon as it was released for ? and would recommend it to everyone to watch and the fly fishing was amazing really cried at the end it was so sad and you know what they say if you cry at a film it must have been good and this definitely was also ? to the two little boy's that played the ? of norman and paul they were just brilliant children are often left out of the ? list i think because the stars that play them all grown up are such a big profile for the whole film but these children are amazing and should be praised for what they have done don't you think the whole story was so lovely because it was true and was someone's life after all that was shared with us all\n"
     ]
    }
   ],
   "source": [
    "word_index = imdb.get_word_index()\r\n",
    "reverse_word_index = dict(\r\n",
    "    [(value, key) for (key, value) in word_index.items()])\r\n",
    "decoded_review = ' '.join(\r\n",
    "    [reverse_word_index.get(i - 3, '?') for i in train_data[0]])\r\n",
    "print(decoded_review)"
   ]
  },
  {
   "cell_type": "markdown",
   "metadata": {
    "id": "CTETNT7Rfmnk"
   },
   "source": [
    "Why are we translating with `get(i - 3)` instead of `get(i)`?  The book does not really say, but the reason is in the documentation of the [tf.keras.datasets.imdb.get_word_index()](https://keras.io/api/datasets/imdb/#get_word_index-function) function.\r\n",
    "\r\n",
    "Basically, values of 1, 2, and 3 in our encoded reviews are used to represent \"padding\", the start of a sequence, and any unknown or non-encoded word, respectively.   Our word index still starts at 1 (`{1:'the' ... }`, so everything is offset by 3 and needs to be corrected for our review to make any sense..\r\n",
    "\r\n"
   ]
  },
  {
   "cell_type": "code",
   "execution_count": 5,
   "metadata": {
    "colab": {
     "base_uri": "https://localhost:8080/"
    },
    "id": "sFFfucuZcSbL",
    "outputId": "5f92f19e-3382-4470-fc41-ca38d896018a"
   },
   "outputs": [
    {
     "name": "stdout",
     "output_type": "stream",
     "text": [
      "the as you with out themselves powerful lets loves their becomes reaching had journalist of lot from anyone to have after out atmosphere never more room and it so heart shows to years of every never going and help moments or of every chest visual movie except her was several of enough more with is now current film as you of mine potentially unfortunately of you than him that with out themselves her get for was camp of you movie sometimes movie that with scary but and to story wonderful that in seeing in character to of 70s musicians with heart had shadows they of here that with her serious to have does when from why what have critics they is you that isn't one will very to as itself with other and in of seen over landed for anyone of and br show's to whether from than out themselves history he name half some br of and odd was two most of mean for 1 any an boat she he should is thought frog but of script you not while history he heart to real at barrel but when from one bit then have two of script their with her nobody most that with wasn't to with armed acting watch an for with heartfelt film want an\n"
     ]
    }
   ],
   "source": [
    "# Using .get(i, '?') instead of .get(i - 3, '?') produces gibberish.\r\n",
    "gibberish_review = ' '.join(\r\n",
    "    [reverse_word_index.get(i, '?') for i in train_data[0]])\r\n",
    "print(gibberish_review)"
   ]
  },
  {
   "cell_type": "markdown",
   "metadata": {
    "id": "OSqv_MMrkLN3"
   },
   "source": [
    "## 4.1.2 - Preparing the Data <a class=\"anchor\" id=\"second-bullet\"></a>\n",
    "\n",
    "First explore manually preparing the data using one-hot encoding.  The code below will one-hot encode our lists to turn them into vectors of 0s and 1s of length `dimension`.  In this example dimension is 10,000 since we encoded only the top 10,000 words in the step above.\n",
    "\n",
    "The value at index i for each vector will be 1 if the encoded value is present in our sequence.  For example, if the word encoded by the number 9 is present in our original sequence, then i=9 of our vector will equal 1."
   ]
  },
  {
   "cell_type": "code",
   "execution_count": 6,
   "metadata": {
    "id": "sIMaRfmLhl7y"
   },
   "outputs": [
    {
     "data": {
      "text/plain": [
       "array([0., 1., 1., ..., 0., 0., 0.])"
      ]
     },
     "execution_count": 6,
     "metadata": {},
     "output_type": "execute_result"
    }
   ],
   "source": [
    "import numpy as np\n",
    "def vectorize_sequences(sequences, dimension=10000):\n",
    "    results = np.zeros((len(sequences), dimension))\n",
    "    for i, sequence in enumerate(sequences):\n",
    "        results[i, sequence] = 1.\n",
    "    return results\n",
    "x_train = vectorize_sequences(train_data)\n",
    "x_test = vectorize_sequences(test_data)\n",
    "\n",
    "# Vectorize the test and training data for our model\n",
    "y_train = np.asarray(train_labels).astype('float32')\n",
    "y_test = np.asarray(test_labels).astype('float32')\n",
    "\n",
    "x_train[0]"
   ]
  },
  {
   "cell_type": "markdown",
   "metadata": {},
   "source": [
    "## 4.1.3  Building Your Model <a class=\"anchor\" id=\"third-bullet\"></a>\n",
    "\n",
    "Our inital model will have two `Dense` layers with 16 units that use the relu activation function, and one final Dense layer with 1 unit for our binary classification."
   ]
  },
  {
   "cell_type": "code",
   "execution_count": 7,
   "metadata": {},
   "outputs": [],
   "source": [
    "from tensorflow import keras\n",
    "\n",
    "model = keras.Sequential([\n",
    "  keras.layers.Dense(16, activation='relu'),\n",
    "  keras.layers.Dense(16, activation='relu'),\n",
    "  keras.layers.Dense(1, activation='sigmoid')\n",
    "])"
   ]
  },
  {
   "cell_type": "markdown",
   "metadata": {},
   "source": [
    "We need an optimizer and loss function to compile our model.  Binary Crossentropy is used for our loss function because the output of our final layer is a probability between 0 and 1 and we are prediction two classes (positive or negative movie review).  RMSProp is used for our optimizer as an arbitrary starting point."
   ]
  },
  {
   "cell_type": "code",
   "execution_count": 8,
   "metadata": {},
   "outputs": [],
   "source": [
    "model.compile(optimizer='rmsprop',\n",
    "              loss='binary_crossentropy',\n",
    "              metrics=['accuracy'])"
   ]
  },
  {
   "cell_type": "markdown",
   "metadata": {},
   "source": [
    "## 4.1.4 - Validating Your Approach <a class=\"anchor\" id=\"fourth-bullet\"></a>\n",
    "\n",
    "Our data will be split into a test and train data set to evaluate our model performance.  High accuracy on our training data set and poor accuracy on our validation set indicates that we may be overfitting the model."
   ]
  },
  {
   "cell_type": "code",
   "execution_count": 9,
   "metadata": {},
   "outputs": [],
   "source": [
    "x_val = x_train[:10000]\n",
    "partial_x_train = x_train[10000:]\n",
    "y_val = y_train[:10000]\n",
    "partial_y_train = y_train[10000:]"
   ]
  },
  {
   "cell_type": "code",
   "execution_count": 10,
   "metadata": {},
   "outputs": [
    {
     "name": "stdout",
     "output_type": "stream",
     "text": [
      "Epoch 1/20\n",
      "30/30 [==============================] - 3s 109ms/step - loss: 0.5240 - accuracy: 0.7982 - val_loss: 0.4053 - val_accuracy: 0.8667\n",
      "Epoch 2/20\n",
      "30/30 [==============================] - 1s 30ms/step - loss: 0.3221 - accuracy: 0.9023 - val_loss: 0.3191 - val_accuracy: 0.8816\n",
      "Epoch 3/20\n",
      "30/30 [==============================] - 1s 28ms/step - loss: 0.2360 - accuracy: 0.9257 - val_loss: 0.2815 - val_accuracy: 0.8921\n",
      "Epoch 4/20\n",
      "30/30 [==============================] - 1s 25ms/step - loss: 0.1839 - accuracy: 0.9406 - val_loss: 0.2725 - val_accuracy: 0.8906\n",
      "Epoch 5/20\n",
      "30/30 [==============================] - 1s 24ms/step - loss: 0.1500 - accuracy: 0.9526 - val_loss: 0.2762 - val_accuracy: 0.8880\n",
      "Epoch 6/20\n",
      "30/30 [==============================] - 1s 23ms/step - loss: 0.1224 - accuracy: 0.9625 - val_loss: 0.2895 - val_accuracy: 0.8866\n",
      "Epoch 7/20\n",
      "30/30 [==============================] - 1s 23ms/step - loss: 0.1022 - accuracy: 0.9696 - val_loss: 0.3064 - val_accuracy: 0.8840\n",
      "Epoch 8/20\n",
      "30/30 [==============================] - 1s 24ms/step - loss: 0.0855 - accuracy: 0.9757 - val_loss: 0.3408 - val_accuracy: 0.8793\n",
      "Epoch 9/20\n",
      "30/30 [==============================] - 1s 23ms/step - loss: 0.0693 - accuracy: 0.9810 - val_loss: 0.3438 - val_accuracy: 0.8808\n",
      "Epoch 10/20\n",
      "30/30 [==============================] - 1s 24ms/step - loss: 0.0571 - accuracy: 0.9855 - val_loss: 0.3803 - val_accuracy: 0.8743\n",
      "Epoch 11/20\n",
      "30/30 [==============================] - 1s 23ms/step - loss: 0.0478 - accuracy: 0.9888 - val_loss: 0.3932 - val_accuracy: 0.8783\n",
      "Epoch 12/20\n",
      "30/30 [==============================] - 1s 23ms/step - loss: 0.0393 - accuracy: 0.9914 - val_loss: 0.4216 - val_accuracy: 0.8776\n",
      "Epoch 13/20\n",
      "30/30 [==============================] - 1s 23ms/step - loss: 0.0309 - accuracy: 0.9930 - val_loss: 0.4599 - val_accuracy: 0.8718\n",
      "Epoch 14/20\n",
      "30/30 [==============================] - 1s 22ms/step - loss: 0.0239 - accuracy: 0.9958 - val_loss: 0.4856 - val_accuracy: 0.8726\n",
      "Epoch 15/20\n",
      "30/30 [==============================] - 1s 22ms/step - loss: 0.0213 - accuracy: 0.9957 - val_loss: 0.5165 - val_accuracy: 0.8707\n",
      "Epoch 16/20\n",
      "30/30 [==============================] - 1s 23ms/step - loss: 0.0152 - accuracy: 0.9983 - val_loss: 0.5807 - val_accuracy: 0.8622\n",
      "Epoch 17/20\n",
      "30/30 [==============================] - 1s 23ms/step - loss: 0.0103 - accuracy: 0.9997 - val_loss: 0.6037 - val_accuracy: 0.8621\n",
      "Epoch 18/20\n",
      "30/30 [==============================] - 1s 23ms/step - loss: 0.0109 - accuracy: 0.9988 - val_loss: 0.6088 - val_accuracy: 0.8682\n",
      "Epoch 19/20\n",
      "30/30 [==============================] - 1s 23ms/step - loss: 0.0058 - accuracy: 0.9997 - val_loss: 0.6762 - val_accuracy: 0.8639\n",
      "Epoch 20/20\n",
      "30/30 [==============================] - 1s 22ms/step - loss: 0.0078 - accuracy: 0.9991 - val_loss: 0.6820 - val_accuracy: 0.8650\n"
     ]
    }
   ],
   "source": [
    "history = model.fit(partial_x_train,\n",
    "                    partial_y_train,\n",
    "                    epochs=20,\n",
    "                    batch_size=512,\n",
    "                    validation_data=(x_val, y_val))"
   ]
  },
  {
   "cell_type": "code",
   "execution_count": 11,
   "metadata": {},
   "outputs": [
    {
     "data": {
      "image/png": "[encoded data removed]",
      "text/plain": [
       "<Figure size 432x288 with 1 Axes>"
      ]
     },
     "metadata": {
      "needs_background": "light"
     },
     "output_type": "display_data"
    }
   ],
   "source": [
    "import matplotlib.pyplot as plt\n",
    "history_dict = history.history\n",
    "loss_values = history_dict['loss']\n",
    "val_loss_values = history_dict['val_loss']\n",
    "epochs = range(1, len(loss_values) + 1)\n",
    "plt.plot(epochs, loss_values, 'bo', label='Training loss')\n",
    "plt.plot(epochs, val_loss_values, 'b', label='Validation loss')\n",
    "plt.title('Training and validation loss')\n",
    "plt.xlabel('Epochs')\n",
    "plt.ylabel('Loss')\n",
    "plt.legend()\n",
    "plt.show()"
   ]
  },
  {
   "cell_type": "code",
   "execution_count": 12,
   "metadata": {},
   "outputs": [
    {
     "data": {
      "image/png": "[encoded data removed]",
      "text/plain": [
       "<Figure size 432x288 with 1 Axes>"
      ]
     },
     "metadata": {
      "needs_background": "light"
     },
     "output_type": "display_data"
    }
   ],
   "source": [
    "plt.clf()\n",
    "acc = history_dict['accuracy']\n",
    "val_acc = history_dict['val_accuracy']\n",
    "plt.plot(epochs, acc, 'bo', label='Training accuracy')\n",
    "plt.plot(epochs, val_acc, 'b', label='Validation accuracy')\n",
    "plt.title('Training and validation accuracy')\n",
    "plt.xlabel('Epochs')\n",
    "plt.ylabel('Accuracy')\n",
    "plt.legend()\n",
    "plt.show()"
   ]
  },
  {
   "cell_type": "markdown",
   "metadata": {},
   "source": [
    "Based on our graph of training and validation loss, we are likely overfitting our data to the training data.  This is indicated by a steady decrease of loss for our training data, but an increase in loss after approximately epoch 4 in our validation data set.  \n",
    "\n",
    "Similarly, our model accuracy steadily increases on our training data, but has no increase in accuracy past epoch 4-5.  \n",
    "\n",
    "Train the network with 4 epochs instead of 20."
   ]
  },
  {
   "cell_type": "code",
   "execution_count": 13,
   "metadata": {},
   "outputs": [
    {
     "name": "stdout",
     "output_type": "stream",
     "text": [
      "Epoch 1/4\n",
      "49/49 [==============================] - 1s 17ms/step - loss: 0.2291 - accuracy: 0.9460\n",
      "Epoch 2/4\n",
      "49/49 [==============================] - 1s 17ms/step - loss: 0.1367 - accuracy: 0.9601\n",
      "Epoch 3/4\n",
      "49/49 [==============================] - 1s 18ms/step - loss: 0.1077 - accuracy: 0.9675\n",
      "Epoch 4/4\n",
      "49/49 [==============================] - 1s 16ms/step - loss: 0.0871 - accuracy: 0.9737\n",
      "782/782 [==============================] - 1s 2ms/step - loss: 0.4837 - accuracy: 0.8608\n"
     ]
    },
    {
     "data": {
      "text/plain": [
       "[0.48365893959999084, 0.86080002784729]"
      ]
     },
     "execution_count": 13,
     "metadata": {},
     "output_type": "execute_result"
    }
   ],
   "source": [
    "model.compile(optimizer='rmsprop',\n",
    "              loss='binary_crossentropy',\n",
    "              metrics=['accuracy'])\n",
    "model.fit(x_train, y_train, epochs=4, batch_size=512)\n",
    "results = model.evaluate(x_test, y_test)\n",
    "results"
   ]
  },
  {
   "cell_type": "markdown",
   "metadata": {},
   "source": [
    "## 4.1.5 - Using a Trained Model to Generate Predictions on New Data <a class=\"anchor\" id=\"fifth-bullet\"></a>"
   ]
  },
  {
   "cell_type": "markdown",
   "metadata": {},
   "source": [
    "We can get the probability of a review being positive by using the `predict` method of our model."
   ]
  },
  {
   "cell_type": "code",
   "execution_count": 14,
   "metadata": {},
   "outputs": [
    {
     "data": {
      "text/plain": [
       "array([[0.01364282],\n",
       "       [0.9999832 ],\n",
       "       [0.47820464],\n",
       "       ...,\n",
       "       [0.0592548 ],\n",
       "       [0.04946777],\n",
       "       [0.81372494]], dtype=float32)"
      ]
     },
     "execution_count": 14,
     "metadata": {},
     "output_type": "execute_result"
    }
   ],
   "source": [
    "model.predict(x_test)"
   ]
  },
  {
   "cell_type": "markdown",
   "metadata": {},
   "source": [
    "## 4.1.6 - Further Experiments <a class=\"anchor\" id=\"fourth-bullet\"></a>"
   ]
  },
  {
   "cell_type": "markdown",
   "metadata": {},
   "source": [
    "Our original model used 32 units in our representation layers.  What would happen if we kept all other parameters the same as our first model, but increased the number of units to 128?"
   ]
  },
  {
   "cell_type": "code",
   "execution_count": 15,
   "metadata": {},
   "outputs": [
    {
     "name": "stdout",
     "output_type": "stream",
     "text": [
      "Epoch 1/20\n",
      "30/30 [==============================] - 2s 82ms/step - loss: 0.4952 - accuracy: 0.7609 - val_loss: 0.3153 - val_accuracy: 0.8775\n",
      "Epoch 2/20\n",
      "30/30 [==============================] - 2s 52ms/step - loss: 0.2599 - accuracy: 0.8998 - val_loss: 0.2861 - val_accuracy: 0.8856\n",
      "Epoch 3/20\n",
      "30/30 [==============================] - 2s 50ms/step - loss: 0.1655 - accuracy: 0.9391 - val_loss: 0.2826 - val_accuracy: 0.8867\n",
      "Epoch 4/20\n",
      "30/30 [==============================] - 2s 54ms/step - loss: 0.1159 - accuracy: 0.9595 - val_loss: 0.3157 - val_accuracy: 0.8860\n",
      "Epoch 5/20\n",
      "30/30 [==============================] - 2s 50ms/step - loss: 0.0899 - accuracy: 0.9729 - val_loss: 0.3833 - val_accuracy: 0.8806\n",
      "Epoch 6/20\n",
      "30/30 [==============================] - 2s 58ms/step - loss: 0.0730 - accuracy: 0.9777 - val_loss: 0.3820 - val_accuracy: 0.8830\n",
      "Epoch 7/20\n",
      "30/30 [==============================] - 2s 51ms/step - loss: 0.0150 - accuracy: 0.9975 - val_loss: 1.0203 - val_accuracy: 0.7982\n",
      "Epoch 8/20\n",
      "30/30 [==============================] - 1s 49ms/step - loss: 0.0610 - accuracy: 0.9859 - val_loss: 0.4802 - val_accuracy: 0.8825\n",
      "Epoch 9/20\n",
      "30/30 [==============================] - 2s 53ms/step - loss: 0.0038 - accuracy: 0.9998 - val_loss: 0.5953 - val_accuracy: 0.8789\n",
      "Epoch 10/20\n",
      "30/30 [==============================] - 2s 57ms/step - loss: 0.0888 - accuracy: 0.9853 - val_loss: 0.5553 - val_accuracy: 0.8795\n",
      "Epoch 11/20\n",
      "30/30 [==============================] - 1s 49ms/step - loss: 0.0013 - accuracy: 1.0000 - val_loss: 0.6092 - val_accuracy: 0.8809\n",
      "Epoch 12/20\n",
      "30/30 [==============================] - 1s 49ms/step - loss: 5.9689e-04 - accuracy: 1.0000 - val_loss: 0.6888 - val_accuracy: 0.8802\n",
      "Epoch 13/20\n",
      "30/30 [==============================] - 2s 51ms/step - loss: 2.7871e-04 - accuracy: 1.0000 - val_loss: 0.7762 - val_accuracy: 0.8789\n",
      "Epoch 14/20\n",
      "30/30 [==============================] - 1s 49ms/step - loss: 0.0877 - accuracy: 0.9876 - val_loss: 0.7622 - val_accuracy: 0.8760\n",
      "Epoch 15/20\n",
      "30/30 [==============================] - 1s 49ms/step - loss: 1.7337e-04 - accuracy: 1.0000 - val_loss: 0.7740 - val_accuracy: 0.8791\n",
      "Epoch 16/20\n",
      "30/30 [==============================] - 1s 49ms/step - loss: 1.0427e-04 - accuracy: 1.0000 - val_loss: 0.8138 - val_accuracy: 0.8786\n",
      "Epoch 17/20\n",
      "30/30 [==============================] - 2s 52ms/step - loss: 6.4169e-05 - accuracy: 1.0000 - val_loss: 0.8727 - val_accuracy: 0.8789\n",
      "Epoch 18/20\n",
      "30/30 [==============================] - 1s 48ms/step - loss: 3.3356e-05 - accuracy: 1.0000 - val_loss: 0.9539 - val_accuracy: 0.8780\n",
      "Epoch 19/20\n",
      "30/30 [==============================] - 1s 48ms/step - loss: 1.4286e-05 - accuracy: 1.0000 - val_loss: 1.0719 - val_accuracy: 0.8756\n",
      "Epoch 20/20\n",
      "30/30 [==============================] - 1s 46ms/step - loss: 4.7300e-06 - accuracy: 1.0000 - val_loss: 1.1650 - val_accuracy: 0.8752\n"
     ]
    }
   ],
   "source": [
    "model = keras.Sequential([\n",
    "  keras.layers.Dense(128, activation='relu'),\n",
    "  keras.layers.Dense(128, activation='relu'),\n",
    "  keras.layers.Dense(1, activation='sigmoid')\n",
    "])\n",
    "\n",
    "model.compile(optimizer='rmsprop',\n",
    "              loss='binary_crossentropy',\n",
    "              metrics=['accuracy'])\n",
    "\n",
    "history = model.fit(partial_x_train,\n",
    "                    partial_y_train,\n",
    "                    epochs=20,\n",
    "                    batch_size=512,\n",
    "                    validation_data=(x_val, y_val))"
   ]
  },
  {
   "cell_type": "code",
   "execution_count": 16,
   "metadata": {},
   "outputs": [
    {
     "data": {
      "image/png": "[encoded data removed]",
      "text/plain": [
       "<Figure size 432x288 with 1 Axes>"
      ]
     },
     "metadata": {
      "needs_background": "light"
     },
     "output_type": "display_data"
    }
   ],
   "source": [
    "history_dict = history.history\n",
    "loss_values = history_dict['loss']\n",
    "val_loss_values = history_dict['val_loss']\n",
    "epochs = range(1, len(loss_values) + 1)\n",
    "plt.plot(epochs, loss_values, 'bo', label='Training loss')\n",
    "plt.plot(epochs, val_loss_values, 'b', label='Validation loss')\n",
    "plt.title('Training and validation loss')\n",
    "plt.xlabel('Epochs')\n",
    "plt.ylabel('Loss')\n",
    "plt.legend()\n",
    "plt.show()"
   ]
  },
  {
   "cell_type": "code",
   "execution_count": 17,
   "metadata": {},
   "outputs": [
    {
     "data": {
      "image/png": "[encoded data removed]",
      "text/plain": [
       "<Figure size 432x288 with 1 Axes>"
      ]
     },
     "metadata": {
      "needs_background": "light"
     },
     "output_type": "display_data"
    }
   ],
   "source": [
    "plt.clf()\n",
    "acc = history_dict['accuracy']\n",
    "val_acc = history_dict['val_accuracy']\n",
    "plt.plot(epochs, acc, 'bo', label='Training accuracy')\n",
    "plt.plot(epochs, val_acc, 'b', label='Validation accuracy')\n",
    "plt.title('Training and validation accuracy')\n",
    "plt.xlabel('Epochs')\n",
    "plt.ylabel('Accuracy')\n",
    "plt.legend()\n",
    "plt.show()"
   ]
  },
  {
   "cell_type": "markdown",
   "metadata": {},
   "source": [
    "Our results are somewhat similar to our network consisting of two representation layers of 32 units.  Our validation loss increases after about epoch 4, and our validation accuracy stops improving as well.\n",
    "\n",
    "What about removing one of the representation layers?"
   ]
  },
  {
   "cell_type": "code",
   "execution_count": 18,
   "metadata": {},
   "outputs": [
    {
     "name": "stdout",
     "output_type": "stream",
     "text": [
      "Epoch 1/20\n",
      "30/30 [==============================] - 3s 85ms/step - loss: 0.5108 - accuracy: 0.7947 - val_loss: 0.3996 - val_accuracy: 0.8674\n",
      "Epoch 2/20\n",
      "30/30 [==============================] - 1s 25ms/step - loss: 0.3288 - accuracy: 0.8999 - val_loss: 0.3284 - val_accuracy: 0.8821\n",
      "Epoch 3/20\n",
      "30/30 [==============================] - 1s 25ms/step - loss: 0.2544 - accuracy: 0.9221 - val_loss: 0.2939 - val_accuracy: 0.8909\n",
      "Epoch 4/20\n",
      "30/30 [==============================] - 1s 26ms/step - loss: 0.2080 - accuracy: 0.9367 - val_loss: 0.2841 - val_accuracy: 0.8880\n",
      "Epoch 5/20\n",
      "30/30 [==============================] - 1s 26ms/step - loss: 0.1764 - accuracy: 0.9464 - val_loss: 0.2733 - val_accuracy: 0.8912\n",
      "Epoch 6/20\n",
      "30/30 [==============================] - 1s 25ms/step - loss: 0.1526 - accuracy: 0.9529 - val_loss: 0.2749 - val_accuracy: 0.8890\n",
      "Epoch 7/20\n",
      "30/30 [==============================] - 1s 25ms/step - loss: 0.1318 - accuracy: 0.9613 - val_loss: 0.2792 - val_accuracy: 0.8889\n",
      "Epoch 8/20\n",
      "30/30 [==============================] - 1s 23ms/step - loss: 0.1159 - accuracy: 0.9672 - val_loss: 0.2955 - val_accuracy: 0.8851\n",
      "Epoch 9/20\n",
      "30/30 [==============================] - 1s 23ms/step - loss: 0.1030 - accuracy: 0.9713 - val_loss: 0.2944 - val_accuracy: 0.8847\n",
      "Epoch 10/20\n",
      "30/30 [==============================] - 1s 23ms/step - loss: 0.0902 - accuracy: 0.9764 - val_loss: 0.3056 - val_accuracy: 0.8841\n",
      "Epoch 11/20\n",
      "30/30 [==============================] - 1s 26ms/step - loss: 0.0809 - accuracy: 0.9789 - val_loss: 0.3178 - val_accuracy: 0.8821\n",
      "Epoch 12/20\n",
      "30/30 [==============================] - 1s 24ms/step - loss: 0.0705 - accuracy: 0.9823 - val_loss: 0.3368 - val_accuracy: 0.8818\n",
      "Epoch 13/20\n",
      "30/30 [==============================] - 1s 24ms/step - loss: 0.0632 - accuracy: 0.9861 - val_loss: 0.3576 - val_accuracy: 0.8748\n",
      "Epoch 14/20\n",
      "30/30 [==============================] - 1s 25ms/step - loss: 0.0559 - accuracy: 0.9889 - val_loss: 0.3591 - val_accuracy: 0.8780\n",
      "Epoch 15/20\n",
      "30/30 [==============================] - 1s 24ms/step - loss: 0.0498 - accuracy: 0.9900 - val_loss: 0.3898 - val_accuracy: 0.8756\n",
      "Epoch 16/20\n",
      "30/30 [==============================] - 1s 23ms/step - loss: 0.0436 - accuracy: 0.9921 - val_loss: 0.4011 - val_accuracy: 0.8717\n",
      "Epoch 17/20\n",
      "30/30 [==============================] - 1s 22ms/step - loss: 0.0391 - accuracy: 0.9933 - val_loss: 0.4103 - val_accuracy: 0.8744\n",
      "Epoch 18/20\n",
      "30/30 [==============================] - 1s 26ms/step - loss: 0.0338 - accuracy: 0.9951 - val_loss: 0.4470 - val_accuracy: 0.8716\n",
      "Epoch 19/20\n",
      "30/30 [==============================] - 1s 23ms/step - loss: 0.0303 - accuracy: 0.9956 - val_loss: 0.4465 - val_accuracy: 0.8711\n",
      "Epoch 20/20\n",
      "30/30 [==============================] - 1s 22ms/step - loss: 0.0256 - accuracy: 0.9965 - val_loss: 0.4660 - val_accuracy: 0.8690\n"
     ]
    }
   ],
   "source": [
    "model = keras.Sequential([\n",
    "  keras.layers.Dense(16, activation='relu'),\n",
    "  keras.layers.Dense(1, activation='sigmoid')\n",
    "])\n",
    "\n",
    "model.compile(optimizer='rmsprop',\n",
    "              loss='binary_crossentropy',\n",
    "              metrics=['accuracy'])\n",
    "\n",
    "history = model.fit(partial_x_train,\n",
    "                    partial_y_train,\n",
    "                    epochs=20,\n",
    "                    batch_size=512,\n",
    "                    validation_data=(x_val, y_val))"
   ]
  },
  {
   "cell_type": "code",
   "execution_count": 19,
   "metadata": {},
   "outputs": [
    {
     "data": {
      "image/png": "[encoded data removed]",
      "text/plain": [
       "<Figure size 432x288 with 1 Axes>"
      ]
     },
     "metadata": {
      "needs_background": "light"
     },
     "output_type": "display_data"
    }
   ],
   "source": [
    "history_dict = history.history\n",
    "loss_values = history_dict['loss']\n",
    "val_loss_values = history_dict['val_loss']\n",
    "epochs = range(1, len(loss_values) + 1)\n",
    "plt.plot(epochs, loss_values, 'bo', label='Training loss')\n",
    "plt.plot(epochs, val_loss_values, 'b', label='Validation loss')\n",
    "plt.title('Training and validation loss')\n",
    "plt.xlabel('Epochs')\n",
    "plt.ylabel('Loss')\n",
    "plt.legend()\n",
    "plt.show()"
   ]
  },
  {
   "cell_type": "code",
   "execution_count": 20,
   "metadata": {},
   "outputs": [
    {
     "data": {
      "image/png": "[encoded data removed]",
      "text/plain": [
       "<Figure size 432x288 with 1 Axes>"
      ]
     },
     "metadata": {
      "needs_background": "light"
     },
     "output_type": "display_data"
    }
   ],
   "source": [
    "plt.clf()\n",
    "acc = history_dict['accuracy']\n",
    "val_acc = history_dict['val_accuracy']\n",
    "plt.plot(epochs, acc, 'bo', label='Training accuracy')\n",
    "plt.plot(epochs, val_acc, 'b', label='Validation accuracy')\n",
    "plt.title('Training and validation accuracy')\n",
    "plt.xlabel('Epochs')\n",
    "plt.ylabel('Accuracy')\n",
    "plt.legend()\n",
    "plt.show()"
   ]
  },
  {
   "cell_type": "markdown",
   "metadata": {},
   "source": [
    "It looks like we still overfit our model, but overfitting does not occur until about epoch 5 or 6.\n",
    "\n",
    "Maybe a combination of fewer representation layers and fewer units?"
   ]
  },
  {
   "cell_type": "code",
   "execution_count": 21,
   "metadata": {},
   "outputs": [
    {
     "name": "stdout",
     "output_type": "stream",
     "text": [
      "Epoch 1/20\n",
      "30/30 [==============================] - 4s 140ms/step - loss: 0.5332 - accuracy: 0.7870 - val_loss: 0.4306 - val_accuracy: 0.8610\n",
      "Epoch 2/20\n",
      "30/30 [==============================] - 1s 25ms/step - loss: 0.3621 - accuracy: 0.8951 - val_loss: 0.3531 - val_accuracy: 0.8795\n",
      "Epoch 3/20\n",
      "30/30 [==============================] - 1s 26ms/step - loss: 0.2859 - accuracy: 0.9137 - val_loss: 0.3123 - val_accuracy: 0.8862\n",
      "Epoch 4/20\n",
      "30/30 [==============================] - 1s 24ms/step - loss: 0.2389 - accuracy: 0.9280 - val_loss: 0.3034 - val_accuracy: 0.8805\n",
      "Epoch 5/20\n",
      "30/30 [==============================] - 1s 24ms/step - loss: 0.2064 - accuracy: 0.9389 - val_loss: 0.2883 - val_accuracy: 0.8875\n",
      "Epoch 6/20\n",
      "30/30 [==============================] - 1s 24ms/step - loss: 0.1822 - accuracy: 0.9461 - val_loss: 0.2749 - val_accuracy: 0.8910\n",
      "Epoch 7/20\n",
      "30/30 [==============================] - 1s 24ms/step - loss: 0.1619 - accuracy: 0.9527 - val_loss: 0.2745 - val_accuracy: 0.8900\n",
      "Epoch 8/20\n",
      "30/30 [==============================] - 1s 24ms/step - loss: 0.1451 - accuracy: 0.9579 - val_loss: 0.2747 - val_accuracy: 0.8916\n",
      "Epoch 9/20\n",
      "30/30 [==============================] - 1s 25ms/step - loss: 0.1302 - accuracy: 0.9630 - val_loss: 0.2782 - val_accuracy: 0.8883\n",
      "Epoch 10/20\n",
      "30/30 [==============================] - 1s 25ms/step - loss: 0.1178 - accuracy: 0.9685 - val_loss: 0.2824 - val_accuracy: 0.8869\n",
      "Epoch 11/20\n",
      "30/30 [==============================] - 1s 23ms/step - loss: 0.1069 - accuracy: 0.9717 - val_loss: 0.2913 - val_accuracy: 0.8853\n",
      "Epoch 12/20\n",
      "30/30 [==============================] - 1s 23ms/step - loss: 0.0969 - accuracy: 0.9748 - val_loss: 0.2985 - val_accuracy: 0.8839\n",
      "Epoch 13/20\n",
      "30/30 [==============================] - 1s 24ms/step - loss: 0.0880 - accuracy: 0.9780 - val_loss: 0.3048 - val_accuracy: 0.8817\n",
      "Epoch 14/20\n",
      "30/30 [==============================] - 1s 24ms/step - loss: 0.0805 - accuracy: 0.9815 - val_loss: 0.3192 - val_accuracy: 0.8829\n",
      "Epoch 15/20\n",
      "30/30 [==============================] - 1s 24ms/step - loss: 0.0732 - accuracy: 0.9831 - val_loss: 0.3224 - val_accuracy: 0.8804\n",
      "Epoch 16/20\n",
      "30/30 [==============================] - 1s 24ms/step - loss: 0.0665 - accuracy: 0.9862 - val_loss: 0.3326 - val_accuracy: 0.8807\n",
      "Epoch 17/20\n",
      "30/30 [==============================] - 1s 24ms/step - loss: 0.0602 - accuracy: 0.9869 - val_loss: 0.3489 - val_accuracy: 0.8767\n",
      "Epoch 18/20\n",
      "30/30 [==============================] - 1s 25ms/step - loss: 0.0552 - accuracy: 0.9891 - val_loss: 0.3548 - val_accuracy: 0.8801\n",
      "Epoch 19/20\n",
      "30/30 [==============================] - 1s 25ms/step - loss: 0.0498 - accuracy: 0.9908 - val_loss: 0.3684 - val_accuracy: 0.8766\n",
      "Epoch 20/20\n",
      "30/30 [==============================] - 1s 23ms/step - loss: 0.0452 - accuracy: 0.9917 - val_loss: 0.3792 - val_accuracy: 0.8771\n"
     ]
    }
   ],
   "source": [
    "model = keras.Sequential([\n",
    "  keras.layers.Dense(8, activation='relu'),\n",
    "  keras.layers.Dense(1, activation='sigmoid')\n",
    "])\n",
    "\n",
    "model.compile(optimizer='rmsprop',\n",
    "              loss='binary_crossentropy',\n",
    "              metrics=['accuracy'])\n",
    "\n",
    "history = model.fit(partial_x_train,\n",
    "                    partial_y_train,\n",
    "                    epochs=20,\n",
    "                    batch_size=512,\n",
    "                    validation_data=(x_val, y_val))"
   ]
  },
  {
   "cell_type": "code",
   "execution_count": 22,
   "metadata": {},
   "outputs": [
    {
     "data": {
      "image/png": "[encoded data removed]",
      "text/plain": [
       "<Figure size 432x288 with 1 Axes>"
      ]
     },
     "metadata": {
      "needs_background": "light"
     },
     "output_type": "display_data"
    }
   ],
   "source": [
    "history_dict = history.history\n",
    "loss_values = history_dict['loss']\n",
    "val_loss_values = history_dict['val_loss']\n",
    "epochs = range(1, len(loss_values) + 1)\n",
    "plt.plot(epochs, loss_values, 'bo', label='Training loss')\n",
    "plt.plot(epochs, val_loss_values, 'b', label='Validation loss')\n",
    "plt.title('Training and validation loss')\n",
    "plt.xlabel('Epochs')\n",
    "plt.ylabel('Loss')\n",
    "plt.legend()\n",
    "plt.show()"
   ]
  },
  {
   "cell_type": "code",
   "execution_count": 23,
   "metadata": {},
   "outputs": [
    {
     "data": {
      "image/png": "[encoded data removed]",
      "text/plain": [
       "<Figure size 432x288 with 1 Axes>"
      ]
     },
     "metadata": {
      "needs_background": "light"
     },
     "output_type": "display_data"
    }
   ],
   "source": [
    "plt.clf()\n",
    "acc = history_dict['accuracy']\n",
    "val_acc = history_dict['val_accuracy']\n",
    "plt.plot(epochs, acc, 'bo', label='Training accuracy')\n",
    "plt.plot(epochs, val_acc, 'b', label='Validation accuracy')\n",
    "plt.title('Training and validation accuracy')\n",
    "plt.xlabel('Epochs')\n",
    "plt.ylabel('Accuracy')\n",
    "plt.legend()\n",
    "plt.show()"
   ]
  },
  {
   "cell_type": "markdown",
   "metadata": {},
   "source": [
    "It seems our current approach only delays the inevitable, decreasing the number of representational layers and units delays the epoch in which we see overfitting in our model, but we get no real improvement on how our model performs on or validation data set."
   ]
  }
 ],
 "metadata": {
  "colab": {
   "collapsed_sections": [],
   "name": "Ch4_Binary_Classification_Example_of_IMDB Dataset.ipynb",
   "provenance": [],
   "toc_visible": true
  },
  "kernelspec": {
   "display_name": "Python 3",
   "language": "python",
   "name": "python3"
  },
  "language_info": {
   "codemirror_mode": {
    "name": "ipython",
    "version": 3
   },
   "file_extension": ".py",
   "mimetype": "text/x-python",
   "name": "python",
   "nbconvert_exporter": "python",
   "pygments_lexer": "ipython3",
   "version": "3.8.1"
  }
 },
 "nbformat": 4,
 "nbformat_minor": 4
}
