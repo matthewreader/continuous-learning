{
 "cells": [
  {
   "cell_type": "markdown",
   "metadata": {},
   "source": [
    "# 4.2 - Multiclass Classification With Reuters Dataset\n",
    "\n",
    "* [4.2.1 - The Reuters Dataset](#first-bullet)\n",
    "* [4.2.2 - Preparing the Data](#second-bullet)\n",
    "* [4.2.3 - Building Your Model](#third-bullet)\n",
    "* [4.2.4 - Further Experiments](#fourth-bullet)\n",
    "\n",
    "We explored a binary classification example with the IMDB dataset in chapter 4.1, but what if we have more than two classes?  This example will classify Reuters data into 46 distinct, mutually exclusive categories."
   ]
  },
  {
   "cell_type": "markdown",
   "metadata": {},
   "source": [
    "## 4.2.1 - The Reuters Dataset <a class=\"anchor\" id=\"first-bullet\"></a>\n",
    "\n",
    "The Reuters dataset has 46 classes with at least 10 examples per class."
   ]
  },
  {
   "cell_type": "code",
   "execution_count": 1,
   "metadata": {},
   "outputs": [],
   "source": [
    "import numpy as np\n",
    "import matplotlib.pyplot as plt\n",
    "from tensorflow import keras\n",
    "from tensorflow.keras.datasets import reuters\n",
    "\n",
    "(train_data, train_labels), (test_data, test_labels) = reuters.load_data(\n",
    "    num_words=10000)"
   ]
  },
  {
   "cell_type": "markdown",
   "metadata": {},
   "source": [
    "We have 8982 training examples and 2246 validation examples in the dataset."
   ]
  },
  {
   "cell_type": "code",
   "execution_count": 2,
   "metadata": {},
   "outputs": [
    {
     "name": "stdout",
     "output_type": "stream",
     "text": [
      "8982\n",
      "2246\n"
     ]
    }
   ],
   "source": [
    "print(len(train_data))\n",
    "print(len(test_data))"
   ]
  },
  {
   "cell_type": "markdown",
   "metadata": {},
   "source": [
    "Like our IMDB example, our words have been encoded as the 10,000 most common words."
   ]
  },
  {
   "cell_type": "code",
   "execution_count": 3,
   "metadata": {},
   "outputs": [
    {
     "name": "stdout",
     "output_type": "stream",
     "text": [
      "[1, 245, 273, 207, 156, 53, 74, 160, 26, 14, 46, 296, 26, 39, 74, 2979, 3554, 14, 46, 4689, 4329, 86, 61, 3499, 4795, 14, 61, 451, 4329, 17, 12]\n"
     ]
    }
   ],
   "source": [
    "print(train_data[10])"
   ]
  },
  {
   "cell_type": "markdown",
   "metadata": {},
   "source": [
    "And like our IMDB example, we can translate back from integer representation back to the actual words, keeping note that our translation is offset by 3 for the three special representations in our word index for padding, sequence starts, and unknown words."
   ]
  },
  {
   "cell_type": "code",
   "execution_count": 4,
   "metadata": {},
   "outputs": [
    {
     "name": "stdout",
     "output_type": "stream",
     "text": [
      "? ? ? said as a result of its december acquisition of space co it expects earnings per share in 1987 of 1 15 to 1 30 dlrs per share up from 70 cts in 1986 the company said pretax net should rise to nine to 10 mln dlrs from six mln dlrs in 1986 and rental operation revenues to 19 to 22 mln dlrs from 12 5 mln dlrs it said cash flow per share this year should be 2 50 to three dlrs reuter 3\n"
     ]
    }
   ],
   "source": [
    "word_index = reuters.get_word_index()\n",
    "reverse_word_index = dict([(value, key) for (key, value) in word_index.items()])\n",
    "decoded_newswire = ' '.join([reverse_word_index.get(i - 3, '?') for i in\n",
    "    train_data[0]])\n",
    "\n",
    "print(decoded_newswire)"
   ]
  },
  {
   "cell_type": "markdown",
   "metadata": {},
   "source": [
    "Our articles are also classified as integers.  Let's get the classification of the data at index 10."
   ]
  },
  {
   "cell_type": "code",
   "execution_count": 5,
   "metadata": {},
   "outputs": [
    {
     "data": {
      "text/plain": [
       "3"
      ]
     },
     "execution_count": 5,
     "metadata": {},
     "output_type": "execute_result"
    }
   ],
   "source": [
    "train_labels[10]"
   ]
  },
  {
   "cell_type": "markdown",
   "metadata": {},
   "source": [
    "## 4.2.2 - Preparing the Data <a class=\"anchor\" id=\"second-bullet\"></a>\n",
    "\n",
    "Like our binary classification example, we will utilize one-hot encoding on vectors of length 10,000."
   ]
  },
  {
   "cell_type": "code",
   "execution_count": 6,
   "metadata": {},
   "outputs": [],
   "source": [
    "def vectorize_sequences(sequences, dimension=10000):\n",
    "    results = np.zeros((len(sequences), dimension))\n",
    "    for i, sequence in enumerate(sequences):\n",
    "        results[i, sequence] = 1.\n",
    "    return results\n",
    "x_train = vectorize_sequences(train_data)\n",
    "x_test = vectorize_sequences(test_data)"
   ]
  },
  {
   "cell_type": "markdown",
   "metadata": {},
   "source": [
    "We will also use one-hot encoding for our 46 different labels."
   ]
  },
  {
   "cell_type": "code",
   "execution_count": 7,
   "metadata": {},
   "outputs": [
    {
     "name": "stdout",
     "output_type": "stream",
     "text": [
      "[0. 0. 0. 1. 0. 0. 0. 0. 0. 0. 0. 0. 0. 0. 0. 0. 0. 0. 0. 0. 0. 0. 0. 0.\n",
      " 0. 0. 0. 0. 0. 0. 0. 0. 0. 0. 0. 0. 0. 0. 0. 0. 0. 0. 0. 0. 0. 0.]\n"
     ]
    }
   ],
   "source": [
    "def to_one_hot(labels, dimension=46):\n",
    "    results = np.zeros((len(labels), dimension))\n",
    "    for i, label in enumerate(labels):\n",
    "        results[i, label] = 1.\n",
    "    return results\n",
    "one_hot_train_labels = to_one_hot(train_labels)\n",
    "one_hot_test_labels = to_one_hot(test_labels)\n",
    "\n",
    "print(one_hot_train_labels[0])"
   ]
  },
  {
   "cell_type": "markdown",
   "metadata": {},
   "source": [
    "Or, we can use built in functionality of Keras to do the one-hot encoding for us instead of defining our own function."
   ]
  },
  {
   "cell_type": "code",
   "execution_count": 8,
   "metadata": {},
   "outputs": [
    {
     "name": "stdout",
     "output_type": "stream",
     "text": [
      "[0. 0. 0. 1. 0. 0. 0. 0. 0. 0. 0. 0. 0. 0. 0. 0. 0. 0. 0. 0. 0. 0. 0. 0.\n",
      " 0. 0. 0. 0. 0. 0. 0. 0. 0. 0. 0. 0. 0. 0. 0. 0. 0. 0. 0. 0. 0. 0.]\n"
     ]
    }
   ],
   "source": [
    "from tensorflow.keras.utils import to_categorical\n",
    "one_hot_train_labels = to_categorical(train_labels)\n",
    "one_hot_test_labels = to_categorical(test_labels)\n",
    "\n",
    "print(one_hot_train_labels[0])"
   ]
  },
  {
   "cell_type": "markdown",
   "metadata": {},
   "source": [
    "## 4.2.3 - Building Your Model <a class=\"anchor\" id=\"third-bullet\"></a>\n",
    "\n",
    "Our original binary classification example used two representation layers of 16 units.  Since our problem is a bit more complicated (46 classes instead of 2), we will experiment with representation `Dense` layers of 64 units.\n",
    "\n",
    "We also need to increase our output layer from 1 for a binary classification model to 46 for our multiclass classification problem."
   ]
  },
  {
   "cell_type": "code",
   "execution_count": 9,
   "metadata": {},
   "outputs": [],
   "source": [
    "model = keras.Sequential([\n",
    "  keras.layers.Dense(64, activation='relu'),\n",
    "  keras.layers.Dense(64, activation='relu'),\n",
    "  keras.layers.Dense(46, activation='softmax')\n",
    "])"
   ]
  },
  {
   "cell_type": "markdown",
   "metadata": {},
   "source": [
    "Our loss function also needs to change when we compile our model.  `categorical_crossentropy` will be used instead of `binary_crossentropy` because we want to minimize the distance between the probabilities in our output vector and the probabilities of our true labels.\n",
    "\n",
    "For example, if we had five classes where the data belonged to class 3, then the probabilities of our true labels would be [0, 0, 1, 0, 0]."
   ]
  },
  {
   "cell_type": "code",
   "execution_count": 10,
   "metadata": {},
   "outputs": [],
   "source": [
    "model.compile(optimizer='rmsprop',\n",
    "              loss='categorical_crossentropy',\n",
    "              metrics=['accuracy'])"
   ]
  },
  {
   "cell_type": "markdown",
   "metadata": {},
   "source": [
    "We will set aside some of our data for validation to ensure we are not over-fitting out model."
   ]
  },
  {
   "cell_type": "code",
   "execution_count": 11,
   "metadata": {},
   "outputs": [],
   "source": [
    "x_val = x_train[:1000]\n",
    "partial_x_train = x_train[1000:]\n",
    "y_val = one_hot_train_labels[:1000]\n",
    "partial_y_train = one_hot_train_labels[1000:]"
   ]
  },
  {
   "cell_type": "markdown",
   "metadata": {},
   "source": [
    "Train the model."
   ]
  },
  {
   "cell_type": "code",
   "execution_count": 12,
   "metadata": {},
   "outputs": [
    {
     "name": "stdout",
     "output_type": "stream",
     "text": [
      "Epoch 1/20\n",
      "16/16 [==============================] - 2s 113ms/step - loss: 2.6932 - accuracy: 0.5172 - val_loss: 1.7759 - val_accuracy: 0.6560\n",
      "Epoch 2/20\n",
      "16/16 [==============================] - 1s 89ms/step - loss: 1.4227 - accuracy: 0.7119 - val_loss: 1.2883 - val_accuracy: 0.7340\n",
      "Epoch 3/20\n",
      "16/16 [==============================] - 1s 82ms/step - loss: 1.0289 - accuracy: 0.7805 - val_loss: 1.1115 - val_accuracy: 0.7670\n",
      "Epoch 4/20\n",
      "16/16 [==============================] - 1s 79ms/step - loss: 0.8100 - accuracy: 0.8311 - val_loss: 1.0313 - val_accuracy: 0.7780\n",
      "Epoch 5/20\n",
      "16/16 [==============================] - 1s 69ms/step - loss: 0.6476 - accuracy: 0.8632 - val_loss: 0.9702 - val_accuracy: 0.7890\n",
      "Epoch 6/20\n",
      "16/16 [==============================] - 1s 53ms/step - loss: 0.5221 - accuracy: 0.8885 - val_loss: 0.9243 - val_accuracy: 0.8090\n",
      "Epoch 7/20\n",
      "16/16 [==============================] - 1s 42ms/step - loss: 0.4236 - accuracy: 0.9112 - val_loss: 0.8870 - val_accuracy: 0.8180\n",
      "Epoch 8/20\n",
      "16/16 [==============================] - 1s 35ms/step - loss: 0.3434 - accuracy: 0.9272 - val_loss: 0.8743 - val_accuracy: 0.8290\n",
      "Epoch 9/20\n",
      "16/16 [==============================] - 1s 37ms/step - loss: 0.2865 - accuracy: 0.9374 - val_loss: 0.8702 - val_accuracy: 0.8260\n",
      "Epoch 10/20\n",
      "16/16 [==============================] - 1s 42ms/step - loss: 0.2384 - accuracy: 0.9468 - val_loss: 0.8893 - val_accuracy: 0.8220\n",
      "Epoch 11/20\n",
      "16/16 [==============================] - 1s 54ms/step - loss: 0.2063 - accuracy: 0.9473 - val_loss: 0.9160 - val_accuracy: 0.8200\n",
      "Epoch 12/20\n",
      "16/16 [==============================] - 1s 48ms/step - loss: 0.1805 - accuracy: 0.9528 - val_loss: 0.9435 - val_accuracy: 0.8150\n",
      "Epoch 13/20\n",
      "16/16 [==============================] - 1s 39ms/step - loss: 0.1652 - accuracy: 0.9521 - val_loss: 0.9645 - val_accuracy: 0.8220\n",
      "Epoch 14/20\n",
      "16/16 [==============================] - 1s 48ms/step - loss: 0.1489 - accuracy: 0.9531 - val_loss: 0.9866 - val_accuracy: 0.8180\n",
      "Epoch 15/20\n",
      "16/16 [==============================] - 1s 62ms/step - loss: 0.1411 - accuracy: 0.9577 - val_loss: 1.0348 - val_accuracy: 0.7970\n",
      "Epoch 16/20\n",
      "16/16 [==============================] - 1s 51ms/step - loss: 0.1307 - accuracy: 0.9583 - val_loss: 1.0452 - val_accuracy: 0.8120\n",
      "Epoch 17/20\n",
      "16/16 [==============================] - 1s 55ms/step - loss: 0.1242 - accuracy: 0.9583 - val_loss: 1.0486 - val_accuracy: 0.8010\n",
      "Epoch 18/20\n",
      "16/16 [==============================] - 1s 52ms/step - loss: 0.1241 - accuracy: 0.9572 - val_loss: 1.0374 - val_accuracy: 0.8070\n",
      "Epoch 19/20\n",
      "16/16 [==============================] - 1s 48ms/step - loss: 0.1151 - accuracy: 0.9575 - val_loss: 1.0758 - val_accuracy: 0.8030\n",
      "Epoch 20/20\n",
      "16/16 [==============================] - 1s 47ms/step - loss: 0.1146 - accuracy: 0.9565 - val_loss: 1.0489 - val_accuracy: 0.8180\n"
     ]
    }
   ],
   "source": [
    "history = model.fit(partial_x_train,\n",
    "                    partial_y_train,\n",
    "                    epochs=20,\n",
    "                    batch_size=512,\n",
    "                    validation_data=(x_val, y_val))"
   ]
  },
  {
   "cell_type": "markdown",
   "metadata": {},
   "source": [
    "And examine our test versus validation loss, and test versus validation accuracy."
   ]
  },
  {
   "cell_type": "code",
   "execution_count": 13,
   "metadata": {},
   "outputs": [
    {
     "data": {
      "image/png": "[encoded data removed]",
      "text/plain": [
       "<Figure size 432x288 with 1 Axes>"
      ]
     },
     "metadata": {
      "needs_background": "light"
     },
     "output_type": "display_data"
    }
   ],
   "source": [
    "loss = history.history['loss']\n",
    "val_loss = history.history['val_loss']\n",
    "epochs = range(1, len(loss) + 1)\n",
    "plt.plot(epochs, loss, 'bo', label='Training loss')\n",
    "plt.plot(epochs, val_loss, 'b', label='Validation loss')\n",
    "plt.title('Training and validation loss')\n",
    "plt.xlabel('Epochs')\n",
    "plt.ylabel('Loss')\n",
    "plt.legend()\n",
    "plt.show()"
   ]
  },
  {
   "cell_type": "code",
   "execution_count": 14,
   "metadata": {},
   "outputs": [
    {
     "data": {
      "image/png": "[encoded data removed]",
      "text/plain": [
       "<Figure size 432x288 with 1 Axes>"
      ]
     },
     "metadata": {
      "needs_background": "light"
     },
     "output_type": "display_data"
    }
   ],
   "source": [
    "plt.clf()\n",
    "acc = history.history['accuracy']\n",
    "val_acc = history.history['val_accuracy']\n",
    "plt.plot(epochs, acc, 'bo', label='Training accuracy')\n",
    "plt.plot(epochs, val_acc, 'b', label='Validation accuracy')\n",
    "plt.title('Training and validation accuracy')\n",
    "plt.xlabel('Epochs')\n",
    "plt.ylabel('Accuracy')\n",
    "plt.legend()\n",
    "plt.show()"
   ]
  },
  {
   "cell_type": "markdown",
   "metadata": {},
   "source": [
    "We can use our model's `predict` method to generate new predictions.  Each prediction is a vector of length 46.  Each prediction vector holds the probabilities that the prediction will be of that class and must sum to 1.  Our class is the category with the highest probability."
   ]
  },
  {
   "cell_type": "code",
   "execution_count": 15,
   "metadata": {},
   "outputs": [
    {
     "name": "stdout",
     "output_type": "stream",
     "text": [
      "(46,)\n",
      "[1.23535006e-06 6.98570466e-06 1.54562343e-07 9.91652548e-01\n",
      " 5.36475284e-03 1.78851860e-06 2.98501618e-06 2.32907696e-05\n",
      " 6.02774322e-04 1.61006428e-05 7.41176154e-06 6.90757297e-04\n",
      " 3.26923532e-06 9.68047789e-06 5.66445976e-07 1.56255766e-07\n",
      " 1.66999453e-04 1.15687571e-05 7.55498331e-06 4.25202365e-04\n",
      " 6.58058736e-04 1.34851143e-05 5.21369702e-06 1.45261106e-06\n",
      " 4.48183428e-08 5.38262725e-07 1.05774937e-07 1.64754965e-07\n",
      " 1.49295511e-05 1.61553305e-06 3.07150949e-05 1.43680529e-06\n",
      " 1.02816475e-05 4.15554979e-07 5.34615401e-06 3.49041649e-08\n",
      " 2.25773430e-04 9.58694091e-06 1.27960334e-07 9.63886578e-06\n",
      " 8.13252973e-06 4.77848835e-06 2.31060142e-07 4.28198575e-07\n",
      " 1.46561190e-08 1.53907274e-06]\n",
      "0.9999999\n",
      "3\n"
     ]
    }
   ],
   "source": [
    "predictions = model.predict(x_test)\n",
    "print(predictions[0].shape)\n",
    "print(predictions[0])\n",
    "print(np.sum(predictions[0]))\n",
    "print(np.argmax(predictions[0]))"
   ]
  },
  {
   "cell_type": "markdown",
   "metadata": {},
   "source": [
    "## 4.2.4 - Further Experiments <a class=\"anchor\" id=\"fourth-bullet\"></a>"
   ]
  },
  {
   "cell_type": "markdown",
   "metadata": {},
   "source": [
    "Let's go for broke, if two representation layers of 64 units is good, then surely doubling the number of layers and units will be better!"
   ]
  },
  {
   "cell_type": "code",
   "execution_count": 16,
   "metadata": {},
   "outputs": [
    {
     "name": "stdout",
     "output_type": "stream",
     "text": [
      "Epoch 1/20\n",
      "16/16 [==============================] - 2s 155ms/step - loss: 2.2883 - accuracy: 0.4989 - val_loss: 1.5874 - val_accuracy: 0.6080\n",
      "Epoch 2/20\n",
      "16/16 [==============================] - 1s 85ms/step - loss: 1.2544 - accuracy: 0.7097 - val_loss: 1.2551 - val_accuracy: 0.6880\n",
      "Epoch 3/20\n",
      "16/16 [==============================] - 1s 60ms/step - loss: 0.9306 - accuracy: 0.7796 - val_loss: 1.0591 - val_accuracy: 0.7640\n",
      "Epoch 4/20\n",
      "16/16 [==============================] - 1s 61ms/step - loss: 0.6874 - accuracy: 0.8430 - val_loss: 1.1246 - val_accuracy: 0.7730\n",
      "Epoch 5/20\n",
      "16/16 [==============================] - 1s 56ms/step - loss: 0.5336 - accuracy: 0.8779 - val_loss: 1.0379 - val_accuracy: 0.7800\n",
      "Epoch 6/20\n",
      "16/16 [==============================] - 1s 56ms/step - loss: 0.4104 - accuracy: 0.9067 - val_loss: 1.0313 - val_accuracy: 0.8030\n",
      "Epoch 7/20\n",
      "16/16 [==============================] - 1s 67ms/step - loss: 0.3262 - accuracy: 0.9223 - val_loss: 1.0669 - val_accuracy: 0.7860\n",
      "Epoch 8/20\n",
      "16/16 [==============================] - 1s 77ms/step - loss: 0.2363 - accuracy: 0.9444 - val_loss: 1.1726 - val_accuracy: 0.7870\n",
      "Epoch 9/20\n",
      "16/16 [==============================] - 1s 87ms/step - loss: 0.2295 - accuracy: 0.9444 - val_loss: 1.0565 - val_accuracy: 0.8070\n",
      "Epoch 10/20\n",
      "16/16 [==============================] - 1s 92ms/step - loss: 0.1708 - accuracy: 0.9550 - val_loss: 1.1759 - val_accuracy: 0.7910\n",
      "Epoch 11/20\n",
      "16/16 [==============================] - 1s 87ms/step - loss: 0.1505 - accuracy: 0.9563 - val_loss: 1.1858 - val_accuracy: 0.8050\n",
      "Epoch 12/20\n",
      "16/16 [==============================] - 1s 83ms/step - loss: 0.1481 - accuracy: 0.9540 - val_loss: 1.3583 - val_accuracy: 0.7640\n",
      "Epoch 13/20\n",
      "16/16 [==============================] - 1s 67ms/step - loss: 0.1362 - accuracy: 0.9583 - val_loss: 1.1516 - val_accuracy: 0.7990\n",
      "Epoch 14/20\n",
      "16/16 [==============================] - 1s 61ms/step - loss: 0.1266 - accuracy: 0.9569 - val_loss: 1.5105 - val_accuracy: 0.7410\n",
      "Epoch 15/20\n",
      "16/16 [==============================] - 1s 52ms/step - loss: 0.1395 - accuracy: 0.9500 - val_loss: 1.1998 - val_accuracy: 0.7940\n",
      "Epoch 16/20\n",
      "16/16 [==============================] - 1s 52ms/step - loss: 0.1086 - accuracy: 0.9548 - val_loss: 1.2192 - val_accuracy: 0.7930\n",
      "Epoch 17/20\n",
      "16/16 [==============================] - 1s 50ms/step - loss: 0.1082 - accuracy: 0.9593 - val_loss: 1.1775 - val_accuracy: 0.8040\n",
      "Epoch 18/20\n",
      "16/16 [==============================] - 1s 52ms/step - loss: 0.1051 - accuracy: 0.9568 - val_loss: 1.3705 - val_accuracy: 0.7900\n",
      "Epoch 19/20\n",
      "16/16 [==============================] - 1s 51ms/step - loss: 0.1006 - accuracy: 0.9605 - val_loss: 1.3767 - val_accuracy: 0.7760\n",
      "Epoch 20/20\n",
      "16/16 [==============================] - 1s 46ms/step - loss: 0.0936 - accuracy: 0.9589 - val_loss: 1.3874 - val_accuracy: 0.7950\n"
     ]
    }
   ],
   "source": [
    "model = keras.Sequential([\n",
    "  keras.layers.Dense(128, activation='relu'),\n",
    "  keras.layers.Dense(128, activation='relu'),\n",
    "  keras.layers.Dense(128, activation='relu'),\n",
    "  keras.layers.Dense(128, activation='relu'),\n",
    "  keras.layers.Dense(46, activation='softmax')\n",
    "])\n",
    "\n",
    "model.compile(optimizer='rmsprop',\n",
    "              loss='categorical_crossentropy',\n",
    "              metrics=['accuracy'])\n",
    "\n",
    "history = model.fit(partial_x_train,\n",
    "                    partial_y_train,\n",
    "                    epochs=20,\n",
    "                    batch_size=512,\n",
    "                    validation_data=(x_val, y_val))"
   ]
  },
  {
   "cell_type": "code",
   "execution_count": 17,
   "metadata": {},
   "outputs": [
    {
     "data": {
      "image/png": "[encoded data removed]",
      "text/plain": [
       "<Figure size 432x288 with 1 Axes>"
      ]
     },
     "metadata": {
      "needs_background": "light"
     },
     "output_type": "display_data"
    }
   ],
   "source": [
    "loss = history.history['loss']\n",
    "val_loss = history.history['val_loss']\n",
    "epochs = range(1, len(loss) + 1)\n",
    "plt.plot(epochs, loss, 'bo', label='Training loss')\n",
    "plt.plot(epochs, val_loss, 'b', label='Validation loss')\n",
    "plt.title('Training and validation loss')\n",
    "plt.xlabel('Epochs')\n",
    "plt.ylabel('Loss')\n",
    "plt.legend()\n",
    "plt.show()"
   ]
  },
  {
   "cell_type": "code",
   "execution_count": 18,
   "metadata": {},
   "outputs": [
    {
     "data": {
      "image/png": "[encoded data removed]",
      "text/plain": [
       "<Figure size 432x288 with 1 Axes>"
      ]
     },
     "metadata": {
      "needs_background": "light"
     },
     "output_type": "display_data"
    }
   ],
   "source": [
    "plt.clf()\n",
    "acc = history.history['accuracy']\n",
    "val_acc = history.history['val_accuracy']\n",
    "plt.plot(epochs, acc, 'bo', label='Training accuracy')\n",
    "plt.plot(epochs, val_acc, 'b', label='Validation accuracy')\n",
    "plt.title('Training and validation accuracy')\n",
    "plt.xlabel('Epochs')\n",
    "plt.ylabel('Accuracy')\n",
    "plt.legend()\n",
    "plt.show()"
   ]
  },
  {
   "cell_type": "markdown",
   "metadata": {},
   "source": [
    "No really.  Perhaps we need to learn about layer types other than `Dense`, and playing around with different optimizers, learning rates, and regularization."
   ]
  },
  {
   "cell_type": "code",
   "execution_count": null,
   "metadata": {},
   "outputs": [],
   "source": []
  }
 ],
 "metadata": {
  "kernelspec": {
   "display_name": "Python 3",
   "language": "python",
   "name": "python3"
  },
  "language_info": {
   "codemirror_mode": {
    "name": "ipython",
    "version": 3
   },
   "file_extension": ".py",
   "mimetype": "text/x-python",
   "name": "python",
   "nbconvert_exporter": "python",
   "pygments_lexer": "ipython3",
   "version": "3.8.6"
  }
 },
 "nbformat": 4,
 "nbformat_minor": 4
}
