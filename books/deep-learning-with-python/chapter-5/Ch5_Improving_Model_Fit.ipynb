{
 "cells": [
  {
   "cell_type": "markdown",
   "metadata": {},
   "source": [
    "# 5.3 - Improving Model Performance\n",
    "\n",
    "* [5.3.1 - Tuning Key Gradient Descent Parameters](#first-bullet)\n",
    "* [5.3.2 - Tuning Key Gradient Descent Parameters](#second-bullet)\n",
    "* [5.3.3 - Increasing model capacity](#third-bullet)\n",
    "* [5.4.4 - Regularizing your model](#fourth-bullet)\n",
    "\n",
    "## 5.3.1 - Tuning Key Gradient Descent Parameters <a class=\"anchor\" id=\"first-bullet\"></a>"
   ]
  },
  {
   "cell_type": "code",
   "execution_count": 1,
   "metadata": {},
   "outputs": [],
   "source": [
    "from tensorflow.keras.datasets import mnist\n",
    "from tensorflow import keras\n",
    "from tensorflow.keras import layers\n",
    "import numpy as np\n",
    "import matplotlib.pyplot as plt"
   ]
  },
  {
   "cell_type": "markdown",
   "metadata": {},
   "source": [
    "We would like to achieve the following in a machine learning model:\n",
    "* The model beats some common sense baseline, for example, what you would expect from a random guess.\n",
    "* You can change the model to the point where the training data can be overfit.  If you cannot overfit the data, then you can make the assumption that you have underfit the model to the data. \n",
    "\n",
    "Let's start examining how the learning rate affects the model.  The learning rate in the model below is set to 1, and after 10 epochs we reach a training and validation accuracy of about 25 and cannot advance beyond that.  A random guess would predict an accuracy of about 10 percent, so while we have beating our common sense baseline there is room for improvement."
   ]
  },
  {
   "cell_type": "code",
   "execution_count": 2,
   "metadata": {},
   "outputs": [
    {
     "name": "stdout",
     "output_type": "stream",
     "text": [
      "Epoch 1/10\n",
      "375/375 [==============================] - 3s 9ms/step - loss: 663.6815 - accuracy: 0.3894 - val_loss: 2.0253 - val_accuracy: 0.2743\n",
      "Epoch 2/10\n",
      "375/375 [==============================] - 3s 7ms/step - loss: 4.1110 - accuracy: 0.2832 - val_loss: 6.6274 - val_accuracy: 0.2786\n",
      "Epoch 3/10\n",
      "375/375 [==============================] - 2s 7ms/step - loss: 2.9570 - accuracy: 0.2903 - val_loss: 2.4983 - val_accuracy: 0.2677\n",
      "Epoch 4/10\n",
      "375/375 [==============================] - 3s 7ms/step - loss: 3.1232 - accuracy: 0.2632 - val_loss: 2.1954 - val_accuracy: 0.2340\n",
      "Epoch 5/10\n",
      "375/375 [==============================] - 3s 7ms/step - loss: 2.8289 - accuracy: 0.2631 - val_loss: 2.0951 - val_accuracy: 0.2545\n",
      "Epoch 6/10\n",
      "375/375 [==============================] - 2s 7ms/step - loss: 2.6941 - accuracy: 0.2426 - val_loss: 2.2073 - val_accuracy: 0.2665\n",
      "Epoch 7/10\n",
      "375/375 [==============================] - 3s 7ms/step - loss: 2.4702 - accuracy: 0.2750 - val_loss: 4.2502 - val_accuracy: 0.2974\n",
      "Epoch 8/10\n",
      "375/375 [==============================] - 3s 7ms/step - loss: 3.0309 - accuracy: 0.2562 - val_loss: 2.0410 - val_accuracy: 0.2685\n",
      "Epoch 9/10\n",
      "375/375 [==============================] - 2s 7ms/step - loss: 2.3639 - accuracy: 0.2885 - val_loss: 2.0748 - val_accuracy: 0.2852\n",
      "Epoch 10/10\n",
      "375/375 [==============================] - 4s 10ms/step - loss: 3.0196 - accuracy: 0.2733 - val_loss: 2.1206 - val_accuracy: 0.2448\n"
     ]
    },
    {
     "data": {
      "text/plain": [
       "<tensorflow.python.keras.callbacks.History at 0x251347cc880>"
      ]
     },
     "execution_count": 2,
     "metadata": {},
     "output_type": "execute_result"
    }
   ],
   "source": [
    "(train_images, train_labels), _ = mnist.load_data()\n",
    "train_images = train_images.reshape((60000, 28 * 28))\n",
    "train_images = train_images.astype('float32') / 255\n",
    "\n",
    "model = keras.Sequential([\n",
    "  layers.Dense(512, activation='relu'),\n",
    "  layers.Dense(10, activation='softmax')\n",
    "])\n",
    "model.compile(optimizer=keras.optimizers.RMSprop(1.),\n",
    "              loss='sparse_categorical_crossentropy',\n",
    "              metrics=['accuracy'])\n",
    "model.fit(train_images, train_labels,\n",
    "          epochs=10,\n",
    "          batch_size=128,\n",
    "          validation_split=0.2)"
   ]
  },
  {
   "cell_type": "markdown",
   "metadata": {},
   "source": [
    "Instead, we will try a learning rate of 1e-2."
   ]
  },
  {
   "cell_type": "code",
   "execution_count": 3,
   "metadata": {},
   "outputs": [
    {
     "name": "stdout",
     "output_type": "stream",
     "text": [
      "Epoch 1/10\n",
      "375/375 [==============================] - 3s 9ms/step - loss: 0.3688 - accuracy: 0.9108 - val_loss: 0.2213 - val_accuracy: 0.9441\n",
      "Epoch 2/10\n",
      "375/375 [==============================] - 4s 9ms/step - loss: 0.1411 - accuracy: 0.9626 - val_loss: 0.1427 - val_accuracy: 0.9677\n",
      "Epoch 3/10\n",
      "375/375 [==============================] - 3s 8ms/step - loss: 0.1127 - accuracy: 0.9720 - val_loss: 0.1889 - val_accuracy: 0.9658\n",
      "Epoch 4/10\n",
      "375/375 [==============================] - 4s 11ms/step - loss: 0.1023 - accuracy: 0.9778 - val_loss: 0.1649 - val_accuracy: 0.9699\n",
      "Epoch 5/10\n",
      "375/375 [==============================] - 3s 9ms/step - loss: 0.0845 - accuracy: 0.9825 - val_loss: 0.1870 - val_accuracy: 0.9697\n",
      "Epoch 6/10\n",
      "375/375 [==============================] - 3s 7ms/step - loss: 0.0804 - accuracy: 0.9843 - val_loss: 0.2420 - val_accuracy: 0.9673\n",
      "Epoch 7/10\n",
      "375/375 [==============================] - 3s 8ms/step - loss: 0.0675 - accuracy: 0.9871 - val_loss: 0.2453 - val_accuracy: 0.9718\n",
      "Epoch 8/10\n",
      "375/375 [==============================] - 3s 7ms/step - loss: 0.0661 - accuracy: 0.9878 - val_loss: 0.2974 - val_accuracy: 0.9688\n",
      "Epoch 9/10\n",
      "375/375 [==============================] - 3s 7ms/step - loss: 0.0676 - accuracy: 0.9886 - val_loss: 0.2953 - val_accuracy: 0.9711\n",
      "Epoch 10/10\n",
      "375/375 [==============================] - 3s 9ms/step - loss: 0.0562 - accuracy: 0.9900 - val_loss: 0.2875 - val_accuracy: 0.9742\n"
     ]
    },
    {
     "data": {
      "text/plain": [
       "<tensorflow.python.keras.callbacks.History at 0x251349a8ac0>"
      ]
     },
     "execution_count": 3,
     "metadata": {},
     "output_type": "execute_result"
    }
   ],
   "source": [
    "model = keras.Sequential([\n",
    "  layers.Dense(512, activation='relu'),\n",
    "  layers.Dense(10, activation='softmax')\n",
    "])\n",
    "model.compile(optimizer=keras.optimizers.RMSprop(1e-2),\n",
    "              loss='sparse_categorical_crossentropy',\n",
    "              metrics=['accuracy'])\n",
    "model.fit(train_images, train_labels,\n",
    "          epochs=10,\n",
    "          batch_size=128,\n",
    "          validation_split=0.2)"
   ]
  },
  {
   "cell_type": "markdown",
   "metadata": {},
   "source": [
    "Much better!  If training takes a while to get started and appears to stall, try increasing the learning rate.  A learning rate that is too high might overshoot our parameter fit and not improve over time.\n",
    "\n",
    "## 5.3.2 - Leveraging better architecture priors <a class=\"anchor\" id=\"second-bullet\"></a>\n",
    "\n",
    "What happens when we have a model that can be trained on the training data set, but fails to generalize to the validation data set?\n",
    "\n",
    "One of two things are probably happening.  The first is that the problem cannot be solved using the given data.  For example, you can achieve improvement on the MNIST digits training data with random labels because the model is essentially memorizing the training data.  The problem is that the model cannot generalize to the validation data set because there nothing about our model that would generalize to a validation set.\n",
    "\n",
    "We may be using the wrong model architecture for our problem.  Most of our examples have used dense nerual networks for image classification.  Would a dense neural network be a good approach to text data?  Time series data?  Check to see if there is a standard way of approaching a given problem if the model can be trained, but does not generalize to unseen data.\n",
    "\n",
    "## 5.3.3 - Increasing model capacity <a class=\"anchor\" id=\"third-bullet\"></a>\n",
    "\n",
    "Once we generate a model that can be trained and has validation metrics that perform well, the next step is to see if the model can be overfitted.  Our goal is to get our model to be balanced between underfitting and overfitting, but we won't know where we currently stand with out model until we try to overfit it.\n",
    "\n",
    "Below is a regression model of the MNIST digits data."
   ]
  },
  {
   "cell_type": "code",
   "execution_count": 4,
   "metadata": {},
   "outputs": [
    {
     "name": "stdout",
     "output_type": "stream",
     "text": [
      "Epoch 1/50\n",
      "375/375 [==============================] - 1s 2ms/step - loss: 0.6742 - accuracy: 0.8340 - val_loss: 0.3588 - val_accuracy: 0.9040\n",
      "Epoch 2/50\n",
      "375/375 [==============================] - 0s 1ms/step - loss: 0.3506 - accuracy: 0.9032 - val_loss: 0.3085 - val_accuracy: 0.9145\n",
      "Epoch 3/50\n",
      "375/375 [==============================] - 0s 1ms/step - loss: 0.3149 - accuracy: 0.9124 - val_loss: 0.2918 - val_accuracy: 0.9176\n",
      "Epoch 4/50\n",
      "375/375 [==============================] - 0s 1ms/step - loss: 0.2990 - accuracy: 0.9164 - val_loss: 0.2829 - val_accuracy: 0.9209\n",
      "Epoch 5/50\n",
      "375/375 [==============================] - 0s 1ms/step - loss: 0.2897 - accuracy: 0.9188 - val_loss: 0.2755 - val_accuracy: 0.9231\n",
      "Epoch 6/50\n",
      "375/375 [==============================] - 0s 1ms/step - loss: 0.2831 - accuracy: 0.9204 - val_loss: 0.2733 - val_accuracy: 0.9244\n",
      "Epoch 7/50\n",
      "375/375 [==============================] - 1s 2ms/step - loss: 0.2779 - accuracy: 0.9218 - val_loss: 0.2704 - val_accuracy: 0.9245\n",
      "Epoch 8/50\n",
      "375/375 [==============================] - 1s 1ms/step - loss: 0.2742 - accuracy: 0.9233 - val_loss: 0.2679 - val_accuracy: 0.9265\n",
      "Epoch 9/50\n",
      "375/375 [==============================] - 1s 1ms/step - loss: 0.2711 - accuracy: 0.9251 - val_loss: 0.2653 - val_accuracy: 0.9283\n",
      "Epoch 10/50\n",
      "375/375 [==============================] - 0s 1ms/step - loss: 0.2686 - accuracy: 0.9249 - val_loss: 0.2650 - val_accuracy: 0.9275\n",
      "Epoch 11/50\n",
      "375/375 [==============================] - 0s 1ms/step - loss: 0.2665 - accuracy: 0.9265 - val_loss: 0.2644 - val_accuracy: 0.9283\n",
      "Epoch 12/50\n",
      "375/375 [==============================] - 0s 1ms/step - loss: 0.2649 - accuracy: 0.9271 - val_loss: 0.2634 - val_accuracy: 0.9289\n",
      "Epoch 13/50\n",
      "375/375 [==============================] - 0s 1ms/step - loss: 0.2628 - accuracy: 0.9276 - val_loss: 0.2622 - val_accuracy: 0.9293\n",
      "Epoch 14/50\n",
      "375/375 [==============================] - 0s 1ms/step - loss: 0.2619 - accuracy: 0.9280 - val_loss: 0.2624 - val_accuracy: 0.9290\n",
      "Epoch 15/50\n",
      "375/375 [==============================] - 0s 1ms/step - loss: 0.2601 - accuracy: 0.9283 - val_loss: 0.2622 - val_accuracy: 0.9291\n",
      "Epoch 16/50\n",
      "375/375 [==============================] - 0s 1ms/step - loss: 0.2591 - accuracy: 0.9287 - val_loss: 0.2599 - val_accuracy: 0.9305\n",
      "Epoch 17/50\n",
      "375/375 [==============================] - 1s 1ms/step - loss: 0.2579 - accuracy: 0.9295 - val_loss: 0.2614 - val_accuracy: 0.9312\n",
      "Epoch 18/50\n",
      "375/375 [==============================] - 0s 1ms/step - loss: 0.2572 - accuracy: 0.9301 - val_loss: 0.2621 - val_accuracy: 0.9301\n",
      "Epoch 19/50\n",
      "375/375 [==============================] - 0s 1ms/step - loss: 0.2565 - accuracy: 0.9297 - val_loss: 0.2614 - val_accuracy: 0.9310\n",
      "Epoch 20/50\n",
      "375/375 [==============================] - 0s 1ms/step - loss: 0.2553 - accuracy: 0.9301 - val_loss: 0.2633 - val_accuracy: 0.9298\n",
      "Epoch 21/50\n",
      "375/375 [==============================] - 1s 2ms/step - loss: 0.2547 - accuracy: 0.9309 - val_loss: 0.2627 - val_accuracy: 0.9310\n",
      "Epoch 22/50\n",
      "375/375 [==============================] - 1s 1ms/step - loss: 0.2542 - accuracy: 0.9312 - val_loss: 0.2612 - val_accuracy: 0.9305\n",
      "Epoch 23/50\n",
      "375/375 [==============================] - 0s 1ms/step - loss: 0.2536 - accuracy: 0.9313 - val_loss: 0.2613 - val_accuracy: 0.9308\n",
      "Epoch 24/50\n",
      "375/375 [==============================] - 0s 1ms/step - loss: 0.2531 - accuracy: 0.9315 - val_loss: 0.2617 - val_accuracy: 0.9316\n",
      "Epoch 25/50\n",
      "375/375 [==============================] - 0s 1ms/step - loss: 0.2525 - accuracy: 0.9312 - val_loss: 0.2607 - val_accuracy: 0.9310\n",
      "Epoch 26/50\n",
      "375/375 [==============================] - 0s 1ms/step - loss: 0.2519 - accuracy: 0.9319 - val_loss: 0.2607 - val_accuracy: 0.9309\n",
      "Epoch 27/50\n",
      "375/375 [==============================] - 0s 1ms/step - loss: 0.2513 - accuracy: 0.9317 - val_loss: 0.2640 - val_accuracy: 0.9312\n",
      "Epoch 28/50\n",
      "375/375 [==============================] - 0s 1ms/step - loss: 0.2508 - accuracy: 0.9323 - val_loss: 0.2629 - val_accuracy: 0.9313\n",
      "Epoch 29/50\n",
      "375/375 [==============================] - 0s 1ms/step - loss: 0.2504 - accuracy: 0.9324 - val_loss: 0.2618 - val_accuracy: 0.9316\n",
      "Epoch 30/50\n",
      "375/375 [==============================] - 1s 1ms/step - loss: 0.2499 - accuracy: 0.9321 - val_loss: 0.2627 - val_accuracy: 0.9311\n",
      "Epoch 31/50\n",
      "375/375 [==============================] - 1s 1ms/step - loss: 0.2494 - accuracy: 0.9324 - val_loss: 0.2615 - val_accuracy: 0.9315\n",
      "Epoch 32/50\n",
      "375/375 [==============================] - 1s 1ms/step - loss: 0.2490 - accuracy: 0.9329 - val_loss: 0.2615 - val_accuracy: 0.9312\n",
      "Epoch 33/50\n",
      "375/375 [==============================] - 1s 2ms/step - loss: 0.2485 - accuracy: 0.9323 - val_loss: 0.2634 - val_accuracy: 0.9306\n",
      "Epoch 34/50\n",
      "375/375 [==============================] - 1s 2ms/step - loss: 0.2486 - accuracy: 0.9323 - val_loss: 0.2637 - val_accuracy: 0.9309\n",
      "Epoch 35/50\n",
      "375/375 [==============================] - 1s 2ms/step - loss: 0.2480 - accuracy: 0.9330 - val_loss: 0.2630 - val_accuracy: 0.9310\n",
      "Epoch 36/50\n",
      "375/375 [==============================] - 1s 2ms/step - loss: 0.2475 - accuracy: 0.9334 - val_loss: 0.2646 - val_accuracy: 0.9303\n",
      "Epoch 37/50\n",
      "375/375 [==============================] - 1s 2ms/step - loss: 0.2472 - accuracy: 0.9331 - val_loss: 0.2633 - val_accuracy: 0.9314\n",
      "Epoch 38/50\n",
      "375/375 [==============================] - 1s 2ms/step - loss: 0.2470 - accuracy: 0.9328 - val_loss: 0.2638 - val_accuracy: 0.9310\n",
      "Epoch 39/50\n",
      "375/375 [==============================] - 1s 2ms/step - loss: 0.2467 - accuracy: 0.9337 - val_loss: 0.2655 - val_accuracy: 0.9304\n",
      "Epoch 40/50\n",
      "375/375 [==============================] - 1s 2ms/step - loss: 0.2465 - accuracy: 0.9339 - val_loss: 0.2665 - val_accuracy: 0.9308\n",
      "Epoch 41/50\n",
      "375/375 [==============================] - 1s 2ms/step - loss: 0.2463 - accuracy: 0.9335 - val_loss: 0.2630 - val_accuracy: 0.9321\n",
      "Epoch 42/50\n",
      "375/375 [==============================] - 0s 1ms/step - loss: 0.2460 - accuracy: 0.9339 - val_loss: 0.2647 - val_accuracy: 0.9306\n",
      "Epoch 43/50\n",
      "375/375 [==============================] - 0s 1ms/step - loss: 0.2458 - accuracy: 0.9340 - val_loss: 0.2636 - val_accuracy: 0.9320\n",
      "Epoch 44/50\n",
      "375/375 [==============================] - 1s 2ms/step - loss: 0.2455 - accuracy: 0.9341 - val_loss: 0.2652 - val_accuracy: 0.9310\n",
      "Epoch 45/50\n",
      "375/375 [==============================] - 1s 1ms/step - loss: 0.2455 - accuracy: 0.9343 - val_loss: 0.2644 - val_accuracy: 0.9312\n",
      "Epoch 46/50\n",
      "375/375 [==============================] - 1s 2ms/step - loss: 0.2451 - accuracy: 0.9344 - val_loss: 0.2646 - val_accuracy: 0.9320\n",
      "Epoch 47/50\n",
      "375/375 [==============================] - 1s 2ms/step - loss: 0.2449 - accuracy: 0.9340 - val_loss: 0.2657 - val_accuracy: 0.9316\n",
      "Epoch 48/50\n",
      "375/375 [==============================] - 1s 2ms/step - loss: 0.2447 - accuracy: 0.9339 - val_loss: 0.2679 - val_accuracy: 0.9308\n",
      "Epoch 49/50\n",
      "375/375 [==============================] - 1s 2ms/step - loss: 0.2442 - accuracy: 0.9345 - val_loss: 0.2699 - val_accuracy: 0.9284\n",
      "Epoch 50/50\n",
      "375/375 [==============================] - 1s 1ms/step - loss: 0.2444 - accuracy: 0.9351 - val_loss: 0.2685 - val_accuracy: 0.9306\n"
     ]
    }
   ],
   "source": [
    "model = keras.Sequential([layers.Dense(10, activation='softmax')])\n",
    "model.compile(optimizer='rmsprop',\n",
    "              loss='sparse_categorical_crossentropy',\n",
    "              metrics=['accuracy'])\n",
    "history_small_model = model.fit(\n",
    "    train_images, train_labels,\n",
    "    epochs=50,\n",
    "    batch_size=128,\n",
    "    validation_split=0.2)"
   ]
  },
  {
   "cell_type": "markdown",
   "metadata": {},
   "source": [
    "Our plot of the validation loss shows that our model keeps improving, but we aren't clearly overfitting the model (at least according to the book).\n",
    "\n",
    "It does appear that validation loss increases after about epoch 35, so we could argue that we are starting to overfit the model at this point.  The book's point is that we cannot overtrain because our original model is so simple.  Adding complexity with additional representational layers would allow us to overtrain the model."
   ]
  },
  {
   "cell_type": "code",
   "execution_count": 5,
   "metadata": {},
   "outputs": [
    {
     "data": {
      "text/plain": [
       "<matplotlib.legend.Legend at 0x25136448910>"
      ]
     },
     "execution_count": 5,
     "metadata": {},
     "output_type": "execute_result"
    },
    {
     "data": {
      "image/png": "[encoded data removed]",
      "text/plain": [
       "<Figure size 432x288 with 1 Axes>"
      ]
     },
     "metadata": {
      "needs_background": "light"
     },
     "output_type": "display_data"
    }
   ],
   "source": [
    "val_loss = history_small_model.history['val_loss']\n",
    "epochs = range(1, 51)\n",
    "plt.plot(epochs, val_loss, 'b--',\n",
    "         label='Validation loss')\n",
    "plt.title('Effect of insufficient model capacity on validation loss')\n",
    "plt.xlabel('Epochs')\n",
    "plt.ylabel('Loss')\n",
    "plt.legend()"
   ]
  },
  {
   "cell_type": "markdown",
   "metadata": {},
   "source": [
    "Same exercise, but we make our model more complex so we can get to the point of overfitting."
   ]
  },
  {
   "cell_type": "code",
   "execution_count": 6,
   "metadata": {},
   "outputs": [
    {
     "name": "stdout",
     "output_type": "stream",
     "text": [
      "Epoch 1/20\n",
      "375/375 [==============================] - 1s 3ms/step - loss: 0.3606 - accuracy: 0.8986 - val_loss: 0.1987 - val_accuracy: 0.9393\n",
      "Epoch 2/20\n",
      "375/375 [==============================] - 1s 2ms/step - loss: 0.1572 - accuracy: 0.9538 - val_loss: 0.1317 - val_accuracy: 0.9607\n",
      "Epoch 3/20\n",
      "375/375 [==============================] - 1s 3ms/step - loss: 0.1100 - accuracy: 0.9678 - val_loss: 0.1185 - val_accuracy: 0.9643\n",
      "Epoch 4/20\n",
      "375/375 [==============================] - 1s 3ms/step - loss: 0.0850 - accuracy: 0.9746 - val_loss: 0.1061 - val_accuracy: 0.9695\n",
      "Epoch 5/20\n",
      "375/375 [==============================] - 1s 3ms/step - loss: 0.0684 - accuracy: 0.9787 - val_loss: 0.1036 - val_accuracy: 0.9714\n",
      "Epoch 6/20\n",
      "375/375 [==============================] - 1s 2ms/step - loss: 0.0563 - accuracy: 0.9826 - val_loss: 0.1086 - val_accuracy: 0.9678\n",
      "Epoch 7/20\n",
      "375/375 [==============================] - 1s 3ms/step - loss: 0.0452 - accuracy: 0.9865 - val_loss: 0.1056 - val_accuracy: 0.9707\n",
      "Epoch 8/20\n",
      "375/375 [==============================] - 1s 3ms/step - loss: 0.0383 - accuracy: 0.9886 - val_loss: 0.0910 - val_accuracy: 0.9743\n",
      "Epoch 9/20\n",
      "375/375 [==============================] - 1s 3ms/step - loss: 0.0322 - accuracy: 0.9900 - val_loss: 0.1006 - val_accuracy: 0.9735\n",
      "Epoch 10/20\n",
      "375/375 [==============================] - 1s 3ms/step - loss: 0.0274 - accuracy: 0.9912 - val_loss: 0.0998 - val_accuracy: 0.9742\n",
      "Epoch 11/20\n",
      "375/375 [==============================] - 1s 2ms/step - loss: 0.0225 - accuracy: 0.9929 - val_loss: 0.1056 - val_accuracy: 0.9739\n",
      "Epoch 12/20\n",
      "375/375 [==============================] - 1s 2ms/step - loss: 0.0190 - accuracy: 0.9942 - val_loss: 0.1224 - val_accuracy: 0.9713\n",
      "Epoch 13/20\n",
      "375/375 [==============================] - 1s 2ms/step - loss: 0.0160 - accuracy: 0.9952 - val_loss: 0.1042 - val_accuracy: 0.9757\n",
      "Epoch 14/20\n",
      "375/375 [==============================] - 1s 2ms/step - loss: 0.0138 - accuracy: 0.9959 - val_loss: 0.1080 - val_accuracy: 0.9758\n",
      "Epoch 15/20\n",
      "375/375 [==============================] - 1s 2ms/step - loss: 0.0112 - accuracy: 0.9965 - val_loss: 0.1269 - val_accuracy: 0.9738\n",
      "Epoch 16/20\n",
      "375/375 [==============================] - 1s 2ms/step - loss: 0.0098 - accuracy: 0.9967 - val_loss: 0.1289 - val_accuracy: 0.9737\n",
      "Epoch 17/20\n",
      "375/375 [==============================] - 1s 2ms/step - loss: 0.0089 - accuracy: 0.9973 - val_loss: 0.1219 - val_accuracy: 0.9755\n",
      "Epoch 18/20\n",
      "375/375 [==============================] - 1s 2ms/step - loss: 0.0070 - accuracy: 0.9978 - val_loss: 0.1243 - val_accuracy: 0.9758\n",
      "Epoch 19/20\n",
      "375/375 [==============================] - 1s 2ms/step - loss: 0.0059 - accuracy: 0.9983 - val_loss: 0.1342 - val_accuracy: 0.9746\n",
      "Epoch 20/20\n",
      "375/375 [==============================] - 1s 2ms/step - loss: 0.0058 - accuracy: 0.9983 - val_loss: 0.1423 - val_accuracy: 0.9743\n"
     ]
    }
   ],
   "source": [
    "model = keras.Sequential([\n",
    "  layers.Dense(96, activation='relu'),\n",
    "  layers.Dense(96, activation='relu'),\n",
    "  layers.Dense(10, activation='softmax'),\n",
    "])\n",
    "model.compile(optimizer='rmsprop',\n",
    "              loss='sparse_categorical_crossentropy',\n",
    "              metrics=['accuracy'])\n",
    "history_large_model = model.fit(\n",
    "    train_images, train_labels,\n",
    "    epochs=20,\n",
    "    batch_size=128,\n",
    "    validation_split=0.2)"
   ]
  },
  {
   "cell_type": "code",
   "execution_count": 7,
   "metadata": {},
   "outputs": [
    {
     "data": {
      "text/plain": [
       "<matplotlib.legend.Legend at 0x25136f137f0>"
      ]
     },
     "execution_count": 7,
     "metadata": {},
     "output_type": "execute_result"
    },
    {
     "data": {
      "image/png": "[encoded data removed]",
      "text/plain": [
       "<Figure size 432x288 with 1 Axes>"
      ]
     },
     "metadata": {
      "needs_background": "light"
     },
     "output_type": "display_data"
    }
   ],
   "source": [
    "val_loss = history_large_model.history['val_loss']\n",
    "epochs = range(1, 21)\n",
    "plt.plot(epochs, val_loss, 'b--',\n",
    "         label='Validation loss')\n",
    "plt.title('Sufficient model capacity allows for overtraining')\n",
    "plt.xlabel('Epochs')\n",
    "plt.ylabel('Loss')\n",
    "plt.legend()"
   ]
  },
  {
   "cell_type": "markdown",
   "metadata": {},
   "source": [
    "We now have clear overfitting beyond approximately epoch 10."
   ]
  },
  {
   "cell_type": "markdown",
   "metadata": {},
   "source": [
    "## 5.4.4  Regularizing your model <a class=\"anchor\" id=\"fourth-bullet\"></a>\n",
    "\n",
    "One way to prevent overfitting is to keep the model as simple as possible.  A simple model is less prone to overfitting, but may lack the capacity to be overfitted at all.  A complex model can be overfitted more easily.  \n",
    "\n",
    "This is shown by comparing our original IMDB movie review classifier to a simplier model."
   ]
  },
  {
   "cell_type": "code",
   "execution_count": 8,
   "metadata": {},
   "outputs": [
    {
     "name": "stdout",
     "output_type": "stream",
     "text": [
      "Epoch 1/20\n",
      "30/30 [==============================] - 7s 236ms/step - loss: 0.5090 - accuracy: 0.7791 - val_loss: 0.3852 - val_accuracy: 0.8684\n",
      "Epoch 2/20\n",
      "30/30 [==============================] - 1s 28ms/step - loss: 0.3052 - accuracy: 0.9041 - val_loss: 0.3093 - val_accuracy: 0.8878\n",
      "Epoch 3/20\n",
      "30/30 [==============================] - 1s 28ms/step - loss: 0.2238 - accuracy: 0.9291 - val_loss: 0.2782 - val_accuracy: 0.8922\n",
      "Epoch 4/20\n",
      "30/30 [==============================] - 1s 28ms/step - loss: 0.1756 - accuracy: 0.9442 - val_loss: 0.2777 - val_accuracy: 0.8907\n",
      "Epoch 5/20\n",
      "30/30 [==============================] - 1s 34ms/step - loss: 0.1421 - accuracy: 0.9551 - val_loss: 0.3070 - val_accuracy: 0.8806\n",
      "Epoch 6/20\n",
      "30/30 [==============================] - 1s 32ms/step - loss: 0.1198 - accuracy: 0.9643 - val_loss: 0.3173 - val_accuracy: 0.8797\n",
      "Epoch 7/20\n",
      "30/30 [==============================] - 1s 33ms/step - loss: 0.0985 - accuracy: 0.9717 - val_loss: 0.3240 - val_accuracy: 0.8817\n",
      "Epoch 8/20\n",
      "30/30 [==============================] - 1s 32ms/step - loss: 0.0860 - accuracy: 0.9752 - val_loss: 0.3377 - val_accuracy: 0.8801\n",
      "Epoch 9/20\n",
      "30/30 [==============================] - 1s 31ms/step - loss: 0.0691 - accuracy: 0.9816 - val_loss: 0.3543 - val_accuracy: 0.8796\n",
      "Epoch 10/20\n",
      "30/30 [==============================] - 1s 31ms/step - loss: 0.0590 - accuracy: 0.9848 - val_loss: 0.4474 - val_accuracy: 0.8635\n",
      "Epoch 11/20\n",
      "30/30 [==============================] - 1s 31ms/step - loss: 0.0489 - accuracy: 0.9865 - val_loss: 0.4042 - val_accuracy: 0.8737\n",
      "Epoch 12/20\n",
      "30/30 [==============================] - 1s 32ms/step - loss: 0.0396 - accuracy: 0.9910 - val_loss: 0.4363 - val_accuracy: 0.8746\n",
      "Epoch 13/20\n",
      "30/30 [==============================] - 1s 27ms/step - loss: 0.0319 - accuracy: 0.9935 - val_loss: 0.4907 - val_accuracy: 0.8681\n",
      "Epoch 14/20\n",
      "30/30 [==============================] - 1s 28ms/step - loss: 0.0269 - accuracy: 0.9944 - val_loss: 0.4964 - val_accuracy: 0.8711\n",
      "Epoch 15/20\n",
      "30/30 [==============================] - 1s 30ms/step - loss: 0.0215 - accuracy: 0.9956 - val_loss: 0.5310 - val_accuracy: 0.8710\n",
      "Epoch 16/20\n",
      "30/30 [==============================] - 1s 32ms/step - loss: 0.0180 - accuracy: 0.9962 - val_loss: 0.5667 - val_accuracy: 0.8706\n",
      "Epoch 17/20\n",
      "30/30 [==============================] - 1s 32ms/step - loss: 0.0119 - accuracy: 0.9986 - val_loss: 0.5973 - val_accuracy: 0.8685\n",
      "Epoch 18/20\n",
      "30/30 [==============================] - 1s 26ms/step - loss: 0.0107 - accuracy: 0.9989 - val_loss: 0.6430 - val_accuracy: 0.8669\n",
      "Epoch 19/20\n",
      "30/30 [==============================] - 1s 28ms/step - loss: 0.0100 - accuracy: 0.9980 - val_loss: 0.6793 - val_accuracy: 0.8667\n",
      "Epoch 20/20\n",
      "30/30 [==============================] - 1s 25ms/step - loss: 0.0045 - accuracy: 0.9996 - val_loss: 0.7099 - val_accuracy: 0.8659\n"
     ]
    }
   ],
   "source": [
    "from tensorflow.keras.datasets import imdb\n",
    "(train_data, train_labels), _ = imdb.load_data(num_words=10000)\n",
    "\n",
    "def vectorize_sequences(sequences, dimension=10000):\n",
    "    results = np.zeros((len(sequences), dimension))\n",
    "    for i, sequence in enumerate(sequences):\n",
    "        results[i, sequence] = 1.\n",
    "    return results\n",
    "train_data = vectorize_sequences(train_data)\n",
    "\n",
    "model = keras.Sequential([\n",
    "  layers.Dense(16, activation='relu'),\n",
    "  layers.Dense(16, activation='relu'),\n",
    "  layers.Dense(1, activation='sigmoid')\n",
    "])\n",
    "model.compile(optimizer='rmsprop',\n",
    "              loss='binary_crossentropy',\n",
    "              metrics=['accuracy'])\n",
    "hist_original = model.fit(train_data, train_labels,\n",
    "                          epochs=20, batch_size=512, validation_split=0.4)"
   ]
  },
  {
   "cell_type": "code",
   "execution_count": 9,
   "metadata": {},
   "outputs": [
    {
     "name": "stdout",
     "output_type": "stream",
     "text": [
      "Epoch 1/20\n",
      "30/30 [==============================] - 3s 107ms/step - loss: 0.5942 - accuracy: 0.7141 - val_loss: 0.5124 - val_accuracy: 0.8202\n",
      "Epoch 2/20\n",
      "30/30 [==============================] - 1s 25ms/step - loss: 0.4461 - accuracy: 0.8675 - val_loss: 0.4201 - val_accuracy: 0.8704\n",
      "Epoch 3/20\n",
      "30/30 [==============================] - 1s 22ms/step - loss: 0.3485 - accuracy: 0.9061 - val_loss: 0.3565 - val_accuracy: 0.8756\n",
      "Epoch 4/20\n",
      "30/30 [==============================] - 1s 21ms/step - loss: 0.2766 - accuracy: 0.9261 - val_loss: 0.3128 - val_accuracy: 0.8873\n",
      "Epoch 5/20\n",
      "30/30 [==============================] - 1s 22ms/step - loss: 0.2260 - accuracy: 0.9377 - val_loss: 0.2925 - val_accuracy: 0.8906\n",
      "Epoch 6/20\n",
      "30/30 [==============================] - 1s 21ms/step - loss: 0.1878 - accuracy: 0.9469 - val_loss: 0.2814 - val_accuracy: 0.8917\n",
      "Epoch 7/20\n",
      "30/30 [==============================] - 1s 22ms/step - loss: 0.1579 - accuracy: 0.9539 - val_loss: 0.2791 - val_accuracy: 0.8903\n",
      "Epoch 8/20\n",
      "30/30 [==============================] - 1s 21ms/step - loss: 0.1342 - accuracy: 0.9615 - val_loss: 0.2847 - val_accuracy: 0.8895\n",
      "Epoch 9/20\n",
      "30/30 [==============================] - 1s 21ms/step - loss: 0.1167 - accuracy: 0.9687 - val_loss: 0.2915 - val_accuracy: 0.8864\n",
      "Epoch 10/20\n",
      "30/30 [==============================] - 1s 21ms/step - loss: 0.1032 - accuracy: 0.9729 - val_loss: 0.3017 - val_accuracy: 0.8853\n",
      "Epoch 11/20\n",
      "30/30 [==============================] - 1s 21ms/step - loss: 0.0909 - accuracy: 0.9777 - val_loss: 0.3131 - val_accuracy: 0.8829\n",
      "Epoch 12/20\n",
      "30/30 [==============================] - 1s 22ms/step - loss: 0.0799 - accuracy: 0.9815 - val_loss: 0.3261 - val_accuracy: 0.8834\n",
      "Epoch 13/20\n",
      "30/30 [==============================] - 1s 22ms/step - loss: 0.0712 - accuracy: 0.9837 - val_loss: 0.3409 - val_accuracy: 0.8817\n",
      "Epoch 14/20\n",
      "30/30 [==============================] - 1s 22ms/step - loss: 0.0624 - accuracy: 0.9861 - val_loss: 0.3591 - val_accuracy: 0.8795\n",
      "Epoch 15/20\n",
      "30/30 [==============================] - 1s 22ms/step - loss: 0.0549 - accuracy: 0.9882 - val_loss: 0.3765 - val_accuracy: 0.8769\n",
      "Epoch 16/20\n",
      "30/30 [==============================] - 1s 22ms/step - loss: 0.0494 - accuracy: 0.9898 - val_loss: 0.4054 - val_accuracy: 0.8775\n",
      "Epoch 17/20\n",
      "30/30 [==============================] - 1s 21ms/step - loss: 0.0433 - accuracy: 0.9919 - val_loss: 0.4097 - val_accuracy: 0.8764\n",
      "Epoch 18/20\n",
      "30/30 [==============================] - 1s 23ms/step - loss: 0.0384 - accuracy: 0.9932 - val_loss: 0.4420 - val_accuracy: 0.8748\n",
      "Epoch 19/20\n",
      "30/30 [==============================] - 1s 27ms/step - loss: 0.0336 - accuracy: 0.9943 - val_loss: 0.4576 - val_accuracy: 0.8730\n",
      "Epoch 20/20\n",
      "30/30 [==============================] - 1s 22ms/step - loss: 0.0297 - accuracy: 0.9959 - val_loss: 0.4889 - val_accuracy: 0.8715\n"
     ]
    }
   ],
   "source": [
    "model = keras.Sequential([\n",
    "  layers.Dense(4, activation='relu'),\n",
    "  layers.Dense(4, activation='relu'),\n",
    "  layers.Dense(1, activation='sigmoid')\n",
    "])\n",
    "model.compile(optimizer='rmsprop',\n",
    "              loss='binary_crossentropy',\n",
    "              metrics=['accuracy'])\n",
    "hist_smaller_model = model.fit(\n",
    "    train_data, train_labels,\n",
    "    epochs=20, batch_size=512, validation_split=0.4)"
   ]
  },
  {
   "cell_type": "code",
   "execution_count": 10,
   "metadata": {},
   "outputs": [
    {
     "data": {
      "text/plain": [
       "<matplotlib.legend.Legend at 0x25136451490>"
      ]
     },
     "execution_count": 10,
     "metadata": {},
     "output_type": "execute_result"
    },
    {
     "data": {
      "image/png": "[encoded data removed]",
      "text/plain": [
       "<Figure size 432x288 with 1 Axes>"
      ]
     },
     "metadata": {
      "needs_background": "light"
     },
     "output_type": "display_data"
    }
   ],
   "source": [
    "val_loss = hist_original.history['val_loss']\n",
    "val_loss_sm = hist_smaller_model.history['val_loss']\n",
    "epochs = range(1, 21)\n",
    "plt.plot(epochs, val_loss, 'b--',\n",
    "         label='Original validation loss')\n",
    "plt.plot(epochs, val_loss_sm, 'b',\n",
    "         label='Smaller validation loss')\n",
    "plt.title('Validation Loss of Original Vs. Smaller Model')\n",
    "plt.xlabel('Epochs')\n",
    "plt.ylabel('Loss')\n",
    "plt.legend()"
   ]
  },
  {
   "cell_type": "markdown",
   "metadata": {},
   "source": [
    "Our original model starts overtraining at about epoch 5.  The smaller, more simple model delays overtraining until about epoch 10."
   ]
  },
  {
   "cell_type": "markdown",
   "metadata": {},
   "source": [
    "What happens when we swing the other way and develop a model that's far more complicated than the task at hand calls for?  We start overfitting almost immediately."
   ]
  },
  {
   "cell_type": "code",
   "execution_count": 11,
   "metadata": {},
   "outputs": [
    {
     "name": "stdout",
     "output_type": "stream",
     "text": [
      "Epoch 1/20\n",
      "30/30 [==============================] - 7s 243ms/step - loss: 0.5729 - accuracy: 0.7507 - val_loss: 0.3001 - val_accuracy: 0.8875\n",
      "Epoch 2/20\n",
      "30/30 [==============================] - 5s 181ms/step - loss: 0.2717 - accuracy: 0.9023 - val_loss: 0.3411 - val_accuracy: 0.8548\n",
      "Epoch 3/20\n",
      "30/30 [==============================] - 5s 172ms/step - loss: 0.1636 - accuracy: 0.9449 - val_loss: 0.3795 - val_accuracy: 0.8540\n",
      "Epoch 4/20\n",
      "30/30 [==============================] - 5s 168ms/step - loss: 0.0990 - accuracy: 0.9700 - val_loss: 0.3442 - val_accuracy: 0.8893\n",
      "Epoch 5/20\n",
      "30/30 [==============================] - 5s 175ms/step - loss: 0.1152 - accuracy: 0.9755 - val_loss: 0.3336 - val_accuracy: 0.8847\n",
      "Epoch 6/20\n",
      "30/30 [==============================] - 5s 176ms/step - loss: 0.0063 - accuracy: 0.9995 - val_loss: 0.4840 - val_accuracy: 0.8880\n",
      "Epoch 7/20\n",
      "30/30 [==============================] - 5s 166ms/step - loss: 9.6224e-04 - accuracy: 0.9999 - val_loss: 0.6067 - val_accuracy: 0.8870\n",
      "Epoch 8/20\n",
      "30/30 [==============================] - 5s 161ms/step - loss: 1.2480e-04 - accuracy: 1.0000 - val_loss: 0.7674 - val_accuracy: 0.8824\n",
      "Epoch 9/20\n",
      "30/30 [==============================] - 5s 159ms/step - loss: 2.4117e-05 - accuracy: 1.0000 - val_loss: 0.8394 - val_accuracy: 0.8850\n",
      "Epoch 10/20\n",
      "30/30 [==============================] - 5s 158ms/step - loss: 4.8228e-06 - accuracy: 1.0000 - val_loss: 0.9178 - val_accuracy: 0.8857\n",
      "Epoch 11/20\n",
      "30/30 [==============================] - 5s 162ms/step - loss: 1.1760e-06 - accuracy: 1.0000 - val_loss: 1.0178 - val_accuracy: 0.8843\n",
      "Epoch 12/20\n",
      "30/30 [==============================] - 5s 159ms/step - loss: 3.5953e-07 - accuracy: 1.0000 - val_loss: 1.1068 - val_accuracy: 0.8837\n",
      "Epoch 13/20\n",
      "30/30 [==============================] - 4s 149ms/step - loss: 1.2039e-07 - accuracy: 1.0000 - val_loss: 1.1589 - val_accuracy: 0.8846\n",
      "Epoch 14/20\n",
      "30/30 [==============================] - 5s 153ms/step - loss: 5.2127e-08 - accuracy: 1.0000 - val_loss: 1.2130 - val_accuracy: 0.8846\n",
      "Epoch 15/20\n",
      "30/30 [==============================] - 4s 148ms/step - loss: 2.9024e-08 - accuracy: 1.0000 - val_loss: 1.2427 - val_accuracy: 0.8846\n",
      "Epoch 16/20\n",
      "30/30 [==============================] - 5s 151ms/step - loss: 1.9575e-08 - accuracy: 1.0000 - val_loss: 1.2636 - val_accuracy: 0.8847\n",
      "Epoch 17/20\n",
      "30/30 [==============================] - 5s 159ms/step - loss: 1.4683e-08 - accuracy: 1.0000 - val_loss: 1.2803 - val_accuracy: 0.8846\n",
      "Epoch 18/20\n",
      "30/30 [==============================] - 5s 160ms/step - loss: 1.1752e-08 - accuracy: 1.0000 - val_loss: 1.2918 - val_accuracy: 0.8843\n",
      "Epoch 19/20\n",
      "30/30 [==============================] - 5s 161ms/step - loss: 9.8353e-09 - accuracy: 1.0000 - val_loss: 1.3050 - val_accuracy: 0.8845\n",
      "Epoch 20/20\n",
      "30/30 [==============================] - 4s 148ms/step - loss: 8.4363e-09 - accuracy: 1.0000 - val_loss: 1.3104 - val_accuracy: 0.8844\n"
     ]
    }
   ],
   "source": [
    "model = keras.Sequential([\n",
    "  layers.Dense(512, activation='relu'),\n",
    "  layers.Dense(512, activation='relu'),\n",
    "  layers.Dense(1, activation='sigmoid')\n",
    "])\n",
    "model.compile(optimizer='rmsprop',\n",
    "              loss='binary_crossentropy',\n",
    "              metrics=['accuracy'])\n",
    "hist_larger_model = model.fit(\n",
    "    train_data, train_labels,\n",
    "    epochs=20, batch_size=512, validation_split=0.4)"
   ]
  },
  {
   "cell_type": "code",
   "execution_count": 12,
   "metadata": {},
   "outputs": [
    {
     "data": {
      "text/plain": [
       "<matplotlib.legend.Legend at 0x251372fb370>"
      ]
     },
     "execution_count": 12,
     "metadata": {},
     "output_type": "execute_result"
    },
    {
     "data": {
      "image/png": "[encoded data removed]",
      "text/plain": [
       "<Figure size 432x288 with 1 Axes>"
      ]
     },
     "metadata": {
      "needs_background": "light"
     },
     "output_type": "display_data"
    }
   ],
   "source": [
    "val_loss = hist_original.history['val_loss']\n",
    "val_loss_lg = hist_larger_model.history['val_loss']\n",
    "epochs = range(1, 21)\n",
    "plt.plot(epochs, val_loss, 'b--',\n",
    "         label='Original validation loss')\n",
    "plt.plot(epochs, val_loss_lg, 'b',\n",
    "         label='Larger validation loss')\n",
    "plt.title('Validation Loss of Original Vs. Larger Model')\n",
    "plt.xlabel('Epochs')\n",
    "plt.ylabel('Loss')\n",
    "plt.legend()"
   ]
  },
  {
   "cell_type": "markdown",
   "metadata": {},
   "source": [
    "When can also use L1 and L2 regularization to regularize our model.  In essence, a penalty is added to the model if the model weights grow too large.\n",
    "\n",
    "From Deep Learning with Python (Second Edition):\n",
    "* **L1 regularization**  — The cost added is proportional to the absolute value of the weight coefficients (the L1 norm of the weights).\n",
    "* **L2 regularization**  — The cost added is proportional to the square of the value of the weight coefficients (the L2 norm of the weights). L2 regularization is also called weight decay in the context of neural networks. Don’t let the different name confuse you: weight decay is mathematically the same as L2 regularization.\n",
    "\n",
    "Here's what happens when we add L2 regularization to our original model:"
   ]
  },
  {
   "cell_type": "code",
   "execution_count": 13,
   "metadata": {},
   "outputs": [
    {
     "name": "stdout",
     "output_type": "stream",
     "text": [
      "Epoch 1/20\n",
      "30/30 [==============================] - 3s 105ms/step - loss: 0.6596 - accuracy: 0.6912 - val_loss: 0.5663 - val_accuracy: 0.8314\n",
      "Epoch 2/20\n",
      "30/30 [==============================] - 1s 36ms/step - loss: 0.4968 - accuracy: 0.8646 - val_loss: 0.4567 - val_accuracy: 0.8726\n",
      "Epoch 3/20\n",
      "30/30 [==============================] - 1s 29ms/step - loss: 0.3921 - accuracy: 0.9036 - val_loss: 0.3966 - val_accuracy: 0.8873\n",
      "Epoch 4/20\n",
      "30/30 [==============================] - 1s 25ms/step - loss: 0.3315 - accuracy: 0.9198 - val_loss: 0.3820 - val_accuracy: 0.8811\n",
      "Epoch 5/20\n",
      "30/30 [==============================] - 1s 25ms/step - loss: 0.2998 - accuracy: 0.9292 - val_loss: 0.3620 - val_accuracy: 0.8891\n",
      "Epoch 6/20\n",
      "30/30 [==============================] - 1s 26ms/step - loss: 0.2777 - accuracy: 0.9355 - val_loss: 0.3601 - val_accuracy: 0.8839\n",
      "Epoch 7/20\n",
      "30/30 [==============================] - 1s 28ms/step - loss: 0.2621 - accuracy: 0.9405 - val_loss: 0.3752 - val_accuracy: 0.8804\n",
      "Epoch 8/20\n",
      "30/30 [==============================] - 1s 27ms/step - loss: 0.2531 - accuracy: 0.9433 - val_loss: 0.3661 - val_accuracy: 0.8829\n",
      "Epoch 9/20\n",
      "30/30 [==============================] - 1s 26ms/step - loss: 0.2469 - accuracy: 0.9425 - val_loss: 0.3762 - val_accuracy: 0.8802\n",
      "Epoch 10/20\n",
      "30/30 [==============================] - 1s 27ms/step - loss: 0.2360 - accuracy: 0.9494 - val_loss: 0.3742 - val_accuracy: 0.8803\n",
      "Epoch 11/20\n",
      "30/30 [==============================] - 1s 25ms/step - loss: 0.2321 - accuracy: 0.9496 - val_loss: 0.3787 - val_accuracy: 0.8804\n",
      "Epoch 12/20\n",
      "30/30 [==============================] - 1s 25ms/step - loss: 0.2260 - accuracy: 0.9524 - val_loss: 0.3842 - val_accuracy: 0.8800\n",
      "Epoch 13/20\n",
      "30/30 [==============================] - 1s 25ms/step - loss: 0.2240 - accuracy: 0.9531 - val_loss: 0.3986 - val_accuracy: 0.8756\n",
      "Epoch 14/20\n",
      "30/30 [==============================] - 1s 25ms/step - loss: 0.2229 - accuracy: 0.9526 - val_loss: 0.3957 - val_accuracy: 0.8782\n",
      "Epoch 15/20\n",
      "30/30 [==============================] - 1s 25ms/step - loss: 0.2141 - accuracy: 0.9549 - val_loss: 0.4343 - val_accuracy: 0.8703\n",
      "Epoch 16/20\n",
      "30/30 [==============================] - 1s 24ms/step - loss: 0.2140 - accuracy: 0.9564 - val_loss: 0.4116 - val_accuracy: 0.8754\n",
      "Epoch 17/20\n",
      "30/30 [==============================] - 1s 24ms/step - loss: 0.2099 - accuracy: 0.9571 - val_loss: 0.4353 - val_accuracy: 0.8728\n",
      "Epoch 18/20\n",
      "30/30 [==============================] - 1s 24ms/step - loss: 0.2023 - accuracy: 0.9616 - val_loss: 0.4149 - val_accuracy: 0.8718\n",
      "Epoch 19/20\n",
      "30/30 [==============================] - 1s 25ms/step - loss: 0.2028 - accuracy: 0.9616 - val_loss: 0.4104 - val_accuracy: 0.8753\n",
      "Epoch 20/20\n",
      "30/30 [==============================] - 1s 23ms/step - loss: 0.1978 - accuracy: 0.9620 - val_loss: 0.4187 - val_accuracy: 0.8762\n"
     ]
    }
   ],
   "source": [
    "from tensorflow.keras import regularizers\n",
    "model = keras.Sequential([\n",
    "  layers.Dense(16,\n",
    "               kernel_regularizer=regularizers.l2(0.002),\n",
    "               activation='relu'),\n",
    "  layers.Dense(16,\n",
    "               kernel_regularizer=regularizers.l2(0.002),\n",
    "               activation='relu'),\n",
    "  layers.Dense(1, activation='sigmoid')\n",
    "])\n",
    "model.compile(optimizer='rmsprop',\n",
    "              loss='binary_crossentropy',\n",
    "              metrics=['accuracy'])\n",
    "hist_l2_reg = model.fit(\n",
    "    train_data, train_labels,\n",
    "    epochs=20, batch_size=512, validation_split=0.4)"
   ]
  },
  {
   "cell_type": "code",
   "execution_count": 14,
   "metadata": {},
   "outputs": [
    {
     "data": {
      "text/plain": [
       "<matplotlib.legend.Legend at 0x251377ceac0>"
      ]
     },
     "execution_count": 14,
     "metadata": {},
     "output_type": "execute_result"
    },
    {
     "data": {
      "image/png": "[encoded data removed]",
      "text/plain": [
       "<Figure size 432x288 with 1 Axes>"
      ]
     },
     "metadata": {
      "needs_background": "light"
     },
     "output_type": "display_data"
    }
   ],
   "source": [
    "val_loss = hist_original.history['val_loss']\n",
    "val_loss_l2 = hist_l2_reg.history['val_loss']\n",
    "epochs = range(1, 21)\n",
    "plt.plot(epochs, val_loss, 'b--',\n",
    "         label='Original validation loss')\n",
    "plt.plot(epochs, val_loss_l2, 'b',\n",
    "         label='L2 validation loss')\n",
    "plt.title('Validation Loss of Original Vs. L2 Regularized Model')\n",
    "plt.xlabel('Epochs')\n",
    "plt.ylabel('Loss')\n",
    "plt.legend()"
   ]
  },
  {
   "cell_type": "markdown",
   "metadata": {},
   "source": [
    "We can also regularize our model using Dropout, which will deactivate random neurons "
   ]
  },
  {
   "cell_type": "code",
   "execution_count": 15,
   "metadata": {},
   "outputs": [
    {
     "name": "stdout",
     "output_type": "stream",
     "text": [
      "Epoch 1/20\n",
      "30/30 [==============================] - 3s 102ms/step - loss: 0.6107 - accuracy: 0.6702 - val_loss: 0.4814 - val_accuracy: 0.8566\n",
      "Epoch 2/20\n",
      "30/30 [==============================] - 1s 29ms/step - loss: 0.4938 - accuracy: 0.7770 - val_loss: 0.3988 - val_accuracy: 0.8650\n",
      "Epoch 3/20\n",
      "30/30 [==============================] - 1s 28ms/step - loss: 0.4123 - accuracy: 0.8327 - val_loss: 0.3362 - val_accuracy: 0.8786\n",
      "Epoch 4/20\n",
      "30/30 [==============================] - 1s 25ms/step - loss: 0.3533 - accuracy: 0.8685 - val_loss: 0.3051 - val_accuracy: 0.8872\n",
      "Epoch 5/20\n",
      "30/30 [==============================] - 1s 25ms/step - loss: 0.3133 - accuracy: 0.8889 - val_loss: 0.2765 - val_accuracy: 0.8905\n",
      "Epoch 6/20\n",
      "30/30 [==============================] - 1s 25ms/step - loss: 0.2756 - accuracy: 0.9045 - val_loss: 0.2732 - val_accuracy: 0.8916\n",
      "Epoch 7/20\n",
      "30/30 [==============================] - 1s 26ms/step - loss: 0.2455 - accuracy: 0.9198 - val_loss: 0.2802 - val_accuracy: 0.8885\n",
      "Epoch 8/20\n",
      "30/30 [==============================] - 1s 25ms/step - loss: 0.2146 - accuracy: 0.9311 - val_loss: 0.2869 - val_accuracy: 0.8899\n",
      "Epoch 9/20\n",
      "30/30 [==============================] - 1s 24ms/step - loss: 0.1945 - accuracy: 0.9398 - val_loss: 0.3006 - val_accuracy: 0.8881\n",
      "Epoch 10/20\n",
      "30/30 [==============================] - 1s 23ms/step - loss: 0.1722 - accuracy: 0.9470 - val_loss: 0.3168 - val_accuracy: 0.8898\n",
      "Epoch 11/20\n",
      "30/30 [==============================] - 1s 24ms/step - loss: 0.1521 - accuracy: 0.9503 - val_loss: 0.3403 - val_accuracy: 0.8882\n",
      "Epoch 12/20\n",
      "30/30 [==============================] - 1s 23ms/step - loss: 0.1388 - accuracy: 0.9548 - val_loss: 0.3592 - val_accuracy: 0.8880\n",
      "Epoch 13/20\n",
      "30/30 [==============================] - 1s 23ms/step - loss: 0.1303 - accuracy: 0.9587 - val_loss: 0.3740 - val_accuracy: 0.8874\n",
      "Epoch 14/20\n",
      "30/30 [==============================] - 1s 23ms/step - loss: 0.1177 - accuracy: 0.9627 - val_loss: 0.4149 - val_accuracy: 0.8864\n",
      "Epoch 15/20\n",
      "30/30 [==============================] - 1s 23ms/step - loss: 0.1063 - accuracy: 0.9652 - val_loss: 0.4191 - val_accuracy: 0.8829\n",
      "Epoch 16/20\n",
      "30/30 [==============================] - 1s 23ms/step - loss: 0.1040 - accuracy: 0.9667 - val_loss: 0.4497 - val_accuracy: 0.8854\n",
      "Epoch 17/20\n",
      "30/30 [==============================] - 1s 23ms/step - loss: 0.0957 - accuracy: 0.9688 - val_loss: 0.4900 - val_accuracy: 0.8844\n",
      "Epoch 18/20\n",
      "30/30 [==============================] - 1s 23ms/step - loss: 0.0939 - accuracy: 0.9709 - val_loss: 0.5061 - val_accuracy: 0.8826\n",
      "Epoch 19/20\n",
      "30/30 [==============================] - 1s 23ms/step - loss: 0.0870 - accuracy: 0.9715 - val_loss: 0.5344 - val_accuracy: 0.8843\n",
      "Epoch 20/20\n",
      "30/30 [==============================] - 1s 21ms/step - loss: 0.0819 - accuracy: 0.9724 - val_loss: 0.5552 - val_accuracy: 0.8837\n"
     ]
    }
   ],
   "source": [
    "model = keras.Sequential([\n",
    "  layers.Dense(16, activation='relu'),\n",
    "  layers.Dropout(0.5),\n",
    "  layers.Dense(16, activation='relu'),\n",
    "  layers.Dropout(0.5),\n",
    "  layers.Dense(1, activation='sigmoid')\n",
    "])\n",
    "model.compile(optimizer='rmsprop',\n",
    "              loss='binary_crossentropy',\n",
    "              metrics=['accuracy'])\n",
    "hist_dropout = model.fit(\n",
    "    train_data, train_labels,\n",
    "    epochs=20, batch_size=512, validation_split=0.4)"
   ]
  },
  {
   "cell_type": "code",
   "execution_count": 16,
   "metadata": {},
   "outputs": [
    {
     "data": {
      "text/plain": [
       "<matplotlib.legend.Legend at 0x2514f4ab4c0>"
      ]
     },
     "execution_count": 16,
     "metadata": {},
     "output_type": "execute_result"
    },
    {
     "data": {
      "image/png": "[encoded data removed]",
      "text/plain": [
       "<Figure size 432x288 with 1 Axes>"
      ]
     },
     "metadata": {
      "needs_background": "light"
     },
     "output_type": "display_data"
    }
   ],
   "source": [
    "val_loss = hist_original.history['val_loss']\n",
    "val_loss_do = hist_dropout.history['val_loss']\n",
    "epochs = range(1, 21)\n",
    "plt.plot(epochs, val_loss, 'b--',\n",
    "         label='Original validation loss')\n",
    "plt.plot(epochs, val_loss_do, 'b',\n",
    "         label='Dropout validation loss')\n",
    "plt.title('Validation Loss of Original Vs. Dropout Model')\n",
    "plt.xlabel('Epochs')\n",
    "plt.ylabel('Loss')\n",
    "plt.legend()"
   ]
  }
 ],
 "metadata": {
  "kernelspec": {
   "display_name": "Python 3",
   "language": "python",
   "name": "python3"
  },
  "language_info": {
   "codemirror_mode": {
    "name": "ipython",
    "version": 3
   },
   "file_extension": ".py",
   "mimetype": "text/x-python",
   "name": "python",
   "nbconvert_exporter": "python",
   "pygments_lexer": "ipython3",
   "version": "3.8.1"
  }
 },
 "nbformat": 4,
 "nbformat_minor": 4
}
