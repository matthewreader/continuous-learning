{
 "cells": [
  {
   "cell_type": "markdown",
   "metadata": {},
   "source": [
    "# 7.3 - Using built-in training and evaluation loops\n",
    "\n",
    "* [7.3.1 - Writing your own metrics](#first-bullet)\n",
    "* [7.3.2 - Using callbacks](#second-bullet)\n",
    "* [7.3.3 - Writing your own callbacks](#third-bullet)\n",
    "\n",
    "Keras offers different workflows for training and evaluating models.  Below is an example of a simple `compile()`, `fit()`, `evaluate()`, `predict()` workflow we have used before."
   ]
  },
  {
   "cell_type": "code",
   "execution_count": 6,
   "metadata": {},
   "outputs": [
    {
     "name": "stdout",
     "output_type": "stream",
     "text": [
      "Epoch 1/3\n",
      "1563/1563 [==============================] - 12s 8ms/step - loss: 0.2915 - accuracy: 0.9136 - val_loss: 0.1508 - val_accuracy: 0.9585\n",
      "Epoch 2/3\n",
      "1563/1563 [==============================] - 12s 7ms/step - loss: 0.1664 - accuracy: 0.9540 - val_loss: 0.1224 - val_accuracy: 0.9673\n",
      "Epoch 3/3\n",
      "1563/1563 [==============================] - 11s 7ms/step - loss: 0.1377 - accuracy: 0.9629 - val_loss: 0.1146 - val_accuracy: 0.9698\n",
      "313/313 [==============================] - 0s 1ms/step - loss: 0.1044 - accuracy: 0.9713\n"
     ]
    }
   ],
   "source": [
    "import tensorflow as tf\n",
    "from tensorflow import keras\n",
    "from tensorflow.keras.datasets import mnist\n",
    "from tensorflow.keras import layers\n",
    "\n",
    "def get_mnist_model():   \n",
    "    \n",
    "    inputs = keras.Input(shape=(28 * 28,))\n",
    "    features = layers.Dense(512, activation='relu')(inputs)\n",
    "    features = layers.Dropout(0.5)(features)\n",
    "    outputs = layers.Dense(10, activation='softmax')(features)\n",
    "    model = keras.Model(inputs, outputs)\n",
    "    return model\n",
    "\n",
    "(images, labels), (test_images, test_labels) = mnist.load_data() \n",
    "\n",
    "images = images.reshape((60000, 28 * 28)).astype('float32') / 255\n",
    "test_images = test_images.reshape((10000, 28 * 28)).astype('float32') / 255\n",
    "train_images, val_images = images[10000:], images[:10000]\n",
    "train_labels, val_labels = labels[10000:], labels[:10000]\n",
    "\n",
    "model = get_mnist_model()\n",
    "model.compile(optimizer='rmsprop',                        \n",
    "              loss='sparse_categorical_crossentropy',     \n",
    "              metrics=['accuracy'])                       \n",
    "\n",
    "model.fit(train_images, train_labels,                     \n",
    "          epochs=3,                                       \n",
    "          validation_data=(val_images, val_labels))       \n",
    "\n",
    "test_metrics = model.evaluate(test_images, test_labels)   \n",
    "\n",
    "predictions = model.predict(test_images)                  \n"
   ]
  },
  {
   "cell_type": "markdown",
   "metadata": {},
   "source": [
    "## 7.3.1 - Writing your own metrics <a class=\"anchor\" id=\"first-bullet\"></a>\n",
    "\n",
    "We may need to create out own metrics using the `keras.metrics.Metric` class.  \n",
    "\n",
    "A custom metric will need a definition of state variables, a way of updating the state, a way to return current metric values, and a way of resetting the current state without the need of reinstantiating the metric."
   ]
  },
  {
   "cell_type": "code",
   "execution_count": 9,
   "metadata": {},
   "outputs": [],
   "source": [
    "class RootMeanSquaredError(keras.metrics.Metric):   \n",
    "\n",
    "\n",
    "    def __init__(self, name='rmse', **kwargs):    \n",
    "\n",
    "        super(RootMeanSquaredError, self).__init__(name=name, **kwargs)\n",
    "        self.mse_sum = self.add_weight(\n",
    "            name='mse_sum', initializer='zeros')\n",
    "        self.total_samples = self.add_weight(\n",
    "            name='total_samples', initializer='zeros', dtype='int32')\n",
    "\n",
    "    def update_state(self, y_true, y_pred, sample_weight=None):   \n",
    "\n",
    "        y_true = tf.one_hot(y_true, depth=tf.shape(y_pred)[1])\n",
    "        mse = tf.reduce_sum(tf.square(y_true - y_pred))\n",
    "        self.mse_sum.assign_add(mse)\n",
    "        num_samples = tf.shape(y_pred)[0]\n",
    "        self.total_samples.assign_add(num_samples)\n",
    "        \n",
    "    def result(self):\n",
    "        \n",
    "        return tf.sqrt(self.mse_sum / tf.cast(self.total_samples, tf.float32))\n",
    "    \n",
    "    def reset_states(self):\n",
    "        \n",
    "        self.mse_sum.assign(0.)\n",
    "        self.total_samples.assign(0)"
   ]
  },
  {
   "cell_type": "code",
   "execution_count": 10,
   "metadata": {},
   "outputs": [
    {
     "name": "stdout",
     "output_type": "stream",
     "text": [
      "Epoch 1/3\n",
      "1563/1563 [==============================] - 9s 6ms/step - loss: 0.2903 - accuracy: 0.9141 - rmse: 7.1842 - val_loss: 0.1469 - val_accuracy: 0.9563 - val_rmse: 7.3607\n",
      "Epoch 2/3\n",
      "1563/1563 [==============================] - 10s 7ms/step - loss: 0.1654 - accuracy: 0.9531 - rmse: 7.3553 - val_loss: 0.1185 - val_accuracy: 0.9667 - val_rmse: 7.4031\n",
      "Epoch 3/3\n",
      "1563/1563 [==============================] - 11s 7ms/step - loss: 0.1376 - accuracy: 0.9620 - rmse: 7.3883 - val_loss: 0.1166 - val_accuracy: 0.9699 - val_rmse: 7.4220\n",
      "313/313 [==============================] - 0s 1ms/step - loss: 0.1088 - accuracy: 0.9734 - rmse: 7.4355\n"
     ]
    }
   ],
   "source": [
    "model = get_mnist_model()\n",
    "model.compile(optimizer='rmsprop',\n",
    "              loss='sparse_categorical_crossentropy',\n",
    "              metrics=['accuracy', RootMeanSquaredError()])\n",
    "model.fit(train_images, train_labels,\n",
    "          epochs=3,\n",
    "          validation_data=(val_images, val_labels))\n",
    "test_metrics = model.evaluate(test_images, test_labels)"
   ]
  },
  {
   "cell_type": "markdown",
   "metadata": {},
   "source": [
    "## 7.3.2 - Using callbacks <a class=\"anchor\" id=\"second-bullet\"></a>\n",
    "\n",
    "Using callbacks can add a bit of automation to the `model.fit()` method.  Model weights can be saved, training prematurely stopped, saving checkpoints of the model state as training progresses, can all be automated using callbacks.\n",
    "\n",
    "Some examples of `keras.callbacks` are listed below:\n",
    "* `keras.callbacks.ModelCheckpoint`\n",
    "* `keras.callbacks.EarlyStopping`\n",
    "* `keras.callbacks.LearningRateScheduler`\n",
    "* `keras.callbacks.ReduceLROnPlateau`\n",
    "* `keras.callbacks.CSVLogger`\n",
    "\n",
    "Callbacks are passed to the `model.fit()` method using the `callbacks` arguement, and any number of callbacks can be passed to this argument as a list.  Below is a list of callbacks that will stop training once accuracy stops improving for more than 1 epoch, and to save the best training result."
   ]
  },
  {
   "cell_type": "code",
   "execution_count": 11,
   "metadata": {},
   "outputs": [
    {
     "name": "stdout",
     "output_type": "stream",
     "text": [
      "Epoch 1/10\n",
      "1557/1563 [============================>.] - ETA: 0s - loss: 0.2959 - accuracy: 0.9128WARNING:tensorflow:Callbacks method `on_test_batch_end` is slow compared to the batch time (batch time: 0.0000s vs `on_test_batch_end` time: 0.0010s). Check your callbacks.\n",
      "WARNING:tensorflow:From c:\\users\\mreader\\appdata\\local\\programs\\python\\python38\\lib\\site-packages\\tensorflow\\python\\training\\tracking\\tracking.py:111: Model.state_updates (from tensorflow.python.keras.engine.training) is deprecated and will be removed in a future version.\n",
      "Instructions for updating:\n",
      "This property should not be used in TensorFlow 2.0, as updates are applied automatically.\n",
      "WARNING:tensorflow:From c:\\users\\mreader\\appdata\\local\\programs\\python\\python38\\lib\\site-packages\\tensorflow\\python\\training\\tracking\\tracking.py:111: Layer.updates (from tensorflow.python.keras.engine.base_layer) is deprecated and will be removed in a future version.\n",
      "Instructions for updating:\n",
      "This property should not be used in TensorFlow 2.0, as updates are applied automatically.\n",
      "INFO:tensorflow:Assets written to: my_checkpoint_path\\assets\n",
      "1563/1563 [==============================] - 11s 7ms/step - loss: 0.2958 - accuracy: 0.9129 - val_loss: 0.1485 - val_accuracy: 0.9588\n",
      "Epoch 2/10\n",
      "1563/1563 [==============================] - ETA: 0s - loss: 0.1671 - accuracy: 0.9536INFO:tensorflow:Assets written to: my_checkpoint_path\\assets\n",
      "1563/1563 [==============================] - 10s 6ms/step - loss: 0.1671 - accuracy: 0.9536 - val_loss: 0.1294 - val_accuracy: 0.9652\n",
      "Epoch 3/10\n",
      "1554/1563 [============================>.] - ETA: 0s - loss: 0.1404 - accuracy: 0.9626INFO:tensorflow:Assets written to: my_checkpoint_path\\assets\n",
      "1563/1563 [==============================] - 10s 6ms/step - loss: 0.1406 - accuracy: 0.9626 - val_loss: 0.1178 - val_accuracy: 0.9696\n",
      "Epoch 4/10\n",
      "1563/1563 [==============================] - 10s 6ms/step - loss: 0.1245 - accuracy: 0.9683 - val_loss: 0.1198 - val_accuracy: 0.9710\n",
      "Epoch 5/10\n",
      "1556/1563 [============================>.] - ETA: 0s - loss: 0.1140 - accuracy: 0.9709INFO:tensorflow:Assets written to: my_checkpoint_path\\assets\n",
      "1563/1563 [==============================] - 10s 7ms/step - loss: 0.1140 - accuracy: 0.9710 - val_loss: 0.1136 - val_accuracy: 0.9737\n",
      "Epoch 6/10\n",
      "1563/1563 [==============================] - 11s 7ms/step - loss: 0.1089 - accuracy: 0.9730 - val_loss: 0.1142 - val_accuracy: 0.9749\n",
      "Epoch 7/10\n",
      "1563/1563 [==============================] - 10s 7ms/step - loss: 0.1032 - accuracy: 0.9747 - val_loss: 0.1149 - val_accuracy: 0.9761\n",
      "Epoch 8/10\n",
      "1561/1563 [============================>.] - ETA: 0s - loss: 0.1026 - accuracy: 0.9755INFO:tensorflow:Assets written to: my_checkpoint_path\\assets\n",
      "1563/1563 [==============================] - 11s 7ms/step - loss: 0.1026 - accuracy: 0.9755 - val_loss: 0.1100 - val_accuracy: 0.9766\n",
      "Epoch 9/10\n",
      "1557/1563 [============================>.] - ETA: 0s - loss: 0.0996 - accuracy: 0.9784INFO:tensorflow:Assets written to: my_checkpoint_path\\assets\n",
      "1563/1563 [==============================] - 11s 7ms/step - loss: 0.0995 - accuracy: 0.9784 - val_loss: 0.1055 - val_accuracy: 0.9774\n",
      "Epoch 10/10\n",
      "1563/1563 [==============================] - 11s 7ms/step - loss: 0.0940 - accuracy: 0.9781 - val_loss: 0.1108 - val_accuracy: 0.9791\n"
     ]
    },
    {
     "data": {
      "text/plain": [
       "<tensorflow.python.keras.callbacks.History at 0x2265594c5e0>"
      ]
     },
     "execution_count": 11,
     "metadata": {},
     "output_type": "execute_result"
    }
   ],
   "source": [
    "callbacks_list = [                                   \n",
    "    keras.callbacks.EarlyStopping(                   \n",
    "        monitor='accuracy',                          \n",
    "        patience=1,                                  \n",
    "    ),\n",
    "    keras.callbacks.ModelCheckpoint(                 \n",
    "        filepath='my_checkpoint_path',               \n",
    "        monitor='val_loss',                          \n",
    "        save_best_only=True,                         \n",
    "    )\n",
    "]\n",
    "\n",
    "model = get_mnist_model()\n",
    "model.compile(optimizer='rmsprop',\n",
    "              loss='sparse_categorical_crossentropy',\n",
    "              metrics=['accuracy'])                  \n",
    "\n",
    "model.fit(train_images, train_labels,                \n",
    "          epochs=10,                                 \n",
    "          callbacks=callbacks_list,                  \n",
    "          validation_data=(val_images, val_labels))  "
   ]
  },
  {
   "cell_type": "markdown",
   "metadata": {},
   "source": [
    "## 7.3.3 - Writing your own callbacks <a class=\"anchor\" id=\"third-bullet\"></a>"
   ]
  },
  {
   "cell_type": "code",
   "execution_count": null,
   "metadata": {},
   "outputs": [],
   "source": []
  }
 ],
 "metadata": {
  "kernelspec": {
   "display_name": "Python 3",
   "language": "python",
   "name": "python3"
  },
  "language_info": {
   "codemirror_mode": {
    "name": "ipython",
    "version": 3
   },
   "file_extension": ".py",
   "mimetype": "text/x-python",
   "name": "python",
   "nbconvert_exporter": "python",
   "pygments_lexer": "ipython3",
   "version": "3.8.1"
  }
 },
 "nbformat": 4,
 "nbformat_minor": 4
}
