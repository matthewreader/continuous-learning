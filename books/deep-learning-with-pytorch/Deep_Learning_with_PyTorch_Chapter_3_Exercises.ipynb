{
  "nbformat": 4,
  "nbformat_minor": 0,
  "metadata": {
    "colab": {
      "name": "Deep Learning with PyTorch - Chapter 3 Exercises.ipynb",
      "provenance": [],
      "collapsed_sections": [],
      "authorship_tag": "ABX9TyOsGJNVvJcwHMxTke2S1kFx",
      "include_colab_link": true
    },
    "kernelspec": {
      "name": "python3",
      "display_name": "Python 3"
    },
    "language_info": {
      "name": "python"
    }
  },
  "cells": [
    {
      "cell_type": "markdown",
      "metadata": {
        "id": "view-in-github",
        "colab_type": "text"
      },
      "source": [
        "<a href=\"https://colab.research.google.com/github/matthewreader/continuous-learning/blob/main/books/deep-learning-with-pytorch/Deep_Learning_with_PyTorch_Chapter_3_Exercises.ipynb\" target=\"_parent\"><img src=\"https://colab.research.google.com/assets/colab-badge.svg\" alt=\"Open In Colab\"/></a>"
      ]
    },
    {
      "cell_type": "markdown",
      "source": [
        "1) Create a tensor `a` from `list(range(9))`.  Predict and then check the size, offset, and stride."
      ],
      "metadata": {
        "id": "dTR1NsnSzLa-"
      }
    },
    {
      "cell_type": "code",
      "source": [
        "import torch\n",
        "a = torch.tensor(range(9))\n",
        "print(a)\n",
        "print(f'Size of a = {a.size()}')\n",
        "print(f'Offset of a = {a.storage_offset()}')\n",
        "print(f'Stride of a = {a.stride()}')"
      ],
      "metadata": {
        "colab": {
          "base_uri": "https://localhost:8080/"
        },
        "id": "N3W9X058zKOb",
        "outputId": "96c25d5d-1fb2-4521-b72d-d22aa38e6a85"
      },
      "execution_count": 15,
      "outputs": [
        {
          "output_type": "stream",
          "name": "stdout",
          "text": [
            "tensor([0, 1, 2, 3, 4, 5, 6, 7, 8])\n",
            "Size of a = torch.Size([9])\n",
            "Offset of a = 0\n",
            "Stride of a = (1,)\n"
          ]
        }
      ]
    },
    {
      "cell_type": "markdown",
      "source": [
        "1a) Create a new tensor using `b = a.view(3, 3)`.  What does `view` do?  Check that a and b share the same storage.\n",
        "* View reshapes a tensor, assuming that the shape given is compatable with the original tensor.\n",
        "* We can check if tensors share the same memory address using `torch.tensor.data_ptr()`"
      ],
      "metadata": {
        "id": "4Y-gYgWe1Xc0"
      }
    },
    {
      "cell_type": "code",
      "source": [
        "b = a.view(3, 3)\n",
        "print(b)\n",
        "\n",
        "# From documentation, data_ptr() returns the address of the first element of\n",
        "# self tensor\n",
        "print(b.data_ptr())\n",
        "print(a.data_ptr())"
      ],
      "metadata": {
        "colab": {
          "base_uri": "https://localhost:8080/"
        },
        "id": "xYbiVOS11hiU",
        "outputId": "f543c74a-86e0-4908-8045-4b0ae7410ced"
      },
      "execution_count": 31,
      "outputs": [
        {
          "output_type": "stream",
          "name": "stdout",
          "text": [
            "tensor([[0, 1, 2],\n",
            "        [3, 4, 5],\n",
            "        [6, 7, 8]])\n",
            "94101662774400\n",
            "94101662774400\n"
          ]
        }
      ]
    },
    {
      "cell_type": "markdown",
      "source": [
        "1b) Create a tensor `c = b[1:, 1:]`.   Predict and then check the size, offset, and stride.\n",
        "\n",
        "The above slice is removal of the first item, followed by removal of the first item from the last two list items.\n",
        "\n",
        "* Size: (2, 2).  \n",
        "* Offset: 4, since we skip 0, 1, 2, and 3 to get to the first item in the list.\n",
        "* Stride: (3, 1)"
      ],
      "metadata": {
        "id": "Zvo5oDjC7dgI"
      }
    },
    {
      "cell_type": "code",
      "source": [
        "c = b[1:, 1:]\n",
        "print(c)\n",
        "print(f'Size of c = {c.size()}')\n",
        "print(f'Offset of c = {c.storage_offset()}')\n",
        "print(f'Stride of c = {c.stride()}')\n",
        "print(c.data_ptr())"
      ],
      "metadata": {
        "colab": {
          "base_uri": "https://localhost:8080/"
        },
        "id": "aNjAFmJ479LC",
        "outputId": "79f448d2-108c-4b43-fe89-88bf1e89e151"
      },
      "execution_count": 32,
      "outputs": [
        {
          "output_type": "stream",
          "name": "stdout",
          "text": [
            "tensor([[4, 5],\n",
            "        [7, 8]])\n",
            "Size of c = torch.Size([2, 2])\n",
            "Offset of c = 4\n",
            "Stride of c = (3, 1)\n",
            "94101662774432\n"
          ]
        }
      ]
    },
    {
      "cell_type": "markdown",
      "source": [
        "Pick a mathematical operation like cosine or square root.  Can you find a corresponding function in the `torch` library?"
      ],
      "metadata": {
        "id": "_usn7ml69n-y"
      }
    },
    {
      "cell_type": "code",
      "source": [
        "b.square()"
      ],
      "metadata": {
        "colab": {
          "base_uri": "https://localhost:8080/"
        },
        "id": "iVa0qsfP7_vC",
        "outputId": "f6d3e81d-82ee-413e-e9e5-5db4a0677793"
      },
      "execution_count": 40,
      "outputs": [
        {
          "output_type": "execute_result",
          "data": {
            "text/plain": [
              "tensor([[ 0,  1,  4],\n",
              "        [ 9, 16, 25],\n",
              "        [36, 49, 64]])"
            ]
          },
          "metadata": {},
          "execution_count": 40
        }
      ]
    },
    {
      "cell_type": "code",
      "source": [
        ""
      ],
      "metadata": {
        "id": "dEdx1L9PAzM-"
      },
      "execution_count": null,
      "outputs": []
    }
  ]
}