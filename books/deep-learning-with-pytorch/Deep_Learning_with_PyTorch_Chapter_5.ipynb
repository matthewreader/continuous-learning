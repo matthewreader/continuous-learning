{
  "nbformat": 4,
  "nbformat_minor": 0,
  "metadata": {
    "colab": {
      "name": "Deep Learning with PyTorch - Chapter 5.ipynb",
      "provenance": [],
      "authorship_tag": "ABX9TyM6zh5Dhc1SrK2XqJtohNYL",
      "include_colab_link": true
    },
    "kernelspec": {
      "name": "python3",
      "display_name": "Python 3"
    },
    "language_info": {
      "name": "python"
    }
  },
  "cells": [
    {
      "cell_type": "markdown",
      "metadata": {
        "id": "view-in-github",
        "colab_type": "text"
      },
      "source": [
        "<a href=\"https://colab.research.google.com/github/matthewreader/continuous-learning/blob/main/books/deep-learning-with-pytorch/Deep_Learning_with_PyTorch_Chapter_5.ipynb\" target=\"_parent\"><img src=\"https://colab.research.google.com/assets/colab-badge.svg\" alt=\"Open In Colab\"/></a>"
      ]
    },
    {
      "cell_type": "markdown",
      "source": [
        "**Model Learning as Parameter Estimation** \n",
        "\n",
        "We'll take some temperatures in celsius and their corresponding temperature in an unknown unit.  This simple regression problem shows how with enough data, we can estimate what the unknown unit temperature should be given a temperature in celsius."
      ],
      "metadata": {
        "id": "C_7A-FA48ru8"
      }
    },
    {
      "cell_type": "code",
      "execution_count": null,
      "metadata": {
        "id": "paOx5Yc68Wnc"
      },
      "outputs": [],
      "source": [
        "import torch\n",
        "\n",
        "t_c = [0.5,  14.0, 15.0, 28.0, 11.0,  8.0,  3.0, -4.0,  6.0, 13.0, 21.0]\n",
        "t_u = [35.7, 55.9, 58.2, 81.9, 56.3, 48.9, 33.9, 21.8, 48.4, 60.4, 68.4]\n",
        "t_c = torch.tensor(t_c)\n",
        "t_u = torch.tensor(t_u)"
      ]
    },
    {
      "cell_type": "code",
      "source": [
        "import matplotlib.pyplot as plt\n",
        "\n",
        "plt.scatter(t_u, t_c)\n",
        "plt.xlabel(\"Unknown\")\n",
        "plt.ylabel(\"Celsius\")\n",
        "plt.show()"
      ],
      "metadata": {
        "colab": {
          "base_uri": "https://localhost:8080/",
          "height": 279
        },
        "id": "P4HlzLEy8cxe",
        "outputId": "3aa13d21-faa9-4ec5-c173-635a7892f1ab"
      },
      "execution_count": null,
      "outputs": [
        {
          "output_type": "display_data",
          "data": {
            "image/png": "[encoded data removed]",
            "text/plain": [
              "<Figure size 432x288 with 1 Axes>"
            ]
          },
          "metadata": {
            "needs_background": "light"
          }
        }
      ]
    },
    {
      "cell_type": "code",
      "source": [
        "def model(t_u, w, b):\n",
        "   return w * t_u + b\n",
        "\n",
        "def loss_fn(t_p, t_c):\n",
        "   squared_diffs = (t_p - t_c)**2\n",
        "   return squared_diffs.mean()  \n",
        "\n",
        "w = torch.ones(())\n",
        "b = torch.zeros(())\n",
        "\n",
        "t_p = model(t_u, w, b)\n",
        "t_p"
      ],
      "metadata": {
        "colab": {
          "base_uri": "https://localhost:8080/"
        },
        "id": "biD9kkqD9UsK",
        "outputId": "0baab158-5bb9-4624-d523-302015f84080"
      },
      "execution_count": null,
      "outputs": [
        {
          "output_type": "execute_result",
          "data": {
            "text/plain": [
              "tensor([35.7000, 55.9000, 58.2000, 81.9000, 56.3000, 48.9000, 33.9000, 21.8000,\n",
              "        48.4000, 60.4000, 68.4000])"
            ]
          },
          "metadata": {},
          "execution_count": 5
        }
      ]
    },
    {
      "cell_type": "code",
      "source": [
        "loss = loss_fn(t_p, t_c)\n",
        "loss"
      ],
      "metadata": {
        "colab": {
          "base_uri": "https://localhost:8080/"
        },
        "id": "wvrirdnrAEJZ",
        "outputId": "c931b9ed-48f6-42c3-db79-0bb2760a47dd"
      },
      "execution_count": null,
      "outputs": [
        {
          "output_type": "execute_result",
          "data": {
            "text/plain": [
              "tensor(1763.8848)"
            ]
          },
          "metadata": {},
          "execution_count": 6
        }
      ]
    },
    {
      "cell_type": "markdown",
      "source": [
        "Our above model is pretty useless at this point:\n",
        "\n",
        "Celsius = (1 * Unknown) + 0\n",
        "\n",
        "Or Celsius = Unknown, which we know is not true.  We can tweak the weights and bias of our model using PyTorch to create a useful model.  As we tweak out weights, we know we're getting closer to a useful model when we minimize our loss function."
      ],
      "metadata": {
        "id": "_UW3dUXkApba"
      }
    },
    {
      "cell_type": "code",
      "source": [
        "delta = 0.1\n",
        "\n",
        "loss_rate_of_change_w = \\\n",
        "   (loss_fn(model(t_u, w + delta, b), t_c) -\n",
        "    loss_fn(model(t_u, w - delta, b), t_c)) / (2.0 * delta)"
      ],
      "metadata": {
        "id": "cDrnTTf-ASt2"
      },
      "execution_count": null,
      "outputs": []
    },
    {
      "cell_type": "markdown",
      "source": [
        "The rate of change in our loss function as we update `w` and `b` might not be uniform as we minimize the loss function.  Therefore we typically make a very small change each time we update these parameters.  This is referred to as the learning rate."
      ],
      "metadata": {
        "id": "fYjxsnespv9i"
      }
    },
    {
      "cell_type": "code",
      "source": [
        "learning_rate = 1e-2\n",
        "\n",
        "w = w - learning_rate * loss_rate_of_change_w\n",
        "w"
      ],
      "metadata": {
        "colab": {
          "base_uri": "https://localhost:8080/"
        },
        "id": "L4yoIvNKlhz6",
        "outputId": "f530fc34-8331-4c88-fde4-532286b3d781"
      },
      "execution_count": null,
      "outputs": [
        {
          "output_type": "execute_result",
          "data": {
            "text/plain": [
              "tensor(-44.1730)"
            ]
          },
          "metadata": {},
          "execution_count": 8
        }
      ]
    },
    {
      "cell_type": "code",
      "source": [
        "loss_rate_of_change_b = \\\n",
        "   (loss_fn(model(t_u, w, b + delta), t_c) -\n",
        "    loss_fn(model(t_u, w, b - delta), t_c)) / (2.0 * delta)\n",
        "\n",
        "b = b - learning_rate * loss_rate_of_change_b\n",
        "b\n",
        "\n",
        "# Normalize input\n",
        "t_un = 0.1 * t_u"
      ],
      "metadata": {
        "id": "aYqVO0h6qSru"
      },
      "execution_count": null,
      "outputs": []
    },
    {
      "cell_type": "markdown",
      "source": [
        "Learning rates are important because if the learning rate is too large, the updates to parameters could be too large.  This leads to the loss function diverging instead of converging to the minimum.\n",
        "\n",
        "We may also need to normalize the inputs.  Consider that if the gradient for a weight `w` is greater than the gradient for bias `b`, then they are in differently scaled spaces."
      ],
      "metadata": {
        "id": "9iM7cAiBuNfj"
      }
    },
    {
      "cell_type": "markdown",
      "source": [
        "**5.5 - PyTorch autograd and backpropagation**"
      ],
      "metadata": {
        "id": "35K3cTWj3sHC"
      }
    },
    {
      "cell_type": "code",
      "source": [
        "# Recall the following for our model and loss functions:\n",
        "def model(t_u, w, b):\n",
        "   return w * t_u + b\n",
        "\n",
        "def loss_fn(t_p, t_c):\n",
        "   squared_diffs = (t_p - t_c)**2\n",
        "   return squared_diffs.mean()\n",
        "\n",
        "# Initialize our parameters with requires_grad=True\n",
        "params = torch.tensor([1.0, 0.0], requires_grad=True)"
      ],
      "metadata": {
        "id": "7-CxAL4WqWI4"
      },
      "execution_count": null,
      "outputs": []
    },
    {
      "cell_type": "code",
      "source": [
        "loss = loss_fn(model(t_u, *params), t_c)\n",
        "loss.backward()\n",
        "\n",
        "params.grad"
      ],
      "metadata": {
        "colab": {
          "base_uri": "https://localhost:8080/"
        },
        "id": "5f1G1iPU3qY9",
        "outputId": "27982696-25f8-4bc8-f13e-23a3128f875b"
      },
      "execution_count": null,
      "outputs": [
        {
          "output_type": "execute_result",
          "data": {
            "text/plain": [
              "tensor([4517.2969,   82.6000])"
            ]
          },
          "metadata": {},
          "execution_count": 11
        }
      ]
    },
    {
      "cell_type": "markdown",
      "source": [
        "Calling `backward` will lead derivatives to accumulate at leaf nodes.  Gradients should be zeroed explicitly after using it for parameter updates."
      ],
      "metadata": {
        "id": "j7JZ8vSi5Ep7"
      }
    },
    {
      "cell_type": "code",
      "source": [
        "if params.grad is not None:\n",
        "   params.grad.zero_()"
      ],
      "metadata": {
        "id": "1GlOwOa64Zg0"
      },
      "execution_count": null,
      "outputs": []
    },
    {
      "cell_type": "code",
      "source": [
        "def training_loop(n_epochs, learning_rate, params, t_u, t_c):\n",
        "    for epoch in range(1, n_epochs + 1):\n",
        "        if params.grad is not None:\n",
        "            params.grad.zero_()\n",
        " \n",
        "        t_p = model(t_u, *params)\n",
        "        loss = loss_fn(t_p, t_c)\n",
        "        loss.backward()\n",
        " \n",
        "        with torch.no_grad():\n",
        "            params -= learning_rate * params.grad\n",
        " \n",
        "        if epoch % 500 == 0:\n",
        "            print('Epoch %d, Loss %f' % (epoch, float(loss)))\n",
        " \n",
        "    return params"
      ],
      "metadata": {
        "id": "i7rA2pr35jPD"
      },
      "execution_count": null,
      "outputs": []
    },
    {
      "cell_type": "code",
      "source": [
        "training_loop(\n",
        "    n_epochs = 5000,\n",
        "    learning_rate = 1e-2,\n",
        "    params = torch.tensor([1.0, 0.0], requires_grad=True),\n",
        "    t_u = t_un,\n",
        "    t_c = t_c)\n"
      ],
      "metadata": {
        "colab": {
          "base_uri": "https://localhost:8080/"
        },
        "id": "TVIlupG85j0S",
        "outputId": "2f6965a1-a849-49eb-eeec-d3574127e037"
      },
      "execution_count": null,
      "outputs": [
        {
          "output_type": "stream",
          "name": "stdout",
          "text": [
            "Epoch 500, Loss 7.860115\n",
            "Epoch 1000, Loss 3.828538\n",
            "Epoch 1500, Loss 3.092191\n",
            "Epoch 2000, Loss 2.957698\n",
            "Epoch 2500, Loss 2.933134\n",
            "Epoch 3000, Loss 2.928648\n",
            "Epoch 3500, Loss 2.927830\n",
            "Epoch 4000, Loss 2.927679\n",
            "Epoch 4500, Loss 2.927652\n",
            "Epoch 5000, Loss 2.927647\n"
          ]
        },
        {
          "output_type": "execute_result",
          "data": {
            "text/plain": [
              "tensor([  5.3671, -17.3012], requires_grad=True)"
            ]
          },
          "metadata": {},
          "execution_count": 17
        }
      ]
    },
    {
      "cell_type": "markdown",
      "source": [
        "We could use other optimizers other than gradient descent.  Gradient descent works well enough for our simple problem, but another optimizer might work better for more complicated problems."
      ],
      "metadata": {
        "id": "HhsM3sKZ6b-c"
      }
    },
    {
      "cell_type": "code",
      "source": [
        "import torch.optim as optim\n",
        "dir(optim)"
      ],
      "metadata": {
        "colab": {
          "base_uri": "https://localhost:8080/"
        },
        "id": "rWsqcesT6FFy",
        "outputId": "f927b3d6-6603-486f-b0f3-cf78ecb8cbaf"
      },
      "execution_count": null,
      "outputs": [
        {
          "output_type": "execute_result",
          "data": {
            "text/plain": [
              "['ASGD',\n",
              " 'Adadelta',\n",
              " 'Adagrad',\n",
              " 'Adam',\n",
              " 'AdamW',\n",
              " 'Adamax',\n",
              " 'LBFGS',\n",
              " 'NAdam',\n",
              " 'Optimizer',\n",
              " 'RAdam',\n",
              " 'RMSprop',\n",
              " 'Rprop',\n",
              " 'SGD',\n",
              " 'SparseAdam',\n",
              " '__builtins__',\n",
              " '__cached__',\n",
              " '__doc__',\n",
              " '__file__',\n",
              " '__loader__',\n",
              " '__name__',\n",
              " '__package__',\n",
              " '__path__',\n",
              " '__spec__',\n",
              " '_functional',\n",
              " '_multi_tensor',\n",
              " 'lr_scheduler',\n",
              " 'swa_utils']"
            ]
          },
          "metadata": {},
          "execution_count": 19
        }
      ]
    },
    {
      "cell_type": "markdown",
      "source": [
        "Create `params` and instantiate a gradient descent optimizer"
      ],
      "metadata": {
        "id": "afaLbkzIDfqw"
      }
    },
    {
      "cell_type": "code",
      "source": [
        "params = torch.tensor([1.0, 0.0], requires_grad=True)\n",
        "learning_rate = 1e-5\n",
        "optimizer = optim.SGD([params], lr=learning_rate)\n",
        "\n",
        "t_p = model(t_u, *params)\n",
        "loss = loss_fn(t_p, t_c)\n",
        "loss.backward()\n",
        "\n",
        "optimizer.step()\n",
        "params"
      ],
      "metadata": {
        "colab": {
          "base_uri": "https://localhost:8080/"
        },
        "id": "ksl0HxIi6oEa",
        "outputId": "f9ed6562-6ed5-4f14-984b-25c7ca5d17ab"
      },
      "execution_count": null,
      "outputs": [
        {
          "output_type": "execute_result",
          "data": {
            "text/plain": [
              "tensor([ 9.5483e-01, -8.2600e-04], requires_grad=True)"
            ]
          },
          "metadata": {},
          "execution_count": 23
        }
      ]
    },
    {
      "cell_type": "markdown",
      "source": [
        "Using out stochastic gradient descent optimizer, making sure to zero our gradients each epoch."
      ],
      "metadata": {
        "id": "dNZEsTBjE430"
      }
    },
    {
      "cell_type": "code",
      "source": [
        "def training_loop(n_epochs, optimizer, params, t_u, t_c):\n",
        "    for epoch in range(1, n_epochs + 1):\n",
        "        t_p = model(t_u, *params)\n",
        "        loss = loss_fn(t_p, t_c)\n",
        "\n",
        "        optimizer.zero_grad()\n",
        "        loss.backward()\n",
        "        optimizer.step()\n",
        "\n",
        "        if epoch % 500 == 0:\n",
        "            print('Epoch %d, Loss %f' % (epoch, float(loss)))\n",
        "\n",
        "    return params\n",
        "\n",
        "params = torch.tensor([1.0, 0.0], requires_grad=True)\n",
        "learning_rate = 1e-2\n",
        "optimizer = optim.SGD([params], lr=learning_rate)\n",
        "\n",
        "training_loop(\n",
        "    n_epochs = 5000,\n",
        "    optimizer = optimizer,\n",
        "    params = params,\n",
        "    t_u = t_un,\n",
        "    t_c = t_c)"
      ],
      "metadata": {
        "colab": {
          "base_uri": "https://localhost:8080/"
        },
        "id": "YRcwekCHDnOr",
        "outputId": "89d84be0-d2f0-4b8a-b185-a8f32c0f3e6e"
      },
      "execution_count": null,
      "outputs": [
        {
          "output_type": "stream",
          "name": "stdout",
          "text": [
            "Epoch 500, Loss 7.860120\n",
            "Epoch 1000, Loss 3.828538\n",
            "Epoch 1500, Loss 3.092191\n",
            "Epoch 2000, Loss 2.957698\n",
            "Epoch 2500, Loss 2.933134\n",
            "Epoch 3000, Loss 2.928648\n",
            "Epoch 3500, Loss 2.927830\n",
            "Epoch 4000, Loss 2.927679\n",
            "Epoch 4500, Loss 2.927652\n",
            "Epoch 5000, Loss 2.927647\n"
          ]
        },
        {
          "output_type": "execute_result",
          "data": {
            "text/plain": [
              "tensor([  5.3671, -17.3012], requires_grad=True)"
            ]
          },
          "metadata": {},
          "execution_count": 26
        }
      ]
    },
    {
      "cell_type": "code",
      "source": [
        ""
      ],
      "metadata": {
        "id": "jUvcVFqIFHcZ"
      },
      "execution_count": null,
      "outputs": []
    }
  ]
}