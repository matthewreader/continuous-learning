{
  "nbformat": 4,
  "nbformat_minor": 0,
  "metadata": {
    "colab": {
      "name": "Deep Learning with PyTorch - Chapter 7.ipynb",
      "provenance": [],
      "authorship_tag": "ABX9TyPKTN2+x5ohXCJDkIA8IxU4",
      "include_colab_link": true
    },
    "kernelspec": {
      "name": "python3",
      "display_name": "Python 3"
    },
    "language_info": {
      "name": "python"
    }
  },
  "cells": [
    {
      "cell_type": "markdown",
      "metadata": {
        "id": "view-in-github",
        "colab_type": "text"
      },
      "source": [
        "<a href=\"https://colab.research.google.com/github/matthewreader/continuous-learning/blob/main/books/deep-learning-with-pytorch/Deep_Learning_with_PyTorch_Chapter_7.ipynb\" target=\"_parent\"><img src=\"https://colab.research.google.com/assets/colab-badge.svg\" alt=\"Open In Colab\"/></a>"
      ]
    },
    {
      "cell_type": "code",
      "execution_count": null,
      "metadata": {
        "colab": {
          "base_uri": "https://localhost:8080/"
        },
        "id": "C8lrWHoWm6XQ",
        "outputId": "0cc9e232-af09-4a59-d040-a48b0e751c56"
      },
      "outputs": [
        {
          "output_type": "stream",
          "name": "stdout",
          "text": [
            "Mounted at /content/gdrive\n",
            "Files already downloaded and verified\n",
            "Files already downloaded and verified\n"
          ]
        }
      ],
      "source": [
        "import torch\n",
        "from google.colab import drive\n",
        "from torchvision import datasets\n",
        "\n",
        "drive.mount('/content/gdrive')\n",
        "GDRIVE_DATA = \"gdrive/My Drive/Colab Notebooks/Data/deep-learning-with-pytorch\"\n",
        "\n",
        "data_path = GDRIVE_DATA + '/p1ch7/'\n",
        "cifar10 = datasets.CIFAR10(data_path, train=True, download=True)\n",
        "cifar10_val = datasets.CIFAR10(data_path, train=False, download=True)"
      ]
    },
    {
      "cell_type": "markdown",
      "source": [
        "Get one image from the data set and transform to a tensor"
      ],
      "metadata": {
        "id": "751mpIjerKxB"
      }
    },
    {
      "cell_type": "code",
      "source": [
        "from torchvision import transforms\n",
        "img, label = cifar10[99]"
      ],
      "metadata": {
        "id": "v9oJ8rvIn9U6"
      },
      "execution_count": null,
      "outputs": []
    },
    {
      "cell_type": "code",
      "source": [
        "to_tensor = transforms.ToTensor()\n",
        "img_t = to_tensor(img)\n",
        "img_t.shape"
      ],
      "metadata": {
        "colab": {
          "base_uri": "https://localhost:8080/"
        },
        "id": "H4DwZCn2qgVQ",
        "outputId": "f2c92d7e-950d-45ba-b4bc-98a26f1d2bf8"
      },
      "execution_count": null,
      "outputs": [
        {
          "output_type": "execute_result",
          "data": {
            "text/plain": [
              "torch.Size([3, 32, 32])"
            ]
          },
          "metadata": {},
          "execution_count": 3
        }
      ]
    },
    {
      "cell_type": "markdown",
      "source": [
        "Transform the entire dataset to a tensor"
      ],
      "metadata": {
        "id": "wBQocwbDrPal"
      }
    },
    {
      "cell_type": "code",
      "source": [
        "tensor_cifar10 = datasets.CIFAR10(data_path, train=True, download=False,\n",
        "                         transform=transforms.ToTensor())\n",
        "\n",
        "# Validation set also needs to be tensor, not part of book follow-along code\n",
        "tensor_cifar10_val = datasets.CIFAR10(data_path, train=False, download=False,\n",
        "                         transform=transforms.ToTensor())"
      ],
      "metadata": {
        "id": "qpkr2Kmoqj2-"
      },
      "execution_count": null,
      "outputs": []
    },
    {
      "cell_type": "code",
      "source": [
        "# Tensors instead of PIL images, also scales values down to 0.0 to 1.0\n",
        "img_t, _ = tensor_cifar10[99]\n",
        "img_t.shape, img_t.dtype"
      ],
      "metadata": {
        "colab": {
          "base_uri": "https://localhost:8080/"
        },
        "id": "DOU-rEQurRyY",
        "outputId": "51a45fdf-5c01-4f82-c79e-a07f505a8943"
      },
      "execution_count": null,
      "outputs": [
        {
          "output_type": "execute_result",
          "data": {
            "text/plain": [
              "(torch.Size([3, 32, 32]), torch.float32)"
            ]
          },
          "metadata": {},
          "execution_count": 5
        }
      ]
    },
    {
      "cell_type": "code",
      "source": [
        "img_t"
      ],
      "metadata": {
        "colab": {
          "base_uri": "https://localhost:8080/"
        },
        "id": "GW_TUZzSjnxW",
        "outputId": "d231c7dc-657f-47fc-9ae0-a0434a9fba96"
      },
      "execution_count": null,
      "outputs": [
        {
          "output_type": "execute_result",
          "data": {
            "text/plain": [
              "tensor([[[0.2431, 0.1961, 0.1804,  ..., 0.6549, 0.7176, 0.5373],\n",
              "         [0.2471, 0.2157, 0.2039,  ..., 0.6392, 0.6706, 0.5686],\n",
              "         [0.2275, 0.2510, 0.2196,  ..., 0.6000, 0.5882, 0.4824],\n",
              "         ...,\n",
              "         [0.6745, 0.5608, 0.5098,  ..., 0.3686, 0.5529, 0.5451],\n",
              "         [0.7176, 0.5882, 0.3137,  ..., 0.3176, 0.5294, 0.5608],\n",
              "         [0.8196, 0.7137, 0.5451,  ..., 0.2314, 0.5098, 0.6627]],\n",
              "\n",
              "        [[0.2510, 0.1961, 0.1725,  ..., 0.6745, 0.7216, 0.5333],\n",
              "         [0.2549, 0.2078, 0.1961,  ..., 0.6627, 0.6824, 0.5725],\n",
              "         [0.2431, 0.2588, 0.2353,  ..., 0.6078, 0.6039, 0.5020],\n",
              "         ...,\n",
              "         [0.5294, 0.4314, 0.2196,  ..., 0.2941, 0.4235, 0.4118],\n",
              "         [0.5725, 0.4627, 0.2510,  ..., 0.2824, 0.4627, 0.4902],\n",
              "         [0.6824, 0.5922, 0.4275,  ..., 0.2118, 0.4667, 0.6118]],\n",
              "\n",
              "        [[0.1725, 0.1020, 0.0745,  ..., 0.2706, 0.2980, 0.2824],\n",
              "         [0.1451, 0.1020, 0.1059,  ..., 0.2392, 0.2941, 0.3020],\n",
              "         [0.1412, 0.1451, 0.1451,  ..., 0.2431, 0.2510, 0.2235],\n",
              "         ...,\n",
              "         [0.3882, 0.3294, 0.1647,  ..., 0.2196, 0.3373, 0.3176],\n",
              "         [0.4588, 0.3725, 0.1725,  ..., 0.2353, 0.3843, 0.4314],\n",
              "         [0.5647, 0.4824, 0.3255,  ..., 0.1843, 0.4353, 0.6275]]])"
            ]
          },
          "metadata": {},
          "execution_count": 6
        }
      ]
    },
    {
      "cell_type": "code",
      "source": [
        "img_t.min(), img_t.max()"
      ],
      "metadata": {
        "colab": {
          "base_uri": "https://localhost:8080/"
        },
        "id": "BAVqP54nkCMF",
        "outputId": "e78d3e03-37e4-4ed3-9e22-563e4afa694d"
      },
      "execution_count": null,
      "outputs": [
        {
          "output_type": "execute_result",
          "data": {
            "text/plain": [
              "(tensor(0.), tensor(1.))"
            ]
          },
          "metadata": {},
          "execution_count": 7
        }
      ]
    },
    {
      "cell_type": "code",
      "source": [
        "from matplotlib import pyplot as plt\n",
        "plt.imshow(img_t.permute(1, 2, 0))\n",
        "plt.show()"
      ],
      "metadata": {
        "colab": {
          "base_uri": "https://localhost:8080/",
          "height": 266
        },
        "id": "XxzSyyl3vMqc",
        "outputId": "7420cf11-cbd8-4f28-9706-790d0cc44c8f"
      },
      "execution_count": null,
      "outputs": [
        {
          "output_type": "display_data",
          "data": {
            "image/png": "[encoded data removed]",
            "text/plain": [
              "<Figure size 432x288 with 1 Axes>"
            ]
          },
          "metadata": {
            "needs_background": "light"
          }
        }
      ]
    },
    {
      "cell_type": "markdown",
      "source": [
        "Normalizing the data by stacking all images and computing the mean and standard deviation per channel."
      ],
      "metadata": {
        "id": "NFaI1Nyfk07Z"
      }
    },
    {
      "cell_type": "code",
      "source": [
        "imgs = torch.stack([img_t for img_t, _ in tensor_cifar10], dim=3)\n",
        "imgs.shape"
      ],
      "metadata": {
        "id": "WKNjkyIUvdmS",
        "colab": {
          "base_uri": "https://localhost:8080/"
        },
        "outputId": "1598b15c-e05e-4609-fb1a-c36dc303a78c"
      },
      "execution_count": null,
      "outputs": [
        {
          "output_type": "execute_result",
          "data": {
            "text/plain": [
              "torch.Size([3, 32, 32, 50000])"
            ]
          },
          "metadata": {},
          "execution_count": 9
        }
      ]
    },
    {
      "cell_type": "code",
      "source": [
        "imgs.view(3, -1).shape"
      ],
      "metadata": {
        "colab": {
          "base_uri": "https://localhost:8080/"
        },
        "id": "XvGFCtJOlNfN",
        "outputId": "3b422fee-50bf-40eb-a59c-e157bd6a2829"
      },
      "execution_count": null,
      "outputs": [
        {
          "output_type": "execute_result",
          "data": {
            "text/plain": [
              "torch.Size([3, 51200000])"
            ]
          },
          "metadata": {},
          "execution_count": 10
        }
      ]
    },
    {
      "cell_type": "code",
      "source": [
        "imgs.view(3, -1).mean(dim=1)"
      ],
      "metadata": {
        "colab": {
          "base_uri": "https://localhost:8080/"
        },
        "id": "SNkFXBDclD6b",
        "outputId": "b8a97c2c-4f26-4a39-c518-0c7c83a4a15a"
      },
      "execution_count": null,
      "outputs": [
        {
          "output_type": "execute_result",
          "data": {
            "text/plain": [
              "tensor([0.4914, 0.4822, 0.4465])"
            ]
          },
          "metadata": {},
          "execution_count": 11
        }
      ]
    },
    {
      "cell_type": "code",
      "source": [
        "imgs.view(3, -1).std(dim=1)"
      ],
      "metadata": {
        "colab": {
          "base_uri": "https://localhost:8080/"
        },
        "id": "xynDqEBjlPdG",
        "outputId": "13282df8-1a91-48fe-c33a-4dd63add9959"
      },
      "execution_count": null,
      "outputs": [
        {
          "output_type": "execute_result",
          "data": {
            "text/plain": [
              "tensor([0.2470, 0.2435, 0.2616])"
            ]
          },
          "metadata": {},
          "execution_count": 12
        }
      ]
    },
    {
      "cell_type": "markdown",
      "source": [
        "Use the values computed above to initialzie the `Normalize` transform."
      ],
      "metadata": {
        "id": "eRXFUPVelqTj"
      }
    },
    {
      "cell_type": "code",
      "source": [
        "transforms.Normalize((0.4915, 0.4823, 0.4468), (0.2470, 0.2435, 0.2616))"
      ],
      "metadata": {
        "colab": {
          "base_uri": "https://localhost:8080/"
        },
        "id": "aDulz2QAldUH",
        "outputId": "32e10ea3-4752-484c-bc5d-818caf482c18"
      },
      "execution_count": null,
      "outputs": [
        {
          "output_type": "execute_result",
          "data": {
            "text/plain": [
              "Normalize(mean=(0.4915, 0.4823, 0.4468), std=(0.247, 0.2435, 0.2616))"
            ]
          },
          "metadata": {},
          "execution_count": 13
        }
      ]
    },
    {
      "cell_type": "code",
      "source": [
        "# Compuse used to chain ToTensor and Normalize\n",
        "transformed_cifar10 = datasets.CIFAR10(\n",
        "   data_path, train=True, download=False,\n",
        "   transform=transforms.Compose([\n",
        "       transforms.ToTensor(),\n",
        "       transforms.Normalize((0.4915, 0.4823, 0.4468),\n",
        "                            (0.2470, 0.2435, 0.2616))\n",
        "   ]))\n",
        "\n",
        "transformed_cifar10_val = datasets.CIFAR10(\n",
        "   data_path, train=False, download=False,\n",
        "   transform=transforms.Compose([\n",
        "       transforms.ToTensor(),\n",
        "       transforms.Normalize((0.4915, 0.4823, 0.4468),\n",
        "                            (0.2470, 0.2435, 0.2616))\n",
        "   ]))"
      ],
      "metadata": {
        "id": "BuXUT3Lwlwwr"
      },
      "execution_count": null,
      "outputs": []
    },
    {
      "cell_type": "markdown",
      "source": [
        "The images now look a bit different..."
      ],
      "metadata": {
        "id": "MvneFpTVmIHx"
      }
    },
    {
      "cell_type": "code",
      "source": [
        "img_t, _ = transformed_cifar10[99]\n",
        "\n",
        "plt.imshow(img_t.permute(1, 2, 0))\n",
        "plt.show()"
      ],
      "metadata": {
        "colab": {
          "base_uri": "https://localhost:8080/",
          "height": 283
        },
        "id": "oTK5DMybmCd1",
        "outputId": "4af184e1-e38e-467e-8898-c8f8e4a1ac37"
      },
      "execution_count": null,
      "outputs": [
        {
          "output_type": "stream",
          "name": "stderr",
          "text": [
            "Clipping input data to the valid range for imshow with RGB data ([0..1] for floats or [0..255] for integers).\n"
          ]
        },
        {
          "output_type": "display_data",
          "data": {
            "image/png": "[encoded data removed]",
            "text/plain": [
              "<Figure size 432x288 with 1 Axes>"
            ]
          },
          "metadata": {
            "needs_background": "light"
          }
        }
      ]
    },
    {
      "cell_type": "markdown",
      "source": [
        "We'll use just the airplane and bird pictures of the CIFAR10 data set to create a binary classifier."
      ],
      "metadata": {
        "id": "xES7SiBDo-Tx"
      }
    },
    {
      "cell_type": "code",
      "source": [
        "label_map = {0: 0, 2: 1}\n",
        "class_names = ['airplane', 'bird']\n",
        "cifar2 = [(img, label_map[label])\n",
        "         for img, label in transformed_cifar10\n",
        "         if label in [0, 2]]\n",
        "cifar2_val = [(img, label_map[label])\n",
        "             for img, label in transformed_cifar10_val\n",
        "             if label in [0, 2]]"
      ],
      "metadata": {
        "id": "xcwReMeYmOQR"
      },
      "execution_count": null,
      "outputs": []
    },
    {
      "cell_type": "markdown",
      "source": [
        "We could consider each pixel in our image as in input feature to our network.  Going with this approach means that each image has 3 x 32 x 32 = 3072 input features.  "
      ],
      "metadata": {
        "id": "jlotviNhrMds"
      }
    },
    {
      "cell_type": "code",
      "source": [
        "import torch.nn as nn\n",
        "\n",
        "n_out = 2\n",
        "\n",
        "model = nn.Sequential(\n",
        "            nn.Linear(\n",
        "                3072,\n",
        "                512,\n",
        "            ),\n",
        "            nn.Tanh(),\n",
        "            nn.Linear(\n",
        "                512,\n",
        "                n_out,\n",
        "            )\n",
        "        )"
      ],
      "metadata": {
        "id": "VJl16TAvriid"
      },
      "execution_count": null,
      "outputs": []
    },
    {
      "cell_type": "markdown",
      "source": [
        "We want our network to return a vector of probabilities for each class.  We can use `nn.Softmax` to ensure each element of the vector is between 0 and 1, and that the elements of the vector have a sum of 1."
      ],
      "metadata": {
        "id": "jcVBu2Jvt7rg"
      }
    },
    {
      "cell_type": "code",
      "source": [
        "softmax = nn.Softmax(dim=1)\n",
        "\n",
        "x = torch.tensor([[1.0, 2.0, 3.0],\n",
        "                 [1.0, 0.0, 5.0]])\n",
        "\n",
        "softmax(x)"
      ],
      "metadata": {
        "colab": {
          "base_uri": "https://localhost:8080/"
        },
        "id": "faVDoQvirknr",
        "outputId": "e93b3a34-3519-41cc-d9ca-ee199b5a02ab"
      },
      "execution_count": null,
      "outputs": [
        {
          "output_type": "execute_result",
          "data": {
            "text/plain": [
              "tensor([[0.0900, 0.2447, 0.6652],\n",
              "        [0.0179, 0.0066, 0.9756]])"
            ]
          },
          "metadata": {},
          "execution_count": 18
        }
      ]
    },
    {
      "cell_type": "code",
      "source": [
        "# Adding nn.Softmax to our model\n",
        "model = nn.Sequential(\n",
        "           nn.Linear(3072, 512),\n",
        "           nn.Tanh(),\n",
        "           nn.Linear(512, 2),\n",
        "           nn.Softmax(dim=1))"
      ],
      "metadata": {
        "id": "4LCDcuWwuX8y"
      },
      "execution_count": null,
      "outputs": []
    },
    {
      "cell_type": "markdown",
      "source": [
        "We can pass an image through our model even though we have not trained the model.  In order to do so, we take our images and convert them into a 1D tensor with a length of 3072 and add a batch size to the zeroth index."
      ],
      "metadata": {
        "id": "IoAnSBjAvdFe"
      }
    },
    {
      "cell_type": "code",
      "source": [
        "img, _ = cifar2[0]\n",
        "\n",
        "plt.imshow(img.permute(1, 2, 0))\n",
        "plt.show()"
      ],
      "metadata": {
        "colab": {
          "base_uri": "https://localhost:8080/",
          "height": 283
        },
        "id": "G3G7Y_54vMOv",
        "outputId": "96f5db23-e3c3-4239-a3d7-288e20bb65fe"
      },
      "execution_count": null,
      "outputs": [
        {
          "output_type": "stream",
          "name": "stderr",
          "text": [
            "Clipping input data to the valid range for imshow with RGB data ([0..1] for floats or [0..255] for integers).\n"
          ]
        },
        {
          "output_type": "display_data",
          "data": {
            "image/png": "[encoded data removed]",
            "text/plain": [
              "<Figure size 432x288 with 1 Axes>"
            ]
          },
          "metadata": {
            "needs_background": "light"
          }
        }
      ]
    },
    {
      "cell_type": "code",
      "source": [
        "img_batch = img.view(-1).unsqueeze(0)\n",
        "img_batch.size()"
      ],
      "metadata": {
        "colab": {
          "base_uri": "https://localhost:8080/"
        },
        "id": "wgkLU2SIv2y_",
        "outputId": "d28a71c1-fe04-4541-9ebd-3d5914c15c40"
      },
      "execution_count": null,
      "outputs": [
        {
          "output_type": "execute_result",
          "data": {
            "text/plain": [
              "torch.Size([1, 3072])"
            ]
          },
          "metadata": {},
          "execution_count": 21
        }
      ]
    },
    {
      "cell_type": "code",
      "source": [
        "out = model(img_batch)\n",
        "out"
      ],
      "metadata": {
        "colab": {
          "base_uri": "https://localhost:8080/"
        },
        "id": "efUbeEvWwNV8",
        "outputId": "37aa6bbb-1841-4188-83c8-89a3f2270779"
      },
      "execution_count": null,
      "outputs": [
        {
          "output_type": "execute_result",
          "data": {
            "text/plain": [
              "tensor([[0.5651, 0.4349]], grad_fn=<SoftmaxBackward0>)"
            ]
          },
          "metadata": {},
          "execution_count": 22
        }
      ]
    },
    {
      "cell_type": "markdown",
      "source": [
        "Getting the index of the maximum value along our probability vector."
      ],
      "metadata": {
        "id": "lyJLGYySyTbu"
      }
    },
    {
      "cell_type": "code",
      "source": [
        "_, index = torch.max(out, dim=1)\n",
        "index"
      ],
      "metadata": {
        "colab": {
          "base_uri": "https://localhost:8080/"
        },
        "id": "6WHVeH2Xwaai",
        "outputId": "fe8e5140-91aa-45d9-9203-c483c7677c54"
      },
      "execution_count": null,
      "outputs": [
        {
          "output_type": "execute_result",
          "data": {
            "text/plain": [
              "tensor([0])"
            ]
          },
          "metadata": {},
          "execution_count": 23
        }
      ]
    },
    {
      "cell_type": "markdown",
      "source": [
        "We update our output module to `nn.LogSoftmax`.  Our loss function will be `nn.NLLLoss` and expects a tensor of log probabilities.  "
      ],
      "metadata": {
        "id": "wOpXZTPT0IDV"
      }
    },
    {
      "cell_type": "code",
      "source": [
        "model = nn.Sequential(\n",
        "            nn.Linear(3072, 512),\n",
        "            nn.Tanh(),\n",
        "            nn.Linear(512, 2),\n",
        "            nn.LogSoftmax(dim=1))\n",
        "\n",
        "loss = nn.NLLLoss()"
      ],
      "metadata": {
        "id": "8t5afG6yycpV"
      },
      "execution_count": null,
      "outputs": []
    },
    {
      "cell_type": "code",
      "source": [
        "img, label = cifar2[0]\n",
        "out = model(img.view(-1).unsqueeze(0))\n",
        "loss(out, torch.tensor([label]))"
      ],
      "metadata": {
        "colab": {
          "base_uri": "https://localhost:8080/"
        },
        "id": "nktLrtah0kUO",
        "outputId": "4efea8cb-9083-41ed-ec86-3f15d755c11a"
      },
      "execution_count": null,
      "outputs": [
        {
          "output_type": "execute_result",
          "data": {
            "text/plain": [
              "tensor(0.6782, grad_fn=<NllLossBackward0>)"
            ]
          },
          "metadata": {},
          "execution_count": 25
        }
      ]
    },
    {
      "cell_type": "code",
      "source": [
        "import torch\n",
        "import torch.nn as nn\n",
        " \n",
        "model = nn.Sequential(\n",
        "            nn.Linear(3072, 512),\n",
        "            nn.Tanh(),\n",
        "            nn.Linear(512, 2),\n",
        "            nn.LogSoftmax(dim=1))\n",
        " \n",
        "learning_rate = 1e-2\n",
        " \n",
        "optimizer = torch.optim.SGD(model.parameters(), lr=learning_rate)\n",
        " \n",
        "loss_fn = nn.NLLLoss()\n",
        " \n",
        "n_epochs = 100\n",
        " \n",
        "for epoch in range(n_epochs):\n",
        "    for img, label in cifar2:\n",
        "        out = model(img.view(-1).unsqueeze(0))\n",
        "        loss = loss_fn(out, torch.tensor([label]))\n",
        " \n",
        "        optimizer.zero_grad()\n",
        "        loss.backward()\n",
        "        optimizer.step()\n",
        " \n",
        "    print(\"Epoch: %d, Loss: %f\" % (epoch, float(loss)))"
      ],
      "metadata": {
        "colab": {
          "base_uri": "https://localhost:8080/"
        },
        "id": "8EbmCwFGpDT4",
        "outputId": "024bf315-265a-41f5-f66a-b27b4b020308"
      },
      "execution_count": null,
      "outputs": [
        {
          "output_type": "stream",
          "name": "stdout",
          "text": [
            "Epoch: 0, Loss: 6.845407\n",
            "Epoch: 1, Loss: 9.673444\n",
            "Epoch: 2, Loss: 7.629651\n",
            "Epoch: 3, Loss: 5.111976\n",
            "Epoch: 4, Loss: 10.692270\n",
            "Epoch: 5, Loss: 17.115112\n",
            "Epoch: 6, Loss: 10.493415\n",
            "Epoch: 7, Loss: 4.963921\n",
            "Epoch: 8, Loss: 6.903820\n",
            "Epoch: 9, Loss: 2.784739\n",
            "Epoch: 10, Loss: 10.286827\n",
            "Epoch: 11, Loss: 15.874063\n",
            "Epoch: 12, Loss: 11.556452\n",
            "Epoch: 13, Loss: 14.782986\n",
            "Epoch: 14, Loss: 8.973046\n",
            "Epoch: 15, Loss: 10.812085\n",
            "Epoch: 16, Loss: 8.289096\n",
            "Epoch: 17, Loss: 4.510077\n",
            "Epoch: 18, Loss: 7.508279\n",
            "Epoch: 19, Loss: 2.097273\n",
            "Epoch: 20, Loss: 1.449826\n",
            "Epoch: 21, Loss: 7.268541\n",
            "Epoch: 22, Loss: 6.860572\n",
            "Epoch: 23, Loss: 5.089981\n",
            "Epoch: 24, Loss: 8.884204\n",
            "Epoch: 25, Loss: 12.396263\n",
            "Epoch: 26, Loss: 22.335255\n",
            "Epoch: 27, Loss: 15.376911\n",
            "Epoch: 28, Loss: 2.204850\n",
            "Epoch: 29, Loss: 14.250476\n",
            "Epoch: 30, Loss: 21.075947\n",
            "Epoch: 31, Loss: 9.577251\n",
            "Epoch: 32, Loss: 14.716429\n",
            "Epoch: 33, Loss: 13.750503\n",
            "Epoch: 34, Loss: 7.421245\n",
            "Epoch: 35, Loss: 8.344542\n",
            "Epoch: 36, Loss: 9.293303\n",
            "Epoch: 37, Loss: 9.492724\n",
            "Epoch: 38, Loss: 7.955548\n",
            "Epoch: 39, Loss: 8.689488\n",
            "Epoch: 40, Loss: 7.058166\n",
            "Epoch: 41, Loss: 9.105708\n",
            "Epoch: 42, Loss: 11.023631\n",
            "Epoch: 43, Loss: 8.504384\n",
            "Epoch: 44, Loss: 5.455893\n",
            "Epoch: 45, Loss: 6.206339\n",
            "Epoch: 46, Loss: 17.438057\n",
            "Epoch: 47, Loss: 13.172295\n",
            "Epoch: 48, Loss: 20.841393\n",
            "Epoch: 49, Loss: 9.874672\n",
            "Epoch: 50, Loss: 15.593304\n",
            "Epoch: 51, Loss: 5.842914\n",
            "Epoch: 52, Loss: 12.072767\n",
            "Epoch: 53, Loss: 7.930920\n",
            "Epoch: 54, Loss: 16.739277\n",
            "Epoch: 55, Loss: 17.561050\n",
            "Epoch: 56, Loss: 19.100697\n",
            "Epoch: 57, Loss: 3.002391\n",
            "Epoch: 58, Loss: 18.829086\n",
            "Epoch: 59, Loss: 15.304232\n",
            "Epoch: 60, Loss: 13.438125\n",
            "Epoch: 61, Loss: 19.250721\n",
            "Epoch: 62, Loss: 6.663777\n",
            "Epoch: 63, Loss: 4.774023\n",
            "Epoch: 64, Loss: 8.892693\n",
            "Epoch: 65, Loss: 6.225557\n",
            "Epoch: 66, Loss: 17.430977\n",
            "Epoch: 67, Loss: 3.271380\n",
            "Epoch: 68, Loss: 14.239652\n",
            "Epoch: 69, Loss: 7.173951\n",
            "Epoch: 70, Loss: 0.082558\n",
            "Epoch: 71, Loss: 7.583937\n",
            "Epoch: 72, Loss: 17.480442\n",
            "Epoch: 73, Loss: 18.328014\n",
            "Epoch: 74, Loss: 9.971007\n",
            "Epoch: 75, Loss: 15.759908\n",
            "Epoch: 76, Loss: 1.683244\n",
            "Epoch: 77, Loss: 10.364480\n",
            "Epoch: 78, Loss: 15.599574\n",
            "Epoch: 79, Loss: 21.604244\n",
            "Epoch: 80, Loss: 13.810296\n",
            "Epoch: 81, Loss: 20.812689\n",
            "Epoch: 82, Loss: 12.117770\n",
            "Epoch: 83, Loss: 9.830765\n",
            "Epoch: 84, Loss: 2.444990\n",
            "Epoch: 85, Loss: 0.010312\n",
            "Epoch: 86, Loss: 5.411967\n",
            "Epoch: 87, Loss: 5.658921\n",
            "Epoch: 88, Loss: 3.922597\n",
            "Epoch: 89, Loss: 0.008384\n",
            "Epoch: 90, Loss: 0.345038\n",
            "Epoch: 91, Loss: 1.184892\n",
            "Epoch: 92, Loss: 1.472251\n",
            "Epoch: 93, Loss: 0.018860\n",
            "Epoch: 94, Loss: 6.021960\n",
            "Epoch: 95, Loss: 0.268501\n",
            "Epoch: 96, Loss: 6.209421\n",
            "Epoch: 97, Loss: 6.997373\n",
            "Epoch: 98, Loss: 18.950800\n",
            "Epoch: 99, Loss: 6.366381\n"
          ]
        }
      ]
    },
    {
      "cell_type": "markdown",
      "source": [
        "Working with the `DataLoader` constructor instead of updating our gradients after each sample."
      ],
      "metadata": {
        "id": "nDd3Ryt0uA92"
      }
    },
    {
      "cell_type": "code",
      "source": [
        "import torch\n",
        "import torch.nn as nn\n",
        " \n",
        "train_loader = torch.utils.data.DataLoader(cifar2, batch_size=64,\n",
        "                                           shuffle=True)\n",
        " \n",
        "model = nn.Sequential(\n",
        "            nn.Linear(3072, 512),\n",
        "            nn.Tanh(),\n",
        "            nn.Linear(512, 2),\n",
        "            nn.LogSoftmax(dim=1))\n",
        " \n",
        "learning_rate = 1e-2\n",
        " \n",
        "optimizer = torch.optim.SGD(model.parameters(), lr=learning_rate)\n",
        " \n",
        "loss_fn = nn.NLLLoss()\n",
        " \n",
        "n_epochs = 100\n",
        " \n",
        "for epoch in range(n_epochs):\n",
        "    for imgs, labels in train_loader:\n",
        "        batch_size = imgs.shape[0]\n",
        "        outputs = model(imgs.view(batch_size, -1))\n",
        "        loss = loss_fn(outputs, labels)\n",
        " \n",
        "        optimizer.zero_grad()\n",
        "        loss.backward()\n",
        "        optimizer.step()\n",
        "    print(\"Epoch: %d, Loss: %f\" % (epoch, float(loss)))"
      ],
      "metadata": {
        "colab": {
          "base_uri": "https://localhost:8080/"
        },
        "id": "N7Fb7YXVpKBH",
        "outputId": "f7e7e497-99db-4f08-90a2-7afbe4c5c1a3"
      },
      "execution_count": null,
      "outputs": [
        {
          "output_type": "stream",
          "name": "stdout",
          "text": [
            "Epoch: 0, Loss: 0.437973\n",
            "Epoch: 1, Loss: 0.590020\n",
            "Epoch: 2, Loss: 0.334616\n",
            "Epoch: 3, Loss: 0.514271\n",
            "Epoch: 4, Loss: 0.526015\n",
            "Epoch: 5, Loss: 0.594483\n",
            "Epoch: 6, Loss: 0.434732\n",
            "Epoch: 7, Loss: 0.386263\n",
            "Epoch: 8, Loss: 0.348187\n",
            "Epoch: 9, Loss: 0.293486\n",
            "Epoch: 10, Loss: 0.232520\n",
            "Epoch: 11, Loss: 0.361443\n",
            "Epoch: 12, Loss: 0.420358\n",
            "Epoch: 13, Loss: 0.431604\n",
            "Epoch: 14, Loss: 0.280863\n",
            "Epoch: 15, Loss: 0.455049\n",
            "Epoch: 16, Loss: 0.196612\n",
            "Epoch: 17, Loss: 0.370200\n",
            "Epoch: 18, Loss: 0.245876\n",
            "Epoch: 19, Loss: 0.267010\n",
            "Epoch: 20, Loss: 0.238368\n",
            "Epoch: 21, Loss: 0.175580\n",
            "Epoch: 22, Loss: 0.345498\n",
            "Epoch: 23, Loss: 0.362575\n",
            "Epoch: 24, Loss: 0.229912\n",
            "Epoch: 25, Loss: 0.365209\n",
            "Epoch: 26, Loss: 0.217381\n",
            "Epoch: 27, Loss: 0.229726\n",
            "Epoch: 28, Loss: 0.202914\n",
            "Epoch: 29, Loss: 0.177311\n",
            "Epoch: 30, Loss: 0.269567\n",
            "Epoch: 31, Loss: 0.341395\n",
            "Epoch: 32, Loss: 0.640860\n",
            "Epoch: 33, Loss: 0.356796\n",
            "Epoch: 34, Loss: 0.174529\n",
            "Epoch: 35, Loss: 0.112439\n",
            "Epoch: 36, Loss: 0.273478\n",
            "Epoch: 37, Loss: 0.212719\n",
            "Epoch: 38, Loss: 0.182007\n",
            "Epoch: 39, Loss: 0.166112\n",
            "Epoch: 40, Loss: 0.136816\n",
            "Epoch: 41, Loss: 0.023884\n",
            "Epoch: 42, Loss: 0.051818\n",
            "Epoch: 43, Loss: 0.065451\n",
            "Epoch: 44, Loss: 0.136064\n",
            "Epoch: 45, Loss: 0.043430\n",
            "Epoch: 46, Loss: 0.294946\n",
            "Epoch: 47, Loss: 0.062637\n",
            "Epoch: 48, Loss: 0.141060\n",
            "Epoch: 49, Loss: 0.032312\n",
            "Epoch: 50, Loss: 0.028899\n",
            "Epoch: 51, Loss: 0.095380\n",
            "Epoch: 52, Loss: 0.061423\n",
            "Epoch: 53, Loss: 0.083339\n",
            "Epoch: 54, Loss: 0.133727\n",
            "Epoch: 55, Loss: 0.106933\n",
            "Epoch: 56, Loss: 0.061141\n",
            "Epoch: 57, Loss: 0.108323\n",
            "Epoch: 58, Loss: 0.064621\n",
            "Epoch: 59, Loss: 0.053563\n",
            "Epoch: 60, Loss: 0.130999\n",
            "Epoch: 61, Loss: 0.076683\n",
            "Epoch: 62, Loss: 0.063976\n",
            "Epoch: 63, Loss: 0.073469\n",
            "Epoch: 64, Loss: 0.033190\n",
            "Epoch: 65, Loss: 0.025104\n",
            "Epoch: 66, Loss: 0.088017\n",
            "Epoch: 67, Loss: 0.048390\n",
            "Epoch: 68, Loss: 0.017950\n",
            "Epoch: 69, Loss: 0.077117\n",
            "Epoch: 70, Loss: 0.013385\n",
            "Epoch: 71, Loss: 0.012275\n",
            "Epoch: 72, Loss: 0.058597\n",
            "Epoch: 73, Loss: 0.068902\n",
            "Epoch: 74, Loss: 0.043928\n",
            "Epoch: 75, Loss: 0.027764\n",
            "Epoch: 76, Loss: 0.032951\n",
            "Epoch: 77, Loss: 0.008196\n",
            "Epoch: 78, Loss: 0.036462\n",
            "Epoch: 79, Loss: 0.019709\n",
            "Epoch: 80, Loss: 0.041875\n",
            "Epoch: 81, Loss: 0.013208\n",
            "Epoch: 82, Loss: 0.046430\n",
            "Epoch: 83, Loss: 0.012700\n",
            "Epoch: 84, Loss: 0.041582\n",
            "Epoch: 85, Loss: 0.020491\n",
            "Epoch: 86, Loss: 0.016904\n",
            "Epoch: 87, Loss: 0.012579\n",
            "Epoch: 88, Loss: 0.034858\n",
            "Epoch: 89, Loss: 0.024407\n",
            "Epoch: 90, Loss: 0.012755\n",
            "Epoch: 91, Loss: 0.020433\n",
            "Epoch: 92, Loss: 0.020810\n",
            "Epoch: 93, Loss: 0.008791\n",
            "Epoch: 94, Loss: 0.006177\n",
            "Epoch: 95, Loss: 0.027610\n",
            "Epoch: 96, Loss: 0.031613\n",
            "Epoch: 97, Loss: 0.007162\n",
            "Epoch: 98, Loss: 0.031044\n",
            "Epoch: 99, Loss: 0.019691\n"
          ]
        }
      ]
    },
    {
      "cell_type": "code",
      "source": [
        "val_loader = torch.utils.data.DataLoader(cifar2_val, batch_size=64,\n",
        "                                        shuffle=False)\n",
        "\n",
        "correct = 0\n",
        "total = 0\n",
        "\n",
        "with torch.no_grad():\n",
        "   for imgs, labels in val_loader:\n",
        "       batch_size = imgs.shape[0]\n",
        "       outputs = model(imgs.view(batch_size, -1))\n",
        "       _, predicted = torch.max(outputs, dim=1)\n",
        "       total += labels.shape[0]\n",
        "       correct += int((predicted == labels).sum())\n",
        "\n",
        "print(correct)\n",
        "print(total)\n",
        "print(f\"Accuracy: {correct/total}\")"
      ],
      "metadata": {
        "colab": {
          "base_uri": "https://localhost:8080/"
        },
        "id": "OrGiW2V85h5G",
        "outputId": "1ebbb3d0-a8cb-4dab-edf5-75ee202fddef"
      },
      "execution_count": null,
      "outputs": [
        {
          "output_type": "stream",
          "name": "stdout",
          "text": [
            "1638\n",
            "2000\n",
            "Accuracy: 0.819\n"
          ]
        }
      ]
    },
    {
      "cell_type": "markdown",
      "source": [
        "Adding depth and capacity to our model in an attempt to improve performance"
      ],
      "metadata": {
        "id": "G1b0oTU--lPx"
      }
    },
    {
      "cell_type": "code",
      "source": [
        "connected_model = nn.Sequential(\n",
        "           nn.Linear(3072, 1024),\n",
        "           nn.Tanh(),\n",
        "           nn.Linear(1024, 512),\n",
        "           nn.Tanh(),\n",
        "           nn.Linear(512, 128),\n",
        "           nn.Tanh(),\n",
        "           nn.Linear(128, 2))\n",
        "\n",
        "loss_fn = nn.CrossEntropyLoss()\n",
        "\n",
        "# How many parameters is this?\n",
        "numel_list = [p.numel()\n",
        "             for p in connected_model.parameters()\n",
        "             if p.requires_grad == True]\n",
        "sum(numel_list), numel_list"
      ],
      "metadata": {
        "colab": {
          "base_uri": "https://localhost:8080/"
        },
        "id": "2emLL4186w4c",
        "outputId": "407d16b1-5604-4fe2-ff7d-03cdb9c66d46"
      },
      "execution_count": null,
      "outputs": [
        {
          "output_type": "execute_result",
          "data": {
            "text/plain": [
              "(3737474, [3145728, 1024, 524288, 512, 65536, 128, 256, 2])"
            ]
          },
          "metadata": {},
          "execution_count": 52
        }
      ]
    },
    {
      "cell_type": "markdown",
      "source": [
        "Our model thus far is not translation invariant.  A plane in one section of the image would not allow us to detect a plane in a different area of the picture even if the plane was the same image.  Convolutions will help address this."
      ],
      "metadata": {
        "id": "6ooF3x5cA53k"
      }
    },
    {
      "cell_type": "code",
      "source": [
        ""
      ],
      "metadata": {
        "id": "OWeep1lv-qYC"
      },
      "execution_count": null,
      "outputs": []
    }
  ]
}