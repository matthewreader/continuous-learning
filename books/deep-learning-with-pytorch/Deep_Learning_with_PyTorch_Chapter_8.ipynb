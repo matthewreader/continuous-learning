{
  "nbformat": 4,
  "nbformat_minor": 0,
  "metadata": {
    "colab": {
      "name": "Deep Learning with PyTorch - Chapter 8.ipynb",
      "provenance": [],
      "collapsed_sections": [],
      "authorship_tag": "ABX9TyNuAe8F/wJAqYZa3zn9xKXJ",
      "include_colab_link": true
    },
    "kernelspec": {
      "name": "python3",
      "display_name": "Python 3"
    },
    "language_info": {
      "name": "python"
    },
    "accelerator": "GPU"
  },
  "cells": [
    {
      "cell_type": "markdown",
      "metadata": {
        "id": "view-in-github",
        "colab_type": "text"
      },
      "source": [
        "<a href=\"https://colab.research.google.com/github/matthewreader/continuous-learning/blob/main/books/deep-learning-with-pytorch/Deep_Learning_with_PyTorch_Chapter_8.ipynb\" target=\"_parent\"><img src=\"https://colab.research.google.com/assets/colab-badge.svg\" alt=\"Open In Colab\"/></a>"
      ]
    },
    {
      "cell_type": "markdown",
      "source": [
        "The model created in Chapter 7 was good at memorizing the training data, but not great at generalizing to the validation data set.  "
      ],
      "metadata": {
        "id": "s4WcDxJ_SzbF"
      }
    },
    {
      "cell_type": "code",
      "source": [
        "import torch\n",
        "from google.colab import drive\n",
        "from torchvision import datasets\n",
        "from torchvision import transforms\n",
        "import torch.nn as nn\n",
        "from matplotlib import pyplot as plt\n",
        "\n",
        "drive.mount('/content/gdrive')\n",
        "GDRIVE_DATA = \"gdrive/My Drive/Colab Notebooks/Data/deep-learning-with-pytorch\"\n",
        "\n",
        "data_path = GDRIVE_DATA + '/p1ch7/'\n",
        "\n",
        "tensor_cifar10 = datasets.CIFAR10(data_path, train=True, download=False,\n",
        "                         transform=transforms.ToTensor())\n",
        "tensor_cifar10_val = datasets.CIFAR10(data_path, train=False, download=False,\n",
        "                         transform=transforms.ToTensor())\n",
        "\n",
        "label_map = {0: 0, 2: 1}\n",
        "class_names = ['airplane', 'bird']\n",
        "cifar2 = [(img, label_map[label])\n",
        "         for img, label in tensor_cifar10\n",
        "         if label in [0, 2]]\n",
        "cifar2_val = [(img, label_map[label])\n",
        "             for img, label in tensor_cifar10_val\n",
        "             if label in [0, 2]]"
      ],
      "metadata": {
        "colab": {
          "base_uri": "https://localhost:8080/"
        },
        "id": "fNIKyHSoYBYF",
        "outputId": "364254ab-1144-4090-bf72-ac7d3d5321cd"
      },
      "execution_count": 1,
      "outputs": [
        {
          "output_type": "stream",
          "name": "stdout",
          "text": [
            "Mounted at /content/gdrive\n"
          ]
        }
      ]
    },
    {
      "cell_type": "code",
      "execution_count": 2,
      "metadata": {
        "colab": {
          "base_uri": "https://localhost:8080/"
        },
        "id": "6qe398mUO0Ad",
        "outputId": "d572b029-1c82-4c6d-efca-0bee36854e06"
      },
      "outputs": [
        {
          "output_type": "execute_result",
          "data": {
            "text/plain": [
              "Conv2d(3, 16, kernel_size=(3, 3), stride=(1, 1))"
            ]
          },
          "metadata": {},
          "execution_count": 2
        }
      ],
      "source": [
        "conv = nn.Conv2d(3, 16, kernel_size=3)\n",
        "conv"
      ]
    },
    {
      "cell_type": "code",
      "source": [
        "img, _ = cifar2[0]\n",
        "output = conv(img.unsqueeze(0))\n",
        "img.unsqueeze(0).shape, output.shape"
      ],
      "metadata": {
        "colab": {
          "base_uri": "https://localhost:8080/"
        },
        "id": "70HzpJ9rWY1J",
        "outputId": "775b918e-7177-4b50-f8f7-62106d02ceba"
      },
      "execution_count": 3,
      "outputs": [
        {
          "output_type": "execute_result",
          "data": {
            "text/plain": [
              "(torch.Size([1, 3, 32, 32]), torch.Size([1, 16, 30, 30]))"
            ]
          },
          "metadata": {},
          "execution_count": 3
        }
      ]
    },
    {
      "cell_type": "code",
      "source": [
        "# Original color image\n",
        "plt.imshow(img.permute(1, 2, 0))\n",
        "plt.show()"
      ],
      "metadata": {
        "colab": {
          "base_uri": "https://localhost:8080/",
          "height": 266
        },
        "id": "kxeeZwyGYtJc",
        "outputId": "e22bfe92-3225-4ed0-c23a-91e4716f1fe3"
      },
      "execution_count": 4,
      "outputs": [
        {
          "output_type": "display_data",
          "data": {
            "image/png": "[encoded data removed]",
            "text/plain": [
              "<Figure size 432x288 with 1 Axes>"
            ]
          },
          "metadata": {
            "needs_background": "light"
          }
        }
      ]
    },
    {
      "cell_type": "code",
      "source": [
        "# Convolution output\n",
        "plt.imshow(output[0, 0].detach(), cmap='gray')\n",
        "plt.show()"
      ],
      "metadata": {
        "colab": {
          "base_uri": "https://localhost:8080/",
          "height": 266
        },
        "id": "-mod--sJYXZQ",
        "outputId": "3e55fcba-8393-4995-800e-aea65d1e0fe2"
      },
      "execution_count": 5,
      "outputs": [
        {
          "output_type": "display_data",
          "data": {
            "image/png": "[encoded data removed]",
            "text/plain": [
              "<Figure size 432x288 with 1 Axes>"
            ]
          },
          "metadata": {
            "needs_background": "light"
          }
        }
      ]
    },
    {
      "cell_type": "markdown",
      "source": [
        "Our output convolution shrank.  We can get back to a 32 x 32 output by using padding with an odd sized kernal"
      ],
      "metadata": {
        "id": "aVOI5vzeXDNz"
      }
    },
    {
      "cell_type": "code",
      "source": [
        "conv = nn.Conv2d(3, 1, kernel_size=3, padding=1)\n",
        "output = conv(img.unsqueeze(0))\n",
        "img.unsqueeze(0).shape, output.shape"
      ],
      "metadata": {
        "colab": {
          "base_uri": "https://localhost:8080/"
        },
        "id": "hkllB4CvZmu9",
        "outputId": "039117b0-e1fb-49ca-e673-a6c893cb634f"
      },
      "execution_count": 6,
      "outputs": [
        {
          "output_type": "execute_result",
          "data": {
            "text/plain": [
              "(torch.Size([1, 3, 32, 32]), torch.Size([1, 1, 32, 32]))"
            ]
          },
          "metadata": {},
          "execution_count": 6
        }
      ]
    },
    {
      "cell_type": "markdown",
      "source": [
        "Example of an edge detection kernal that will highlight vertical edges between two horizontally adjacent regions."
      ],
      "metadata": {
        "id": "fe_yQ_MNRQx0"
      }
    },
    {
      "cell_type": "code",
      "source": [
        "conv = nn.Conv2d(3, 1, kernel_size=3, padding=1)\n",
        "\n",
        "with torch.no_grad():\n",
        "   conv.weight[:] = torch.tensor([[-1.0, 0.0, 1.0],\n",
        "                                  [-1.0, 0.0, 1.0],\n",
        "                                  [-1.0, 0.0, 1.0]])\n",
        "   conv.bias.zero_()\n",
        "\n",
        "output = conv(img.unsqueeze(0))\n",
        "plt.imshow(output[0, 0].detach(), cmap='gray')\n",
        "plt.show()"
      ],
      "metadata": {
        "colab": {
          "base_uri": "https://localhost:8080/",
          "height": 266
        },
        "id": "XFad1CgJXNS4",
        "outputId": "3d39a294-80e2-4f37-aae0-e5ac0f9bb5a5"
      },
      "execution_count": 7,
      "outputs": [
        {
          "output_type": "display_data",
          "data": {
            "image/png": "[encoded data removed]",
            "text/plain": [
              "<Figure size 432x288 with 1 Axes>"
            ]
          },
          "metadata": {
            "needs_background": "light"
          }
        }
      ]
    },
    {
      "cell_type": "markdown",
      "source": [
        "Down sampling of images between successive convolutions.  The combination of convolutions and downsampling is what will help our network identify larger structures and achieve position invariance of our input images."
      ],
      "metadata": {
        "id": "AJ6TgtfeTRje"
      }
    },
    {
      "cell_type": "code",
      "source": [
        "pool = nn.MaxPool2d(2) # Downsample image by half\n",
        "output = pool(img.unsqueeze(0))\n",
        "\n",
        "img.unsqueeze(0).shape, output.shape"
      ],
      "metadata": {
        "colab": {
          "base_uri": "https://localhost:8080/"
        },
        "id": "jxJTwu8HRIaO",
        "outputId": "36ab5e97-ad79-4a7b-d798-e78f8a4bbbe1"
      },
      "execution_count": 8,
      "outputs": [
        {
          "output_type": "execute_result",
          "data": {
            "text/plain": [
              "(torch.Size([1, 3, 32, 32]), torch.Size([1, 3, 16, 16]))"
            ]
          },
          "metadata": {},
          "execution_count": 8
        }
      ]
    },
    {
      "cell_type": "markdown",
      "source": [
        "Updating our model with convolutions and max pooling"
      ],
      "metadata": {
        "id": "kau_Qa4EVf7t"
      }
    },
    {
      "cell_type": "code",
      "source": [
        "# In[23]:\n",
        "model = nn.Sequential(\n",
        "            nn.Conv2d(3, 16, kernel_size=3, padding=1),\n",
        "            nn.Tanh(),\n",
        "            nn.MaxPool2d(2),\n",
        "            nn.Conv2d(16, 8, kernel_size=3, padding=1),\n",
        "            nn.Tanh(),\n",
        "            nn.MaxPool2d(2),\n",
        "            # ...\n",
        "            nn.Linear(8 * 8 * 8, 32),\n",
        "            nn.Tanh(),\n",
        "            nn.Linear(32, 2))"
      ],
      "metadata": {
        "id": "1aEODSswTn7j"
      },
      "execution_count": 9,
      "outputs": []
    },
    {
      "cell_type": "markdown",
      "source": [
        "We could also subclass `nn.Module` to create our model.  This allows us to use the `view` method to reshape our tensor, which is not possible using `nn.Sequential`."
      ],
      "metadata": {
        "id": "_10pyNg7X7W3"
      }
    },
    {
      "cell_type": "code",
      "source": [
        "class Net(nn.Module):\n",
        "    def __init__(self):\n",
        "        super().__init__()\n",
        "        self.conv1 = nn.Conv2d(3, 16, kernel_size=3, padding=1)\n",
        "        self.act1 = nn.Tanh()\n",
        "        self.pool1 = nn.MaxPool2d(2)\n",
        "        self.conv2 = nn.Conv2d(16, 8, kernel_size=3, padding=1)\n",
        "        self.act2 = nn.Tanh()\n",
        "        self.pool2 = nn.MaxPool2d(2)\n",
        "        self.fc1 = nn.Linear(8 * 8 * 8, 32)\n",
        "        self.act3 = nn.Tanh()\n",
        "        self.fc2 = nn.Linear(32, 2)\n",
        "\n",
        "    def forward(self, x):\n",
        "        out = self.pool1(self.act1(self.conv1(x)))\n",
        "        out = self.pool2(self.act2(self.conv2(out)))\n",
        "        out = out.view(-1, 8 * 8 * 8)\n",
        "        out = self.act3(self.fc1(out))\n",
        "        out = self.fc2(out)\n",
        "        return out"
      ],
      "metadata": {
        "id": "HVoUg-9uVizB"
      },
      "execution_count": 10,
      "outputs": []
    },
    {
      "cell_type": "code",
      "source": [
        "model = Net()\n",
        "model(img.unsqueeze(0))"
      ],
      "metadata": {
        "colab": {
          "base_uri": "https://localhost:8080/"
        },
        "id": "7a2gl3PfZx0Y",
        "outputId": "2b811bd5-f71d-40d0-ab78-51b71b17eb23"
      },
      "execution_count": 11,
      "outputs": [
        {
          "output_type": "execute_result",
          "data": {
            "text/plain": [
              "tensor([[0.1665, 0.0164]], grad_fn=<AddmmBackward0>)"
            ]
          },
          "metadata": {},
          "execution_count": 11
        }
      ]
    },
    {
      "cell_type": "code",
      "source": [
        "# In[30]:\n",
        "import datetime\n",
        "\n",
        "def training_loop(n_epochs, optimizer, model, loss_fn, train_loader):\n",
        "    for epoch in range(1, n_epochs + 1):\n",
        "        loss_train = 0.0\n",
        "        for imgs, labels in train_loader:\n",
        "             outputs = model(imgs)\n",
        "             loss = loss_fn(outputs, labels)\n",
        "             optimizer.zero_grad()\n",
        "             loss.backward()\n",
        "             optimizer.step()\n",
        "             loss_train += loss.item()\n",
        " \n",
        "        if epoch == 1 or epoch % 10 == 0:\n",
        "            print('{} Epoch {}, Training loss {}'.format(\n",
        "                datetime.datetime.now(), epoch,\n",
        "                loss_train / len(train_loader)))"
      ],
      "metadata": {
        "id": "negxXp54m-3P"
      },
      "execution_count": 12,
      "outputs": []
    },
    {
      "cell_type": "code",
      "source": [
        "# In[31]:\n",
        "train_loader = torch.utils.data.DataLoader(cifar2, batch_size=64,\n",
        "                                           shuffle=True)\n",
        " \n",
        "model = Net()  #\n",
        "optimizer = torch.optim.SGD(model.parameters(), lr=1e-2)  #\n",
        "loss_fn = nn.CrossEntropyLoss()  #\n",
        " \n",
        "training_loop(\n",
        "    n_epochs = 100,\n",
        "    optimizer = optimizer,\n",
        "    model = model,\n",
        "    loss_fn = loss_fn,\n",
        "    train_loader = train_loader,\n",
        ")"
      ],
      "metadata": {
        "colab": {
          "base_uri": "https://localhost:8080/"
        },
        "id": "tDoAVhc4n3Sd",
        "outputId": "c4e7cd89-9c84-4fd6-a4f6-2b769595b2d8"
      },
      "execution_count": 13,
      "outputs": [
        {
          "output_type": "stream",
          "name": "stdout",
          "text": [
            "2022-01-07 21:29:24.058447 Epoch 1, Training loss 0.6809182482160581\n",
            "2022-01-07 21:29:59.278888 Epoch 10, Training loss 0.4632644564103169\n",
            "2022-01-07 21:30:38.654980 Epoch 20, Training loss 0.35927152776034776\n",
            "2022-01-07 21:31:18.330350 Epoch 30, Training loss 0.32546425919244243\n",
            "2022-01-07 21:31:58.468897 Epoch 40, Training loss 0.3048108479209766\n",
            "2022-01-07 21:32:37.754662 Epoch 50, Training loss 0.2863900598826682\n",
            "2022-01-07 21:33:16.571235 Epoch 60, Training loss 0.2714612551365688\n",
            "2022-01-07 21:33:55.777765 Epoch 70, Training loss 0.2578164589632848\n",
            "2022-01-07 21:34:35.493903 Epoch 80, Training loss 0.2473812000292122\n",
            "2022-01-07 21:35:14.855472 Epoch 90, Training loss 0.23515567249932867\n",
            "2022-01-07 21:35:53.832687 Epoch 100, Training loss 0.22611684878920293\n"
          ]
        }
      ]
    },
    {
      "cell_type": "code",
      "source": [
        "# In[32]:\n",
        "train_loader = torch.utils.data.DataLoader(cifar2, batch_size=64,\n",
        "                                           shuffle=False)\n",
        "val_loader = torch.utils.data.DataLoader(cifar2_val, batch_size=64,\n",
        "                                         shuffle=False)\n",
        "\n",
        "def validate(model, train_loader, val_loader):\n",
        "    for name, loader in [(\"train\", train_loader), (\"val\", val_loader)]:\n",
        "        correct = 0\n",
        "        total = 0\n",
        " \n",
        "        with torch.no_grad():\n",
        "            for imgs, labels in loader:\n",
        "                outputs = model(imgs)\n",
        "                _, predicted = torch.max(outputs, dim=1)\n",
        "                total += labels.shape[0]\n",
        "                correct += int((predicted == labels).sum())\n",
        " \n",
        "        print(\"Accuracy {}: {:.2f}\".format(name , correct / total))\n",
        " \n",
        "validate(model, train_loader, val_loader)"
      ],
      "metadata": {
        "colab": {
          "base_uri": "https://localhost:8080/"
        },
        "id": "M-IyXHhxpFLo",
        "outputId": "026213b8-d0d5-4145-83fa-cedc6caa2dfe"
      },
      "execution_count": 14,
      "outputs": [
        {
          "output_type": "stream",
          "name": "stdout",
          "text": [
            "Accuracy train: 0.91\n",
            "Accuracy val: 0.88\n"
          ]
        }
      ]
    },
    {
      "cell_type": "markdown",
      "source": [
        "Saving the weights of our model and then loading the weights back to a new instance."
      ],
      "metadata": {
        "id": "XhRe5HCjnlC2"
      }
    },
    {
      "cell_type": "code",
      "source": [
        "torch.save(model.state_dict(), data_path + 'birds_vs_airplanes.pt')"
      ],
      "metadata": {
        "id": "XGB0iR9Mpj08"
      },
      "execution_count": 15,
      "outputs": []
    },
    {
      "cell_type": "code",
      "source": [
        "loaded_model = Net()\n",
        "loaded_model.load_state_dict(torch.load(data_path\n",
        "                                        + 'birds_vs_airplanes.pt'))"
      ],
      "metadata": {
        "colab": {
          "base_uri": "https://localhost:8080/"
        },
        "id": "5_rqXOxAp19s",
        "outputId": "d5129210-eed3-4348-cbbd-6b0b5fc748f5"
      },
      "execution_count": 16,
      "outputs": [
        {
          "output_type": "execute_result",
          "data": {
            "text/plain": [
              "<All keys matched successfully>"
            ]
          },
          "metadata": {},
          "execution_count": 16
        }
      ]
    },
    {
      "cell_type": "markdown",
      "source": [
        "Training on a GPU instead of CPU can speed up training."
      ],
      "metadata": {
        "id": "QDHlhFsVq6An"
      }
    },
    {
      "cell_type": "code",
      "source": [
        "import torch\n",
        "device = (torch.device('cuda') if torch.cuda.is_available()\n",
        "         else torch.device('cpu'))\n",
        "print(f\"Training on device {device}.\")"
      ],
      "metadata": {
        "colab": {
          "base_uri": "https://localhost:8080/"
        },
        "id": "nJq7FODxp4BD",
        "outputId": "6ad3f067-113f-4260-fc8a-b46f1b9f473c"
      },
      "execution_count": 17,
      "outputs": [
        {
          "output_type": "stream",
          "name": "stdout",
          "text": [
            "Training on device cuda.\n"
          ]
        }
      ]
    },
    {
      "cell_type": "code",
      "source": [
        "import datetime\n",
        " \n",
        "def training_loop(n_epochs, optimizer, model, loss_fn, train_loader):\n",
        "    for epoch in range(1, n_epochs + 1):\n",
        "        loss_train = 0.0\n",
        "        for imgs, labels in train_loader:\n",
        "            imgs = imgs.to(device=device)\n",
        "            labels = labels.to(device=device)\n",
        "            outputs = model(imgs)\n",
        "            loss = loss_fn(outputs, labels)\n",
        " \n",
        "            optimizer.zero_grad()\n",
        "            loss.backward()\n",
        "            optimizer.step()\n",
        " \n",
        "            loss_train += loss.item()\n",
        " \n",
        "        if epoch == 1 or epoch % 10 == 0:\n",
        "            print('{} Epoch {}, Training loss {}'.format(\n",
        "                datetime.datetime.now(), epoch,\n",
        "                loss_train / len(train_loader)))"
      ],
      "metadata": {
        "id": "0_TslBiaqTbu"
      },
      "execution_count": 18,
      "outputs": []
    },
    {
      "cell_type": "markdown",
      "source": [
        "Adding L2 regularization"
      ],
      "metadata": {
        "id": "TGSW65vHgC8H"
      }
    },
    {
      "cell_type": "code",
      "source": [
        "# In[45]:\n",
        "def training_loop_l2reg(n_epochs, optimizer, model, loss_fn,\n",
        "                        train_loader):\n",
        "    for epoch in range(1, n_epochs + 1):\n",
        "        loss_train = 0.0\n",
        "        for imgs, labels in train_loader:\n",
        "            imgs = imgs.to(device=device)\n",
        "            labels = labels.to(device=device)\n",
        "            outputs = model(imgs)\n",
        "            loss = loss_fn(outputs, labels)\n",
        " \n",
        "            l2_lambda = 0.001\n",
        "            l2_norm = sum(p.pow(2.0).sum()\n",
        "                          for p in model.parameters())\n",
        "            loss = loss + l2_lambda * l2_norm\n",
        " \n",
        "            optimizer.zero_grad()\n",
        "            loss.backward()\n",
        "            optimizer.step()\n",
        " \n",
        "            loss_train += loss.item()\n",
        "        if epoch == 1 or epoch % 10 == 0:\n",
        "            print('{} Epoch {}, Training loss {}'.format(\n",
        "                datetime.datetime.now(), epoch,\n",
        "                loss_train / len(train_loader)))"
      ],
      "metadata": {
        "id": "Twr0B_sDfQ8a"
      },
      "execution_count": 20,
      "outputs": []
    },
    {
      "cell_type": "markdown",
      "source": [
        "Adding Dropout"
      ],
      "metadata": {
        "id": "_HmPio8ygwU9"
      }
    },
    {
      "cell_type": "code",
      "source": [
        "# In[47]:\n",
        "class NetDropout(nn.Module):\n",
        "   def __init__(self, n_chans1=32):\n",
        "       super().__init__()\n",
        "       self.n_chans1 = n_chans1\n",
        "       self.conv1 = nn.Conv2d(3, n_chans1, kernel_size=3, padding=1)\n",
        "       self.conv1_dropout = nn.Dropout2d(p=0.4)\n",
        "       self.conv2 = nn.Conv2d(n_chans1, n_chans1 // 2, kernel_size=3,\n",
        "                              padding=1)\n",
        "       self.conv2_dropout = nn.Dropout2d(p=0.4)\n",
        "       self.fc1 = nn.Linear(8 * 8 * n_chans1 // 2, 32)\n",
        "       self.fc2 = nn.Linear(32, 2)\n",
        "\n",
        "   def forward(self, x):\n",
        "       out = F.max_pool2d(torch.tanh(self.conv1(x)), 2)\n",
        "       out = self.conv1_dropout(out)\n",
        "       out = F.max_pool2d(torch.tanh(self.conv2(out)), 2)\n",
        "       out = self.conv2_dropout(out)\n",
        "       out = out.view(-1, 8 * 8 * self.n_chans1 // 2)\n",
        "       out = torch.tanh(self.fc1(out))\n",
        "       out = self.fc2(out)\n",
        "       return out"
      ],
      "metadata": {
        "id": "mVVcz2fTgCLh"
      },
      "execution_count": 21,
      "outputs": []
    },
    {
      "cell_type": "markdown",
      "source": [
        "Adding batch normalization"
      ],
      "metadata": {
        "id": "7SpQajPNhgZE"
      }
    },
    {
      "cell_type": "code",
      "source": [
        "class NetBatchNorm(nn.Module):\n",
        "   def __init__(self, n_chans1=32):\n",
        "       super().__init__()\n",
        "       self.n_chans1 = n_chans1\n",
        "       self.conv1 = nn.Conv2d(3, n_chans1, kernel_size=3, padding=1)\n",
        "       self.conv1_batchnorm = nn.BatchNorm2d(num_features=n_chans1)\n",
        "       self.conv2 = nn.Conv2d(n_chans1, n_chans1 // 2, kernel_size=3,\n",
        "                              padding=1)\n",
        "       self.conv2_batchnorm = nn.BatchNorm2d(num_features=n_chans1 // 2)\n",
        "       self.fc1 = nn.Linear(8 * 8 * n_chans1 // 2, 32)\n",
        "       self.fc2 = nn.Linear(32, 2)\n",
        "\n",
        "   def forward(self, x):\n",
        "       out = self.conv1_batchnorm(self.conv1(x))\n",
        "       out = F.max_pool2d(torch.tanh(out), 2)\n",
        "       out = self.conv2_batchnorm(self.conv2(out))\n",
        "       out = F.max_pool2d(torch.tanh(out), 2)\n",
        "       out = out.view(-1, 8 * 8 * self.n_chans1 // 2)\n",
        "       out = torch.tanh(self.fc1(out))\n",
        "       out = self.fc2(out)\n",
        "       return out"
      ],
      "metadata": {
        "id": "avFaHJIvgyGr"
      },
      "execution_count": 23,
      "outputs": []
    },
    {
      "cell_type": "markdown",
      "source": [
        "Adding skip connections"
      ],
      "metadata": {
        "id": "UFBYbstui08Q"
      }
    },
    {
      "cell_type": "code",
      "source": [
        "# In[51]:\n",
        "class NetDepth(nn.Module):\n",
        "   def __init__(self, n_chans1=32):\n",
        "       super().__init__()\n",
        "       self.n_chans1 = n_chans1\n",
        "       self.conv1 = nn.Conv2d(3, n_chans1, kernel_size=3, padding=1)\n",
        "       self.conv2 = nn.Conv2d(n_chans1, n_chans1 // 2, kernel_size=3,\n",
        "                              padding=1)\n",
        "       self.conv3 = nn.Conv2d(n_chans1 // 2, n_chans1 // 2,\n",
        "                              kernel_size=3, padding=1)\n",
        "       self.fc1 = nn.Linear(4 * 4 * n_chans1 // 2, 32)\n",
        "       self.fc2 = nn.Linear(32, 2)\n",
        "\n",
        "   def forward(self, x):\n",
        "       out = F.max_pool2d(torch.relu(self.conv1(x)), 2)\n",
        "       out = F.max_pool2d(torch.relu(self.conv2(out)), 2)\n",
        "       out = F.max_pool2d(torch.relu(self.conv3(out)), 2)\n",
        "       out = out.view(-1, 4 * 4 * self.n_chans1 // 2)\n",
        "       out = torch.relu(self.fc1(out))\n",
        "       out = self.fc2(out)\n",
        "       return out\n",
        "\n",
        "class NetRes(nn.Module):\n",
        "   def __init__(self, n_chans1=32):\n",
        "       super().__init__()\n",
        "       self.n_chans1 = n_chans1\n",
        "       self.conv1 = nn.Conv2d(3, n_chans1, kernel_size=3, padding=1)\n",
        "       self.conv2 = nn.Conv2d(n_chans1, n_chans1 // 2, kernel_size=3,\n",
        "                              padding=1)\n",
        "       self.conv3 = nn.Conv2d(n_chans1 // 2, n_chans1 // 2,\n",
        "                              kernel_size=3, padding=1)\n",
        "       self.fc1 = nn.Linear(4 * 4 * n_chans1 // 2, 32)\n",
        "       self.fc2 = nn.Linear(32, 2)\n",
        "\n",
        "   def forward(self, x):\n",
        "       out = F.max_pool2d(torch.relu(self.conv1(x)), 2)\n",
        "       out = F.max_pool2d(torch.relu(self.conv2(out)), 2)\n",
        "       out1 = out\n",
        "       out = F.max_pool2d(torch.relu(self.conv3(out)) + out1, 2)\n",
        "       out = out.view(-1, 4 * 4 * self.n_chans1 // 2)\n",
        "       out = torch.relu(self.fc1(out))\n",
        "       out = self.fc2(out)\n",
        "       return out"
      ],
      "metadata": {
        "id": "Vr-uELNThjtF"
      },
      "execution_count": 27,
      "outputs": []
    },
    {
      "cell_type": "markdown",
      "source": [
        "Creating a very deep network with building blocks"
      ],
      "metadata": {
        "id": "QOrY0E6Wj1jf"
      }
    },
    {
      "cell_type": "code",
      "source": [
        "# In[55]:\n",
        "class ResBlock(nn.Module):\n",
        "    def __init__(self, n_chans):\n",
        "        super(ResBlock, self).__init__()\n",
        "        self.conv = nn.Conv2d(n_chans, n_chans, kernel_size=3,\n",
        "                              padding=1, bias=False)\n",
        "        self.batch_norm = nn.BatchNorm2d(num_features=n_chans)\n",
        "        torch.nn.init.kaiming_normal_(self.conv.weight,\n",
        "                                      nonlinearity='relu')\n",
        "        torch.nn.init.constant_(self.batch_norm.weight, 0.5)\n",
        "        torch.nn.init.zeros_(self.batch_norm.bias)\n",
        " \n",
        "    def forward(self, x):\n",
        "        out = self.conv(x)\n",
        "        out = self.batch_norm(out)\n",
        "        out = torch.relu(out)\n",
        "        return out + x\n",
        "\n",
        "class NetResDeep(nn.Module):\n",
        "   def __init__(self, n_chans1=32, n_blocks=10):\n",
        "       super().__init__()\n",
        "       self.n_chans1 = n_chans1\n",
        "       self.conv1 = nn.Conv2d(3, n_chans1, kernel_size=3, padding=1)\n",
        "       self.resblocks = nn.Sequential(\n",
        "           *(n_blocks * [ResBlock(n_chans=n_chans1)]))\n",
        "       self.fc1 = nn.Linear(8 * 8 * n_chans1, 32)\n",
        "       self.fc2 = nn.Linear(32, 2)\n",
        "\n",
        "   def forward(self, x):\n",
        "       out = F.max_pool2d(torch.relu(self.conv1(x)), 2)\n",
        "       out = self.resblocks(out)\n",
        "       out = F.max_pool2d(out, 2)\n",
        "       out = out.view(-1, 8 * 8 * self.n_chans1)\n",
        "       out = torch.relu(self.fc1(out))\n",
        "       out = self.fc2(out)\n",
        "       return out"
      ],
      "metadata": {
        "id": "qdzprEugi23M"
      },
      "execution_count": 26,
      "outputs": []
    },
    {
      "cell_type": "code",
      "source": [
        ""
      ],
      "metadata": {
        "id": "E1X8OvYxj5zX"
      },
      "execution_count": null,
      "outputs": []
    }
  ]
}