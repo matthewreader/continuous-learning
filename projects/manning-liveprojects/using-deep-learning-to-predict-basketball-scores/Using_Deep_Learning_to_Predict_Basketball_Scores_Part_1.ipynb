{
  "nbformat": 4,
  "nbformat_minor": 0,
  "metadata": {
    "colab": {
      "name": "Using Deep Learning to Predict Basketball Scores - Part 1.ipynb",
      "provenance": [],
      "collapsed_sections": []
    },
    "kernelspec": {
      "name": "python3",
      "display_name": "Python 3"
    }
  },
  "cells": [
    {
      "cell_type": "markdown",
      "metadata": {
        "id": "KwRAWTuNi7DA"
      },
      "source": [
        "# Introduction\r\n",
        "This notebook will validate that we have correctly set up a Google Colab notebook, that we can create simple dataframes using `pandas`, and that we can create a simple neural network with `tensorflow` and `keras`."
      ]
    },
    {
      "cell_type": "markdown",
      "metadata": {
        "id": "smuI5dDikRib"
      },
      "source": [
        "## 1.1 - Setting up the Google Colab Notebook \r\n",
        "\r\n",
        "We first need to verify that our Colab environment has the required version of Python and Python packages installed:\r\n",
        "\r\n",
        "* Validate that Python is at least 3.6.\r\n",
        "* Validate that NumPy is at least 1.18.\r\n",
        "* Validate that pandas is at least 1.0.\r\n",
        "* Validate that TensorFlow is at least 2.2."
      ]
    },
    {
      "cell_type": "code",
      "metadata": {
        "colab": {
          "base_uri": "https://localhost:8080/"
        },
        "id": "AxyY8ThxjG5L",
        "outputId": "01892fbe-bf5c-4bc9-9319-f3d0f15c098a"
      },
      "source": [
        "import platform\r\n",
        "import numpy as np\r\n",
        "import pandas as pd\r\n",
        "import tensorflow as tf\r\n",
        "\r\n",
        "print('Python Version: {} '.format(platform.python_version()))\r\n",
        "print('NumPy Version: {} '.format(np.__version__))\r\n",
        "print('pandas Version: {} '.format(pd.__version__))\r\n",
        "print('TensorFlow Version: {} '.format(tf.__version__))"
      ],
      "execution_count": 1,
      "outputs": [
        {
          "output_type": "stream",
          "text": [
            "Python Version: 3.6.9 \n",
            "NumPy Version: 1.19.5 \n",
            "pandas Version: 1.1.5 \n",
            "TensorFlow Version: 2.4.1 \n"
          ],
          "name": "stdout"
        }
      ]
    },
    {
      "cell_type": "markdown",
      "metadata": {
        "id": "PHoACUeFogE9"
      },
      "source": [
        "## 1.2 - Manipulating Data with pandas\r\n",
        "\r\n",
        "\r\n",
        "\r\n",
        "* Create a 4 column DataFrame with 36 rows, the first column being a date field and the rest numbers.\r\n",
        "\r\n",
        "* Fill the first column with the first day of each month for 3 years (for example: 01-01-2018, 02-01-2018).\r\n",
        "\r\n",
        "* Fill the next 2 columns with random numbers.\r\n",
        "\r\n",
        "* Fill the 4th column with the difference of the first 2 data columns (for example: Col3 - Col2).\r\n",
        "\r\n",
        "* Break the DataFrame into 3 different DataFrames based on the dates (for example: 2018, 2019, 2020)"
      ]
    },
    {
      "cell_type": "code",
      "metadata": {
        "id": "Ypul4tPslq3I"
      },
      "source": [
        "num_cols = 36\r\n",
        "df = pd.DataFrame(data = {'Date': pd.date_range('2018-01-01', periods=num_cols, freq='MS'),\r\n",
        "                          'Col2': np.random.normal(loc=10, scale=2, size=num_cols),\r\n",
        "                          'Col3': np.random.normal(loc=20, scale=1, size=num_cols)})\r\n",
        "df['Col4'] = df['Col3'] - df['Col2']\r\n",
        "\r\n",
        "df_2018 = df[df['Date'].dt.year == int(2018)].copy()\r\n",
        "df_2019 = df[df['Date'].dt.year == int(2019)].copy()\r\n",
        "df_2020 = df[df['Date'].dt.year == int(2020)].copy()"
      ],
      "execution_count": 3,
      "outputs": []
    },
    {
      "cell_type": "code",
      "metadata": {
        "colab": {
          "base_uri": "https://localhost:8080/"
        },
        "id": "vWvrzWYmrrGL",
        "outputId": "0f52752e-526d-47f4-e4c2-c301fdad109d"
      },
      "source": [
        "df.info()\r\n",
        "df_2018.info()\r\n",
        "df_2019.info()\r\n",
        "df_2020.info()"
      ],
      "execution_count": 4,
      "outputs": [
        {
          "output_type": "stream",
          "text": [
            "<class 'pandas.core.frame.DataFrame'>\n",
            "RangeIndex: 36 entries, 0 to 35\n",
            "Data columns (total 4 columns):\n",
            " #   Column  Non-Null Count  Dtype         \n",
            "---  ------  --------------  -----         \n",
            " 0   Date    36 non-null     datetime64[ns]\n",
            " 1   Col2    36 non-null     float64       \n",
            " 2   Col3    36 non-null     float64       \n",
            " 3   Col4    36 non-null     float64       \n",
            "dtypes: datetime64[ns](1), float64(3)\n",
            "memory usage: 1.2 KB\n",
            "<class 'pandas.core.frame.DataFrame'>\n",
            "Int64Index: 12 entries, 0 to 11\n",
            "Data columns (total 4 columns):\n",
            " #   Column  Non-Null Count  Dtype         \n",
            "---  ------  --------------  -----         \n",
            " 0   Date    12 non-null     datetime64[ns]\n",
            " 1   Col2    12 non-null     float64       \n",
            " 2   Col3    12 non-null     float64       \n",
            " 3   Col4    12 non-null     float64       \n",
            "dtypes: datetime64[ns](1), float64(3)\n",
            "memory usage: 480.0 bytes\n",
            "<class 'pandas.core.frame.DataFrame'>\n",
            "Int64Index: 12 entries, 12 to 23\n",
            "Data columns (total 4 columns):\n",
            " #   Column  Non-Null Count  Dtype         \n",
            "---  ------  --------------  -----         \n",
            " 0   Date    12 non-null     datetime64[ns]\n",
            " 1   Col2    12 non-null     float64       \n",
            " 2   Col3    12 non-null     float64       \n",
            " 3   Col4    12 non-null     float64       \n",
            "dtypes: datetime64[ns](1), float64(3)\n",
            "memory usage: 480.0 bytes\n",
            "<class 'pandas.core.frame.DataFrame'>\n",
            "Int64Index: 12 entries, 24 to 35\n",
            "Data columns (total 4 columns):\n",
            " #   Column  Non-Null Count  Dtype         \n",
            "---  ------  --------------  -----         \n",
            " 0   Date    12 non-null     datetime64[ns]\n",
            " 1   Col2    12 non-null     float64       \n",
            " 2   Col3    12 non-null     float64       \n",
            " 3   Col4    12 non-null     float64       \n",
            "dtypes: datetime64[ns](1), float64(3)\n",
            "memory usage: 480.0 bytes\n"
          ],
          "name": "stdout"
        }
      ]
    },
    {
      "cell_type": "code",
      "metadata": {
        "colab": {
          "base_uri": "https://localhost:8080/",
          "height": 204
        },
        "id": "6hm62Ok-oU4h",
        "outputId": "b09e6aae-7791-4f6b-c938-81518c66a87b"
      },
      "source": [
        "df.head()"
      ],
      "execution_count": 5,
      "outputs": [
        {
          "output_type": "execute_result",
          "data": {
            "text/html": [
              "<div>\n",
              "<style scoped>\n",
              "    .dataframe tbody tr th:only-of-type {\n",
              "        vertical-align: middle;\n",
              "    }\n",
              "\n",
              "    .dataframe tbody tr th {\n",
              "        vertical-align: top;\n",
              "    }\n",
              "\n",
              "    .dataframe thead th {\n",
              "        text-align: right;\n",
              "    }\n",
              "</style>\n",
              "<table border=\"1\" class=\"dataframe\">\n",
              "  <thead>\n",
              "    <tr style=\"text-align: right;\">\n",
              "      <th></th>\n",
              "      <th>Date</th>\n",
              "      <th>Col2</th>\n",
              "      <th>Col3</th>\n",
              "      <th>Col4</th>\n",
              "    </tr>\n",
              "  </thead>\n",
              "  <tbody>\n",
              "    <tr>\n",
              "      <th>0</th>\n",
              "      <td>2018-01-01</td>\n",
              "      <td>9.647392</td>\n",
              "      <td>20.080084</td>\n",
              "      <td>10.432692</td>\n",
              "    </tr>\n",
              "    <tr>\n",
              "      <th>1</th>\n",
              "      <td>2018-02-01</td>\n",
              "      <td>7.312647</td>\n",
              "      <td>20.277915</td>\n",
              "      <td>12.965267</td>\n",
              "    </tr>\n",
              "    <tr>\n",
              "      <th>2</th>\n",
              "      <td>2018-03-01</td>\n",
              "      <td>12.827084</td>\n",
              "      <td>19.423024</td>\n",
              "      <td>6.595939</td>\n",
              "    </tr>\n",
              "    <tr>\n",
              "      <th>3</th>\n",
              "      <td>2018-04-01</td>\n",
              "      <td>10.067780</td>\n",
              "      <td>20.008374</td>\n",
              "      <td>9.940593</td>\n",
              "    </tr>\n",
              "    <tr>\n",
              "      <th>4</th>\n",
              "      <td>2018-05-01</td>\n",
              "      <td>6.050964</td>\n",
              "      <td>19.594223</td>\n",
              "      <td>13.543259</td>\n",
              "    </tr>\n",
              "  </tbody>\n",
              "</table>\n",
              "</div>"
            ],
            "text/plain": [
              "        Date       Col2       Col3       Col4\n",
              "0 2018-01-01   9.647392  20.080084  10.432692\n",
              "1 2018-02-01   7.312647  20.277915  12.965267\n",
              "2 2018-03-01  12.827084  19.423024   6.595939\n",
              "3 2018-04-01  10.067780  20.008374   9.940593\n",
              "4 2018-05-01   6.050964  19.594223  13.543259"
            ]
          },
          "metadata": {
            "tags": []
          },
          "execution_count": 5
        }
      ]
    },
    {
      "cell_type": "code",
      "metadata": {
        "colab": {
          "base_uri": "https://localhost:8080/",
          "height": 204
        },
        "id": "rfB8oLsAoYQs",
        "outputId": "ec71d9c6-2863-4247-fee8-e9d355c20ddb"
      },
      "source": [
        "df_2018.head()"
      ],
      "execution_count": 6,
      "outputs": [
        {
          "output_type": "execute_result",
          "data": {
            "text/html": [
              "<div>\n",
              "<style scoped>\n",
              "    .dataframe tbody tr th:only-of-type {\n",
              "        vertical-align: middle;\n",
              "    }\n",
              "\n",
              "    .dataframe tbody tr th {\n",
              "        vertical-align: top;\n",
              "    }\n",
              "\n",
              "    .dataframe thead th {\n",
              "        text-align: right;\n",
              "    }\n",
              "</style>\n",
              "<table border=\"1\" class=\"dataframe\">\n",
              "  <thead>\n",
              "    <tr style=\"text-align: right;\">\n",
              "      <th></th>\n",
              "      <th>Date</th>\n",
              "      <th>Col2</th>\n",
              "      <th>Col3</th>\n",
              "      <th>Col4</th>\n",
              "    </tr>\n",
              "  </thead>\n",
              "  <tbody>\n",
              "    <tr>\n",
              "      <th>0</th>\n",
              "      <td>2018-01-01</td>\n",
              "      <td>9.647392</td>\n",
              "      <td>20.080084</td>\n",
              "      <td>10.432692</td>\n",
              "    </tr>\n",
              "    <tr>\n",
              "      <th>1</th>\n",
              "      <td>2018-02-01</td>\n",
              "      <td>7.312647</td>\n",
              "      <td>20.277915</td>\n",
              "      <td>12.965267</td>\n",
              "    </tr>\n",
              "    <tr>\n",
              "      <th>2</th>\n",
              "      <td>2018-03-01</td>\n",
              "      <td>12.827084</td>\n",
              "      <td>19.423024</td>\n",
              "      <td>6.595939</td>\n",
              "    </tr>\n",
              "    <tr>\n",
              "      <th>3</th>\n",
              "      <td>2018-04-01</td>\n",
              "      <td>10.067780</td>\n",
              "      <td>20.008374</td>\n",
              "      <td>9.940593</td>\n",
              "    </tr>\n",
              "    <tr>\n",
              "      <th>4</th>\n",
              "      <td>2018-05-01</td>\n",
              "      <td>6.050964</td>\n",
              "      <td>19.594223</td>\n",
              "      <td>13.543259</td>\n",
              "    </tr>\n",
              "  </tbody>\n",
              "</table>\n",
              "</div>"
            ],
            "text/plain": [
              "        Date       Col2       Col3       Col4\n",
              "0 2018-01-01   9.647392  20.080084  10.432692\n",
              "1 2018-02-01   7.312647  20.277915  12.965267\n",
              "2 2018-03-01  12.827084  19.423024   6.595939\n",
              "3 2018-04-01  10.067780  20.008374   9.940593\n",
              "4 2018-05-01   6.050964  19.594223  13.543259"
            ]
          },
          "metadata": {
            "tags": []
          },
          "execution_count": 6
        }
      ]
    },
    {
      "cell_type": "code",
      "metadata": {
        "colab": {
          "base_uri": "https://localhost:8080/",
          "height": 204
        },
        "id": "yWx4CD3woYZY",
        "outputId": "0e6415d8-1a6c-4c50-a73d-5cafbfae35d6"
      },
      "source": [
        "df_2019.head()"
      ],
      "execution_count": 9,
      "outputs": [
        {
          "output_type": "execute_result",
          "data": {
            "text/html": [
              "<div>\n",
              "<style scoped>\n",
              "    .dataframe tbody tr th:only-of-type {\n",
              "        vertical-align: middle;\n",
              "    }\n",
              "\n",
              "    .dataframe tbody tr th {\n",
              "        vertical-align: top;\n",
              "    }\n",
              "\n",
              "    .dataframe thead th {\n",
              "        text-align: right;\n",
              "    }\n",
              "</style>\n",
              "<table border=\"1\" class=\"dataframe\">\n",
              "  <thead>\n",
              "    <tr style=\"text-align: right;\">\n",
              "      <th></th>\n",
              "      <th>Date</th>\n",
              "      <th>Col2</th>\n",
              "      <th>Col3</th>\n",
              "      <th>Col4</th>\n",
              "    </tr>\n",
              "  </thead>\n",
              "  <tbody>\n",
              "    <tr>\n",
              "      <th>12</th>\n",
              "      <td>2019-01-01</td>\n",
              "      <td>9.652321</td>\n",
              "      <td>21.695925</td>\n",
              "      <td>12.043604</td>\n",
              "    </tr>\n",
              "    <tr>\n",
              "      <th>13</th>\n",
              "      <td>2019-02-01</td>\n",
              "      <td>7.773237</td>\n",
              "      <td>21.919813</td>\n",
              "      <td>14.146576</td>\n",
              "    </tr>\n",
              "    <tr>\n",
              "      <th>14</th>\n",
              "      <td>2019-03-01</td>\n",
              "      <td>8.679719</td>\n",
              "      <td>20.790891</td>\n",
              "      <td>12.111172</td>\n",
              "    </tr>\n",
              "    <tr>\n",
              "      <th>15</th>\n",
              "      <td>2019-04-01</td>\n",
              "      <td>5.917910</td>\n",
              "      <td>21.804461</td>\n",
              "      <td>15.886551</td>\n",
              "    </tr>\n",
              "    <tr>\n",
              "      <th>16</th>\n",
              "      <td>2019-05-01</td>\n",
              "      <td>12.415210</td>\n",
              "      <td>20.068767</td>\n",
              "      <td>7.653557</td>\n",
              "    </tr>\n",
              "  </tbody>\n",
              "</table>\n",
              "</div>"
            ],
            "text/plain": [
              "         Date       Col2       Col3       Col4\n",
              "12 2019-01-01   9.652321  21.695925  12.043604\n",
              "13 2019-02-01   7.773237  21.919813  14.146576\n",
              "14 2019-03-01   8.679719  20.790891  12.111172\n",
              "15 2019-04-01   5.917910  21.804461  15.886551\n",
              "16 2019-05-01  12.415210  20.068767   7.653557"
            ]
          },
          "metadata": {
            "tags": []
          },
          "execution_count": 9
        }
      ]
    },
    {
      "cell_type": "code",
      "metadata": {
        "colab": {
          "base_uri": "https://localhost:8080/",
          "height": 204
        },
        "id": "5-dKtWhuoYgo",
        "outputId": "7e9ca16b-10df-4543-f091-eaa4665dad28"
      },
      "source": [
        "df_2020.head()"
      ],
      "execution_count": 10,
      "outputs": [
        {
          "output_type": "execute_result",
          "data": {
            "text/html": [
              "<div>\n",
              "<style scoped>\n",
              "    .dataframe tbody tr th:only-of-type {\n",
              "        vertical-align: middle;\n",
              "    }\n",
              "\n",
              "    .dataframe tbody tr th {\n",
              "        vertical-align: top;\n",
              "    }\n",
              "\n",
              "    .dataframe thead th {\n",
              "        text-align: right;\n",
              "    }\n",
              "</style>\n",
              "<table border=\"1\" class=\"dataframe\">\n",
              "  <thead>\n",
              "    <tr style=\"text-align: right;\">\n",
              "      <th></th>\n",
              "      <th>Date</th>\n",
              "      <th>Col2</th>\n",
              "      <th>Col3</th>\n",
              "      <th>Col4</th>\n",
              "    </tr>\n",
              "  </thead>\n",
              "  <tbody>\n",
              "    <tr>\n",
              "      <th>24</th>\n",
              "      <td>2020-01-01</td>\n",
              "      <td>8.518070</td>\n",
              "      <td>18.266322</td>\n",
              "      <td>9.748252</td>\n",
              "    </tr>\n",
              "    <tr>\n",
              "      <th>25</th>\n",
              "      <td>2020-02-01</td>\n",
              "      <td>10.956408</td>\n",
              "      <td>19.427713</td>\n",
              "      <td>8.471305</td>\n",
              "    </tr>\n",
              "    <tr>\n",
              "      <th>26</th>\n",
              "      <td>2020-03-01</td>\n",
              "      <td>10.654549</td>\n",
              "      <td>19.680034</td>\n",
              "      <td>9.025485</td>\n",
              "    </tr>\n",
              "    <tr>\n",
              "      <th>27</th>\n",
              "      <td>2020-04-01</td>\n",
              "      <td>11.043450</td>\n",
              "      <td>19.488194</td>\n",
              "      <td>8.444743</td>\n",
              "    </tr>\n",
              "    <tr>\n",
              "      <th>28</th>\n",
              "      <td>2020-05-01</td>\n",
              "      <td>10.880598</td>\n",
              "      <td>20.649653</td>\n",
              "      <td>9.769055</td>\n",
              "    </tr>\n",
              "  </tbody>\n",
              "</table>\n",
              "</div>"
            ],
            "text/plain": [
              "         Date       Col2       Col3      Col4\n",
              "24 2020-01-01   8.518070  18.266322  9.748252\n",
              "25 2020-02-01  10.956408  19.427713  8.471305\n",
              "26 2020-03-01  10.654549  19.680034  9.025485\n",
              "27 2020-04-01  11.043450  19.488194  8.444743\n",
              "28 2020-05-01  10.880598  20.649653  9.769055"
            ]
          },
          "metadata": {
            "tags": []
          },
          "execution_count": 10
        }
      ]
    },
    {
      "cell_type": "markdown",
      "metadata": {
        "id": "6EMQfCyjBHZ4"
      },
      "source": [
        "## Create a Neural Network that can Convert Celsius to Fahrenheit\r\n",
        "\r\n",
        "Basic understanding of TensorFlow and Keras will be demonstrated as a prerequisate for this Manning liveProject.\r\n",
        "\r\n",
        "* Using TensorFlow and Keras build a single layered network with a single input and a single output and a single neuron.\r\n",
        "* Using NumPy generate ~20 input/output values to test\r\n",
        "* Train the neural network on your data.\r\n",
        "* Test the neural network to see if it is working.\r\n",
        "* Examine the weights to see if they match F = C * 1.8 + 32F=C∗1.8+32."
      ]
    },
    {
      "cell_type": "code",
      "metadata": {
        "colab": {
          "base_uri": "https://localhost:8080/"
        },
        "id": "946fduM382Ac",
        "outputId": "64d449f5-ab18-4749-8b3f-23526f413392"
      },
      "source": [
        "from tensorflow import keras\r\n",
        "\r\n",
        "celsius = np.array([x*10 for x in range (-10, 15)])\r\n",
        "fahrenheit = (celsius * 1.8) + 32\r\n",
        "\r\n",
        "l0 = tf.keras.layers.Dense(units=1, input_shape=[1])\r\n",
        "model = tf.keras.Sequential([l0])\r\n",
        "\r\n",
        "model.compile(loss='mean_squared_error',\r\n",
        "              optimizer=tf.keras.optimizers.Adam(0.1))\r\n",
        "\r\n",
        "model.fit(celsius, fahrenheit, epochs=500, verbose=False)\r\n",
        "print(model.predict([100.0]))"
      ],
      "execution_count": null,
      "outputs": [
        {
          "output_type": "stream",
          "text": [
            "[[209.37314]]\n"
          ],
          "name": "stdout"
        }
      ]
    },
    {
      "cell_type": "code",
      "metadata": {
        "colab": {
          "base_uri": "https://localhost:8080/"
        },
        "id": "wal4RBGfGizK",
        "outputId": "c36e4cf3-a93b-48a7-b741-d7374c7539a8"
      },
      "source": [
        "print(\"Layer Weight (W): {}\".format(l0.get_weights()[0]))\r\n",
        "print(\"Layer Bias (b): {}\".format(l0.get_weights()[1]))"
      ],
      "execution_count": null,
      "outputs": [
        {
          "output_type": "stream",
          "text": [
            "Layer Weight (W): [[1.8148566]]\n",
            "Layer Bias (b): [27.887472]\n"
          ],
          "name": "stdout"
        }
      ]
    },
    {
      "cell_type": "markdown",
      "metadata": {
        "id": "vlwNV9VQoi5-"
      },
      "source": [
        "From above, our equation for converting fahrenheit to celsius is F = C * 1.815 + 27.887F.  Not bad for the small amount of data used to train our network!"
      ]
    },
    {
      "cell_type": "code",
      "metadata": {
        "id": "g5iu5KE8o8sw"
      },
      "source": [
        ""
      ],
      "execution_count": null,
      "outputs": []
    }
  ]
}