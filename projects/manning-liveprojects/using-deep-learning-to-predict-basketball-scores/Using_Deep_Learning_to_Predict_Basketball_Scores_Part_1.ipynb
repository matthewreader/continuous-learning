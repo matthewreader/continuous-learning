{
  "nbformat": 4,
  "nbformat_minor": 0,
  "metadata": {
    "colab": {
      "name": "Using Deep Learning to Predict Basketball Scores - Part 1.ipynb",
      "provenance": [],
      "collapsed_sections": [],
      "authorship_tag": "ABX9TyPbYY0FIZmQGcFNdNJudQxp",
      "include_colab_link": true
    },
    "kernelspec": {
      "name": "python3",
      "display_name": "Python 3"
    }
  },
  "cells": [
    {
      "cell_type": "markdown",
      "metadata": {
        "id": "view-in-github",
        "colab_type": "text"
      },
      "source": [
        "<a href=\"https://colab.research.google.com/github/matthewreader/manning-liveprojects/blob/main/Using_Deep_Learning_to_Predict_Basketball_Scores_Part_1.ipynb\" target=\"_parent\"><img src=\"https://colab.research.google.com/assets/colab-badge.svg\" alt=\"Open In Colab\"/></a>"
      ]
    },
    {
      "cell_type": "markdown",
      "metadata": {
        "id": "KwRAWTuNi7DA"
      },
      "source": [
        "# Introduction\r\n",
        "This notebook will validate that we have correctly set up a Google Colab notebook, that we can create simple dataframes using `pandas`, and that we can create a simple neural network with `tensorflow` and `keras`."
      ]
    },
    {
      "cell_type": "markdown",
      "metadata": {
        "id": "smuI5dDikRib"
      },
      "source": [
        "## 1.1 - Setting up the Google Colab Notebook \r\n",
        "\r\n",
        "We first need to verify that our Colab environment has the required version of Python and Python packages installed:\r\n",
        "\r\n",
        "* Validate that Python is at least 3.6.\r\n",
        "* Validate that NumPy is at least 1.18.\r\n",
        "* Validate that pandas is at least 1.0.\r\n",
        "* Validate that TensorFlow is at least 2.2."
      ]
    },
    {
      "cell_type": "code",
      "metadata": {
        "colab": {
          "base_uri": "https://localhost:8080/"
        },
        "id": "AxyY8ThxjG5L",
        "outputId": "627119de-2772-4eef-d9ea-3445d7db3b2d"
      },
      "source": [
        "import platform\r\n",
        "import numpy as np\r\n",
        "import pandas as pd\r\n",
        "import tensorflow as tf\r\n",
        "\r\n",
        "print('Python Version: {} '.format(platform.python_version()))\r\n",
        "print('NumPy Version: {} '.format(np.__version__))\r\n",
        "print('pandas Version: {} '.format(pd.__version__))\r\n",
        "print('TensorFlow Version: {} '.format(tf.__version__))"
      ],
      "execution_count": 1,
      "outputs": [
        {
          "output_type": "stream",
          "text": [
            "Python Version: 3.6.9 \n",
            "NumPy Version: 1.19.5 \n",
            "pandas Version: 1.1.5 \n",
            "TensorFlow Version: 2.4.0 \n"
          ],
          "name": "stdout"
        }
      ]
    },
    {
      "cell_type": "markdown",
      "metadata": {
        "id": "PHoACUeFogE9"
      },
      "source": [
        "## 1.2 - Manipulating Data with pandas\r\n",
        "\r\n",
        "\r\n",
        "\r\n",
        "* Create a 4 column DataFrame with 36 rows, the first column being a date field and the rest numbers.\r\n",
        "\r\n",
        "* Fill the first column with the first day of each month for 3 years (for example: 01-01-2018, 02-01-2018).\r\n",
        "\r\n",
        "* Fill the next 2 columns with random numbers.\r\n",
        "\r\n",
        "* Fill the 4th column with the difference of the first 2 data columns (for example: Col3 - Col2).\r\n",
        "\r\n",
        "* Break the DataFrame into 3 different DataFrames based on the dates (for example: 2018, 2019, 2020)"
      ]
    },
    {
      "cell_type": "code",
      "metadata": {
        "id": "Ypul4tPslq3I"
      },
      "source": [
        "num_cols = 36\r\n",
        "df = pd.DataFrame(data = {'Date': pd.date_range('2018-01-01', periods=num_cols, freq='MS'),\r\n",
        "                          'Col2': np.random.normal(loc=10, scale=2, size=num_cols),\r\n",
        "                          'Col3': np.random.normal(loc=20, scale=1, size=num_cols)})\r\n",
        "df['Col4'] = df['Col3'] - df['Col2']\r\n",
        "\r\n",
        "df_2018 = df[df['Date'].dt.year == int(2018)].copy()\r\n",
        "df_2019 = df[df['Date'].dt.year == int(2019)].copy()\r\n",
        "df_2020 = df[df['Date'].dt.year == int(2020)].copy()"
      ],
      "execution_count": 2,
      "outputs": []
    },
    {
      "cell_type": "code",
      "metadata": {
        "colab": {
          "base_uri": "https://localhost:8080/"
        },
        "id": "vWvrzWYmrrGL",
        "outputId": "e2abfd5b-fc9c-4aaa-ec81-cff3d646e8b0"
      },
      "source": [
        "df.info()\r\n",
        "df_2018.info()\r\n",
        "df_2019.info()\r\n",
        "df_2020.info()"
      ],
      "execution_count": 3,
      "outputs": [
        {
          "output_type": "stream",
          "text": [
            "<class 'pandas.core.frame.DataFrame'>\n",
            "RangeIndex: 36 entries, 0 to 35\n",
            "Data columns (total 4 columns):\n",
            " #   Column  Non-Null Count  Dtype         \n",
            "---  ------  --------------  -----         \n",
            " 0   Date    36 non-null     datetime64[ns]\n",
            " 1   Col2    36 non-null     float64       \n",
            " 2   Col3    36 non-null     float64       \n",
            " 3   Col4    36 non-null     float64       \n",
            "dtypes: datetime64[ns](1), float64(3)\n",
            "memory usage: 1.2 KB\n",
            "<class 'pandas.core.frame.DataFrame'>\n",
            "Int64Index: 12 entries, 0 to 11\n",
            "Data columns (total 4 columns):\n",
            " #   Column  Non-Null Count  Dtype         \n",
            "---  ------  --------------  -----         \n",
            " 0   Date    12 non-null     datetime64[ns]\n",
            " 1   Col2    12 non-null     float64       \n",
            " 2   Col3    12 non-null     float64       \n",
            " 3   Col4    12 non-null     float64       \n",
            "dtypes: datetime64[ns](1), float64(3)\n",
            "memory usage: 480.0 bytes\n",
            "<class 'pandas.core.frame.DataFrame'>\n",
            "Int64Index: 12 entries, 12 to 23\n",
            "Data columns (total 4 columns):\n",
            " #   Column  Non-Null Count  Dtype         \n",
            "---  ------  --------------  -----         \n",
            " 0   Date    12 non-null     datetime64[ns]\n",
            " 1   Col2    12 non-null     float64       \n",
            " 2   Col3    12 non-null     float64       \n",
            " 3   Col4    12 non-null     float64       \n",
            "dtypes: datetime64[ns](1), float64(3)\n",
            "memory usage: 480.0 bytes\n",
            "<class 'pandas.core.frame.DataFrame'>\n",
            "Int64Index: 12 entries, 24 to 35\n",
            "Data columns (total 4 columns):\n",
            " #   Column  Non-Null Count  Dtype         \n",
            "---  ------  --------------  -----         \n",
            " 0   Date    12 non-null     datetime64[ns]\n",
            " 1   Col2    12 non-null     float64       \n",
            " 2   Col3    12 non-null     float64       \n",
            " 3   Col4    12 non-null     float64       \n",
            "dtypes: datetime64[ns](1), float64(3)\n",
            "memory usage: 480.0 bytes\n"
          ],
          "name": "stdout"
        }
      ]
    },
    {
      "cell_type": "markdown",
      "metadata": {
        "id": "6EMQfCyjBHZ4"
      },
      "source": [
        "## Create a Neural Network that can Convert Celsius to Fahrenheit\r\n",
        "\r\n",
        "Basic understanding of TensorFlow and Keras will be demonstrated as a prerequisate for this Manning liveProject.\r\n",
        "\r\n",
        "* Using TensorFlow and Keras build a single layered network with a single input and a single output and a single neuron.\r\n",
        "* Using NumPy generate ~20 input/output values to test\r\n",
        "* Train the neural network on your data.\r\n",
        "* Test the neural network to see if it is working.\r\n",
        "* Examine the weights to see if they match F = C * 1.8 + 32F=C∗1.8+32."
      ]
    },
    {
      "cell_type": "code",
      "metadata": {
        "colab": {
          "base_uri": "https://localhost:8080/"
        },
        "id": "946fduM382Ac",
        "outputId": "64d449f5-ab18-4749-8b3f-23526f413392"
      },
      "source": [
        "from tensorflow import keras\r\n",
        "\r\n",
        "celsius = np.array([x*10 for x in range (-10, 15)])\r\n",
        "fahrenheit = (celsius * 1.8) + 32\r\n",
        "\r\n",
        "l0 = tf.keras.layers.Dense(units=1, input_shape=[1])\r\n",
        "model = tf.keras.Sequential([l0])\r\n",
        "\r\n",
        "model.compile(loss='mean_squared_error',\r\n",
        "              optimizer=tf.keras.optimizers.Adam(0.1))\r\n",
        "\r\n",
        "model.fit(celsius, fahrenheit, epochs=500, verbose=False)\r\n",
        "print(model.predict([100.0]))"
      ],
      "execution_count": 4,
      "outputs": [
        {
          "output_type": "stream",
          "text": [
            "[[209.37314]]\n"
          ],
          "name": "stdout"
        }
      ]
    },
    {
      "cell_type": "code",
      "metadata": {
        "colab": {
          "base_uri": "https://localhost:8080/"
        },
        "id": "wal4RBGfGizK",
        "outputId": "c36e4cf3-a93b-48a7-b741-d7374c7539a8"
      },
      "source": [
        "print(\"Layer Weight (W): {}\".format(l0.get_weights()[0]))\r\n",
        "print(\"Layer Bias (b): {}\".format(l0.get_weights()[1]))"
      ],
      "execution_count": 5,
      "outputs": [
        {
          "output_type": "stream",
          "text": [
            "Layer Weight (W): [[1.8148566]]\n",
            "Layer Bias (b): [27.887472]\n"
          ],
          "name": "stdout"
        }
      ]
    }
  ]
}